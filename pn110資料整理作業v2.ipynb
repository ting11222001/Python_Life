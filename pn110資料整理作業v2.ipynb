{
 "cells": [
  {
   "cell_type": "markdown",
   "metadata": {},
   "source": [
    "<h1>這次目標：</h1>\n",
    "\n",
    "這次嘗試把104人力銀行行銷企劃相關的工作2019的資料拿起來做整理：\n",
    "\n",
    "1. 想要找出：\n",
    "\t(1)資料總筆數\n",
    "\t(2)行銷企劃需要會使用的工具，主要有哪些\n",
    "\t(3)需要至少“英文中等”筆數\n",
    "\n",
    "2. 整理出一份新的csv檔案\n",
    "\t欄位名稱如下：\n",
    "\t職稱、公司名稱、縣市、鄉鎮、路名、工作時間、最高需求人數(數字)、最高月薪(數字)、更新年份、更新月份、更新日、要求年資(數字)、\n",
    "    最低學歷要求"
   ]
  },
  {
   "cell_type": "markdown",
   "metadata": {},
   "source": [
    "首先引入pandas函式庫，先確認是否成功匯入資料："
   ]
  },
  {
   "cell_type": "code",
   "execution_count": 1,
   "metadata": {},
   "outputs": [],
   "source": [
    "import pandas as pd"
   ]
  },
  {
   "cell_type": "code",
   "execution_count": 2,
   "metadata": {},
   "outputs": [
    {
     "data": {
      "text/html": [
       "<div>\n",
       "<style scoped>\n",
       "    .dataframe tbody tr th:only-of-type {\n",
       "        vertical-align: middle;\n",
       "    }\n",
       "\n",
       "    .dataframe tbody tr th {\n",
       "        vertical-align: top;\n",
       "    }\n",
       "\n",
       "    .dataframe thead th {\n",
       "        text-align: right;\n",
       "    }\n",
       "</style>\n",
       "<table border=\"1\" class=\"dataframe\">\n",
       "  <thead>\n",
       "    <tr style=\"text-align: right;\">\n",
       "      <th></th>\n",
       "      <th>Unnamed: 0</th>\n",
       "      <th>title</th>\n",
       "      <th>cName</th>\n",
       "      <th>jobCont</th>\n",
       "      <th>jobLoc</th>\n",
       "      <th>category</th>\n",
       "      <th>vacation</th>\n",
       "      <th>workT</th>\n",
       "      <th>hireNum</th>\n",
       "      <th>empType</th>\n",
       "      <th>...</th>\n",
       "      <th>tools</th>\n",
       "      <th>skills</th>\n",
       "      <th>otherReq</th>\n",
       "      <th>sabisu</th>\n",
       "      <th>insurance</th>\n",
       "      <th>entertain</th>\n",
       "      <th>bonus</th>\n",
       "      <th>contact</th>\n",
       "      <th>email</th>\n",
       "      <th>similar</th>\n",
       "    </tr>\n",
       "  </thead>\n",
       "  <tbody>\n",
       "    <tr>\n",
       "      <th>0</th>\n",
       "      <td>0</td>\n",
       "      <td>行銷企劃</td>\n",
       "      <td>華友旅行社有限公司</td>\n",
       "      <td>1.負責行銷企劃案的撰寫、規劃，籌備、執行公司對外的行銷活動與媒體活動（如：展覽、促銷活動）...</td>\n",
       "      <td>台北市大安區敦化南路二段76號8樓</td>\n",
       "      <td>行銷企劃人員、產品行銷人員、網站行銷企劃</td>\n",
       "      <td>週休二日</td>\n",
       "      <td>日班，09:00~18:00</td>\n",
       "      <td>1 人</td>\n",
       "      <td>全職</td>\n",
       "      <td>...</td>\n",
       "      <td>Windows 2000、Excel、Outlook、PowerPoint、Word、中文打...</td>\n",
       "      <td>不拘</td>\n",
       "      <td>未填寫</td>\n",
       "      <td>◆ 保險類 　1.勞保 　2.健保 ◆ 獎金/禮品類  1.年終獎金  2.三節獎金/禮品 ...</td>\n",
       "      <td>NaN</td>\n",
       "      <td>NaN</td>\n",
       "      <td>NaN</td>\n",
       "      <td>李小姐</td>\n",
       "      <td>NaN</td>\n",
       "      <td>NaN</td>\n",
       "    </tr>\n",
       "    <tr>\n",
       "      <th>1</th>\n",
       "      <td>1</td>\n",
       "      <td>行銷企劃</td>\n",
       "      <td>羊舍鮮羊乳_健豪農產品商行</td>\n",
       "      <td>1. 品牌行銷策略的擬定與有效執行 2. 官網管理：產品上架、產品文案撰寫與Banner製作...</td>\n",
       "      <td>彰化縣彰化市河濱路475號</td>\n",
       "      <td>行銷企劃主管、行銷企劃人員、產品行銷人員</td>\n",
       "      <td>週休二日</td>\n",
       "      <td>日班</td>\n",
       "      <td>1 人</td>\n",
       "      <td>全職</td>\n",
       "      <td>...</td>\n",
       "      <td>Excel、PowerPoint、Word、Google Analytics、Adobe P...</td>\n",
       "      <td>文書處理╱排版能力、行銷製作物規劃與執行、品牌行銷管理、異業合作規劃與執行、提案與簡報技巧、...</td>\n",
       "      <td>【加分條件】 －熟悉SHOPLINE後臺操作 －有拍攝影片及剪接經驗 －善ＧＡ分析 －團購/...</td>\n",
       "      <td>尚未提供</td>\n",
       "      <td>NaN</td>\n",
       "      <td>NaN</td>\n",
       "      <td>NaN</td>\n",
       "      <td>曾小姐</td>\n",
       "      <td>goatbarnmk@gmail.com</td>\n",
       "      <td>NaN</td>\n",
       "    </tr>\n",
       "    <tr>\n",
       "      <th>2</th>\n",
       "      <td>2</td>\n",
       "      <td>行銷企劃</td>\n",
       "      <td>吉品養生股份有限公司</td>\n",
       "      <td>我們要尋找台灣飲食產業的開創者   對於飲食有高度的熱情，同時熟知市場動態  關注各種新創商...</td>\n",
       "      <td>台北市大安區忠孝東路4段212號10樓</td>\n",
       "      <td>行銷企劃人員、行銷企劃助理、產品企劃開發人員</td>\n",
       "      <td>週休二日</td>\n",
       "      <td>日班</td>\n",
       "      <td>不限</td>\n",
       "      <td>全職</td>\n",
       "      <td>...</td>\n",
       "      <td>不拘</td>\n",
       "      <td>不拘</td>\n",
       "      <td>● 工作需求  1. 產品與專案開發、行銷、策略規劃與分析…等相關工作經驗兩年以上  2. ...</td>\n",
       "      <td>◆ 保險類  1.勞保  2.健保 ◆ 其他  1.員工購物優惠         2.節慶獎...</td>\n",
       "      <td>NaN</td>\n",
       "      <td>NaN</td>\n",
       "      <td>NaN</td>\n",
       "      <td>陳先生</td>\n",
       "      <td>NaN</td>\n",
       "      <td>NaN</td>\n",
       "    </tr>\n",
       "  </tbody>\n",
       "</table>\n",
       "<p>3 rows × 29 columns</p>\n",
       "</div>"
      ],
      "text/plain": [
       "   Unnamed: 0 title          cName  \\\n",
       "0           0  行銷企劃      華友旅行社有限公司   \n",
       "1           1  行銷企劃  羊舍鮮羊乳_健豪農產品商行   \n",
       "2           2  行銷企劃     吉品養生股份有限公司   \n",
       "\n",
       "                                             jobCont               jobLoc  \\\n",
       "0  1.負責行銷企劃案的撰寫、規劃，籌備、執行公司對外的行銷活動與媒體活動（如：展覽、促銷活動）...    台北市大安區敦化南路二段76號8樓   \n",
       "1  1. 品牌行銷策略的擬定與有效執行 2. 官網管理：產品上架、產品文案撰寫與Banner製作...        彰化縣彰化市河濱路475號   \n",
       "2  我們要尋找台灣飲食產業的開創者   對於飲食有高度的熱情，同時熟知市場動態  關注各種新創商...  台北市大安區忠孝東路4段212號10樓   \n",
       "\n",
       "                 category vacation           workT hireNum empType  ...  \\\n",
       "0    行銷企劃人員、產品行銷人員、網站行銷企劃     週休二日  日班，09:00~18:00     1 人      全職  ...   \n",
       "1    行銷企劃主管、行銷企劃人員、產品行銷人員     週休二日              日班     1 人      全職  ...   \n",
       "2  行銷企劃人員、行銷企劃助理、產品企劃開發人員     週休二日              日班      不限      全職  ...   \n",
       "\n",
       "                                               tools  \\\n",
       "0  Windows 2000、Excel、Outlook、PowerPoint、Word、中文打...   \n",
       "1  Excel、PowerPoint、Word、Google Analytics、Adobe P...   \n",
       "2                                                 不拘   \n",
       "\n",
       "                                              skills  \\\n",
       "0                                                 不拘   \n",
       "1  文書處理╱排版能力、行銷製作物規劃與執行、品牌行銷管理、異業合作規劃與執行、提案與簡報技巧、...   \n",
       "2                                                 不拘   \n",
       "\n",
       "                                            otherReq  \\\n",
       "0                                                未填寫   \n",
       "1  【加分條件】 －熟悉SHOPLINE後臺操作 －有拍攝影片及剪接經驗 －善ＧＡ分析 －團購/...   \n",
       "2  ● 工作需求  1. 產品與專案開發、行銷、策略規劃與分析…等相關工作經驗兩年以上  2. ...   \n",
       "\n",
       "                                              sabisu insurance entertain  \\\n",
       "0  ◆ 保險類 　1.勞保 　2.健保 ◆ 獎金/禮品類  1.年終獎金  2.三節獎金/禮品 ...       NaN       NaN   \n",
       "1                                               尚未提供       NaN       NaN   \n",
       "2  ◆ 保險類  1.勞保  2.健保 ◆ 其他  1.員工購物優惠         2.節慶獎...       NaN       NaN   \n",
       "\n",
       "  bonus contact                 email similar  \n",
       "0   NaN     李小姐                   NaN     NaN  \n",
       "1   NaN     曾小姐  goatbarnmk@gmail.com     NaN  \n",
       "2   NaN     陳先生                   NaN     NaN  \n",
       "\n",
       "[3 rows x 29 columns]"
      ]
     },
     "execution_count": 2,
     "metadata": {},
     "output_type": "execute_result"
    }
   ],
   "source": [
    "data = pd.read_csv('104行銷企劃拷貝.csv',sep=',')\n",
    "data.head(3)"
   ]
  },
  {
   "cell_type": "markdown",
   "metadata": {},
   "source": [
    "先確認資料細節, 有沒有null項和總資料數："
   ]
  },
  {
   "cell_type": "code",
   "execution_count": 3,
   "metadata": {},
   "outputs": [
    {
     "name": "stdout",
     "output_type": "stream",
     "text": [
      "<class 'pandas.core.frame.DataFrame'>\n",
      "RangeIndex: 3010 entries, 0 to 3009\n",
      "Data columns (total 29 columns):\n",
      " #   Column      Non-Null Count  Dtype  \n",
      "---  ------      --------------  -----  \n",
      " 0   Unnamed: 0  3010 non-null   int64  \n",
      " 1   title       3010 non-null   object \n",
      " 2   cName       3010 non-null   object \n",
      " 3   jobCont     3010 non-null   object \n",
      " 4   jobLoc      3010 non-null   object \n",
      " 5   category    3010 non-null   object \n",
      " 6   vacation    3010 non-null   object \n",
      " 7   workT       3010 non-null   object \n",
      " 8   hireNum     3010 non-null   object \n",
      " 9   empType     3010 non-null   object \n",
      " 10  manage      3010 non-null   object \n",
      " 11  busTrip     3010 non-null   object \n",
      " 12  salary      3010 non-null   object \n",
      " 13  job_update  3010 non-null   object \n",
      " 14  accept      3010 non-null   object \n",
      " 15  workExp     3010 non-null   object \n",
      " 16  edu         3010 non-null   object \n",
      " 17  department  3010 non-null   object \n",
      " 18  lan         3010 non-null   object \n",
      " 19  tools       3010 non-null   object \n",
      " 20  skills      3010 non-null   object \n",
      " 21  otherReq    3010 non-null   object \n",
      " 22  sabisu      3010 non-null   object \n",
      " 23  insurance   0 non-null      float64\n",
      " 24  entertain   0 non-null      float64\n",
      " 25  bonus       0 non-null      float64\n",
      " 26  contact     3010 non-null   object \n",
      " 27  email       469 non-null    object \n",
      " 28  similar     0 non-null      float64\n",
      "dtypes: float64(4), int64(1), object(24)\n",
      "memory usage: 682.1+ KB\n"
     ]
    }
   ],
   "source": [
    "data.info()"
   ]
  },
  {
   "cell_type": "markdown",
   "metadata": {},
   "source": [
    "所以可以看到這份資料的總筆數\n",
    "\n",
    "<h3>總共是：3010筆</h3>"
   ]
  },
  {
   "cell_type": "markdown",
   "metadata": {},
   "source": [
    "<h2>接下來整理技能tools欄位來看行銷企劃最主要的工作技能有哪些</h2>"
   ]
  },
  {
   "cell_type": "markdown",
   "metadata": {},
   "source": [
    "首先把每一個工作職缺的技能一個個拆開："
   ]
  },
  {
   "cell_type": "code",
   "execution_count": 4,
   "metadata": {},
   "outputs": [
    {
     "data": {
      "text/html": [
       "<div>\n",
       "<style scoped>\n",
       "    .dataframe tbody tr th:only-of-type {\n",
       "        vertical-align: middle;\n",
       "    }\n",
       "\n",
       "    .dataframe tbody tr th {\n",
       "        vertical-align: top;\n",
       "    }\n",
       "\n",
       "    .dataframe thead th {\n",
       "        text-align: right;\n",
       "    }\n",
       "</style>\n",
       "<table border=\"1\" class=\"dataframe\">\n",
       "  <thead>\n",
       "    <tr style=\"text-align: right;\">\n",
       "      <th></th>\n",
       "      <th>0</th>\n",
       "      <th>1</th>\n",
       "      <th>2</th>\n",
       "      <th>3</th>\n",
       "      <th>4</th>\n",
       "      <th>5</th>\n",
       "      <th>6</th>\n",
       "      <th>7</th>\n",
       "      <th>8</th>\n",
       "    </tr>\n",
       "  </thead>\n",
       "  <tbody>\n",
       "    <tr>\n",
       "      <th>0</th>\n",
       "      <td>Windows 2000</td>\n",
       "      <td>Excel</td>\n",
       "      <td>Outlook</td>\n",
       "      <td>PowerPoint</td>\n",
       "      <td>Word</td>\n",
       "      <td>中文打字20~50</td>\n",
       "      <td>英文打字20~50</td>\n",
       "      <td>None</td>\n",
       "      <td>None</td>\n",
       "    </tr>\n",
       "    <tr>\n",
       "      <th>1</th>\n",
       "      <td>Excel</td>\n",
       "      <td>PowerPoint</td>\n",
       "      <td>Word</td>\n",
       "      <td>Google Analytics</td>\n",
       "      <td>Adobe Photoshop</td>\n",
       "      <td>Illustrator</td>\n",
       "      <td>None</td>\n",
       "      <td>None</td>\n",
       "      <td>None</td>\n",
       "    </tr>\n",
       "    <tr>\n",
       "      <th>2</th>\n",
       "      <td>不拘</td>\n",
       "      <td>None</td>\n",
       "      <td>None</td>\n",
       "      <td>None</td>\n",
       "      <td>None</td>\n",
       "      <td>None</td>\n",
       "      <td>None</td>\n",
       "      <td>None</td>\n",
       "      <td>None</td>\n",
       "    </tr>\n",
       "    <tr>\n",
       "      <th>3</th>\n",
       "      <td>不拘</td>\n",
       "      <td>None</td>\n",
       "      <td>None</td>\n",
       "      <td>None</td>\n",
       "      <td>None</td>\n",
       "      <td>None</td>\n",
       "      <td>None</td>\n",
       "      <td>None</td>\n",
       "      <td>None</td>\n",
       "    </tr>\n",
       "    <tr>\n",
       "      <th>4</th>\n",
       "      <td>不拘</td>\n",
       "      <td>None</td>\n",
       "      <td>None</td>\n",
       "      <td>None</td>\n",
       "      <td>None</td>\n",
       "      <td>None</td>\n",
       "      <td>None</td>\n",
       "      <td>None</td>\n",
       "      <td>None</td>\n",
       "    </tr>\n",
       "    <tr>\n",
       "      <th>5</th>\n",
       "      <td>不拘</td>\n",
       "      <td>None</td>\n",
       "      <td>None</td>\n",
       "      <td>None</td>\n",
       "      <td>None</td>\n",
       "      <td>None</td>\n",
       "      <td>None</td>\n",
       "      <td>None</td>\n",
       "      <td>None</td>\n",
       "    </tr>\n",
       "    <tr>\n",
       "      <th>6</th>\n",
       "      <td>Excel</td>\n",
       "      <td>PowerPoint</td>\n",
       "      <td>Word</td>\n",
       "      <td>中文打字50~75</td>\n",
       "      <td>英文打字50~75</td>\n",
       "      <td>None</td>\n",
       "      <td>None</td>\n",
       "      <td>None</td>\n",
       "      <td>None</td>\n",
       "    </tr>\n",
       "    <tr>\n",
       "      <th>7</th>\n",
       "      <td>不拘</td>\n",
       "      <td>None</td>\n",
       "      <td>None</td>\n",
       "      <td>None</td>\n",
       "      <td>None</td>\n",
       "      <td>None</td>\n",
       "      <td>None</td>\n",
       "      <td>None</td>\n",
       "      <td>None</td>\n",
       "    </tr>\n",
       "    <tr>\n",
       "      <th>8</th>\n",
       "      <td>不拘</td>\n",
       "      <td>None</td>\n",
       "      <td>None</td>\n",
       "      <td>None</td>\n",
       "      <td>None</td>\n",
       "      <td>None</td>\n",
       "      <td>None</td>\n",
       "      <td>None</td>\n",
       "      <td>None</td>\n",
       "    </tr>\n",
       "    <tr>\n",
       "      <th>9</th>\n",
       "      <td>不拘</td>\n",
       "      <td>None</td>\n",
       "      <td>None</td>\n",
       "      <td>None</td>\n",
       "      <td>None</td>\n",
       "      <td>None</td>\n",
       "      <td>None</td>\n",
       "      <td>None</td>\n",
       "      <td>None</td>\n",
       "    </tr>\n",
       "  </tbody>\n",
       "</table>\n",
       "</div>"
      ],
      "text/plain": [
       "              0           1        2                 3                4  \\\n",
       "0  Windows 2000       Excel  Outlook        PowerPoint             Word   \n",
       "1         Excel  PowerPoint     Word  Google Analytics  Adobe Photoshop   \n",
       "2            不拘        None     None              None             None   \n",
       "3            不拘        None     None              None             None   \n",
       "4            不拘        None     None              None             None   \n",
       "5            不拘        None     None              None             None   \n",
       "6         Excel  PowerPoint     Word         中文打字50~75        英文打字50~75   \n",
       "7            不拘        None     None              None             None   \n",
       "8            不拘        None     None              None             None   \n",
       "9            不拘        None     None              None             None   \n",
       "\n",
       "             5          6     7     8  \n",
       "0    中文打字20~50  英文打字20~50  None  None  \n",
       "1  Illustrator       None  None  None  \n",
       "2         None       None  None  None  \n",
       "3         None       None  None  None  \n",
       "4         None       None  None  None  \n",
       "5         None       None  None  None  \n",
       "6         None       None  None  None  \n",
       "7         None       None  None  None  \n",
       "8         None       None  None  None  \n",
       "9         None       None  None  None  "
      ]
     },
     "execution_count": 4,
     "metadata": {},
     "output_type": "execute_result"
    }
   ],
   "source": [
    "new = data['tools'].str.split(\"、\", expand = True)\n",
    "new.head(10)"
   ]
  },
  {
   "cell_type": "markdown",
   "metadata": {},
   "source": [
    "但每一欄需要被重新整合才能方便統計每個技能的數量，所以重新把打散的欄位合成一個大的list："
   ]
  },
  {
   "cell_type": "code",
   "execution_count": 5,
   "metadata": {},
   "outputs": [
    {
     "name": "stdout",
     "output_type": "stream",
     "text": [
      "['Windows 2000', 'Excel', '不拘', '不拘', '不拘', '不拘', 'Excel', '不拘', '不拘', '不拘', '不拘', 'Excel', '不拘', '不拘', '不拘', 'PowerPoint', 'Excel', '不拘', '不拘', '不拘', '不拘', '不拘', '不拘', '不拘', 'PowerPoint', 'HTML', 'Windows 2000', '不拘', '不拘', '不拘', '不拘', 'Excel', '不拘', 'Excel', '不拘', 'Excel', '不拘', '不拘', 'Excel', '不拘', 'Excel', '不拘', '不拘', '不拘', 'Adobe Photoshop', '不拘', '不拘', 'Windows 2000', '不拘', '不拘', '不拘', 'HTML', 'Excel', '不拘', '不拘', '不拘', '不拘', '不拘', '不拘', '不拘', 'Windows 2000', 'Excel', '不拘', '不拘', '不拘', '不拘', 'Excel', '不拘', '不拘', '不拘', '不拘', 'Excel', '不拘', '不拘', '不拘', 'PowerPoint', 'Excel', '不拘', '不拘', '不拘', '不拘', '不拘', '不拘', '不拘', 'PowerPoint', 'HTML', 'Windows 2000', '不拘', '不拘', '不拘', '不拘', 'Excel', '不拘', 'Excel', '不拘', 'Excel', '不拘', '不拘', 'Excel', '不拘', 'Windows 2000', 'Excel', '不拘', '不拘', '不拘', '不拘', 'Excel', '不拘', '不拘', '不拘', '不拘', 'Excel', '不拘', '不拘', '不拘', 'PowerPoint', 'Excel', '不拘', '不拘', '不拘', 'Windows 2000', 'Excel', '不拘', '不拘', '不拘', '不拘', 'Excel', '不拘', '不拘', '不拘', '不拘', 'Excel', '不拘', '不拘', '不拘', 'PowerPoint', 'Excel', '不拘', '不拘', '不拘', 'Excel', '不拘', '不拘', '不拘', 'Adobe Photoshop', '不拘', '不拘', 'Windows 2000', '不拘', '不拘', '不拘', 'HTML', 'Excel', '不拘', '不拘', '不拘', '不拘', '不拘', '不拘', '不拘', 'Windows 2000', 'Excel', '不拘', '不拘', '不拘', '不拘', 'Excel', '不拘', '不拘', '不拘', '不拘', 'Excel', '不拘', '不拘', '不拘', 'PowerPoint', 'Excel', '不拘', '不拘', '不拘', 'Windows 2000', 'Excel', '不拘', '不拘', '不拘', '不拘', 'Excel', '不拘', '不拘', '不拘', '不拘', 'Excel', '不拘', '不拘', '不拘', 'PowerPoint', 'Excel', '不拘', '不拘', '不拘', 'Excel', '不拘', '不拘', '不拘', 'Adobe Photoshop', '不拘', '不拘', 'Windows 2000', '不拘', '不拘', '不拘', 'HTML', 'Excel', '不拘', '不拘', '不拘', '不拘', '不拘', '不拘', '不拘', 'Windows 2000', 'Excel', '不拘', '不拘', '不拘', '不拘', 'Excel', '不拘', '不拘', '不拘', '不拘', 'Excel', '不拘', '不拘', '不拘', 'PowerPoint', 'Excel', '不拘', '不拘', '不拘', 'Windows 2000', 'Excel', '不拘', '不拘', '不拘', '不拘', 'Excel', '不拘', '不拘', '不拘', '不拘', '不拘', 'Excel', '不拘', '不拘', 'PowerPoint', 'Excel', '不拘', '不拘', '不拘', 'Windows 2000', 'Excel', '不拘', '不拘', '不拘', '不拘', 'Excel', '不拘', '不拘', '不拘', '不拘', 'Excel', '不拘', '不拘', '不拘', 'PowerPoint', 'Excel', '不拘', '不拘', '不拘', 'Excel', '不拘', '不拘', '不拘', 'Adobe Photoshop', '不拘', '不拘', 'Windows 2000', '不拘', '不拘', '不拘', 'HTML', 'Excel', '不拘', '不拘', '不拘', '不拘', '不拘', '不拘', '不拘', 'Excel', '不拘', '不拘', '不拘', 'Adobe Photoshop', '不拘', '不拘', 'Windows 2000', '不拘', '不拘', '不拘', 'HTML', 'Excel', '不拘', '不拘', '不拘', '不拘', '不拘', '不拘', '不拘', '不拘', '不拘', '不拘', '不拘', 'PowerPoint', 'HTML', 'Windows 2000', '不拘', '不拘', '不拘', '不拘', 'Excel', '不拘', 'Excel', '不拘', 'Excel', '不拘', '不拘', 'Excel', '不拘', 'Windows 2000', 'Excel', '不拘', '不拘', '不拘', '不拘', 'Excel', '不拘', '不拘', '不拘', '不拘', '不拘', 'Excel', '不拘', '不拘', 'PowerPoint', 'Excel', '不拘', '不拘', '不拘', '不拘', '不拘', '不拘', '不拘', 'PowerPoint', 'HTML', 'Windows 2000', '不拘', '不拘', '不拘', '不拘', 'Excel', '不拘', 'Excel', '不拘', 'Excel', '不拘', '不拘', 'Excel', '不拘', 'Windows 2000', 'Excel', '不拘', '不拘', '不拘', '不拘', 'Excel', '不拘', '不拘', '不拘', '不拘', '不拘', 'Excel', '不拘', '不拘', 'PowerPoint', 'Excel', '不拘', '不拘', '不拘', '不拘', '不拘', '不拘', '不拘', 'PowerPoint', 'HTML', 'Windows 2000', '不拘', '不拘', '不拘', '不拘', 'Excel', '不拘', 'Excel', '不拘', 'Excel', '不拘', '不拘', 'Excel', '不拘', 'Windows 2000', 'Excel', '不拘', '不拘', '不拘', '不拘', 'Excel', '不拘', '不拘', '不拘', '不拘', '不拘', 'Excel', '不拘', '不拘', 'PowerPoint', 'Excel', '不拘', '不拘', '不拘', 'Windows 2000', 'Excel', '不拘', '不拘', '不拘', '不拘', 'Excel', '不拘', '不拘', '不拘', '不拘', '不拘', 'Excel', '不拘', '不拘', 'PowerPoint', 'Excel', '不拘', '不拘', '不拘', 'Windows 2000', 'Excel', '不拘', '不拘', '不拘', '不拘', 'Excel', '不拘', '不拘', '不拘', '不拘', 'Excel', '不拘', '不拘', '不拘', 'PowerPoint', 'Excel', '不拘', '不拘', '不拘', 'Windows 2000', 'Excel', '不拘', '不拘', '不拘', '不拘', 'Excel', '不拘', '不拘', '不拘', '不拘', 'Excel', '不拘', '不拘', '不拘', 'PowerPoint', 'Excel', '不拘', '不拘', '不拘', 'Windows 2000', 'Excel', '不拘', '不拘', '不拘', '不拘', 'Excel', '不拘', '不拘', '不拘', '不拘', 'Excel', '不拘', '不拘', '不拘', 'PowerPoint', 'Excel', '不拘', '不拘', '不拘', 'Windows 2000', 'Excel', '不拘', '不拘', '不拘', '不拘', 'Excel', '不拘', '不拘', '不拘', '不拘', 'Excel', '不拘', '不拘', '不拘', 'PowerPoint', 'Excel', '不拘', '不拘', '不拘', 'Windows 2000', 'Excel', '不拘', '不拘', '不拘', '不拘', 'Excel', '不拘', '不拘', '不拘', '不拘', 'Excel', '不拘', '不拘', '不拘', 'PowerPoint', 'Excel', '不拘', '不拘', '不拘', 'Windows 2000', 'Excel', '不拘', '不拘', '不拘', '不拘', 'Excel', '不拘', '不拘', '不拘', '不拘', 'Excel', '不拘', '不拘', '不拘', 'PowerPoint', 'Excel', '不拘', '不拘', '不拘', '不拘', '不拘', '不拘', '不拘', 'PowerPoint', 'HTML', 'Windows 2000', '不拘', '不拘', '不拘', '不拘', 'Excel', '不拘', 'Excel', '不拘', 'Excel', '不拘', '不拘', 'Excel', '不拘', 'Excel', '不拘', '不拘', '不拘', 'Adobe Photoshop', '不拘', '不拘', 'Windows 2000', '不拘', '不拘', '不拘', 'HTML', 'Excel', '不拘', '不拘', '不拘', '不拘', '不拘', '不拘', '不拘', '不拘', '不拘', '不拘', '不拘', 'PowerPoint', 'HTML', 'Windows 2000', '不拘', '不拘', '不拘', '不拘', 'Excel', '不拘', 'Excel', '不拘', 'Excel', '不拘', '不拘', 'Excel', '不拘', 'Windows 2000', 'Excel', '不拘', '不拘', '不拘', '不拘', 'Excel', '不拘', '不拘', '不拘', '不拘', '不拘', 'Excel', '不拘', '不拘', 'PowerPoint', 'Excel', '不拘', '不拘', '不拘', '不拘', '不拘', '不拘', '不拘', 'PowerPoint', 'HTML', 'Windows 2000', '不拘', '不拘', '不拘', '不拘', 'Excel', '不拘', 'Excel', '不拘', 'Excel', '不拘', '不拘', 'Excel', '不拘', 'Excel', '不拘', '不拘', '不拘', 'Adobe Photoshop', '不拘', '不拘', 'Windows 2000', '不拘', '不拘', '不拘', 'HTML', 'Excel', '不拘', '不拘', '不拘', '不拘', '不拘', '不拘', '不拘', 'Windows 2000', 'Excel', '不拘', '不拘', '不拘', '不拘', 'Excel', '不拘', '不拘', '不拘', '不拘', 'Excel', '不拘', '不拘', '不拘', 'PowerPoint', 'Excel', '不拘', '不拘', '不拘', 'Windows 2000', 'Excel', '不拘', '不拘', '不拘', '不拘', 'Excel', '不拘', '不拘', '不拘', '不拘', 'Excel', '不拘', '不拘', '不拘', 'PowerPoint', 'Excel', '不拘', '不拘', '不拘', 'Windows 2000', 'Excel', '不拘', '不拘', '不拘', '不拘', 'Excel', '不拘', '不拘', '不拘', '不拘', 'Excel', '不拘', '不拘', '不拘', 'PowerPoint', 'Excel', '不拘', '不拘', '不拘', 'Windows 2000', 'Excel', '不拘', '不拘', '不拘', '不拘', 'Excel', '不拘', '不拘', '不拘', '不拘', '不拘', 'Excel', '不拘', '不拘', 'PowerPoint', 'Excel', '不拘', '不拘', '不拘', 'Windows 2000', 'Excel', '不拘', '不拘', '不拘', '不拘', 'Excel', '不拘', '不拘', '不拘', '不拘', '不拘', 'Excel', '不拘', '不拘', 'PowerPoint', 'Excel', '不拘', '不拘', '不拘', 'Windows 2000', 'Excel', '不拘', '不拘', '不拘', '不拘', 'Excel', '不拘', '不拘', '不拘', '不拘', 'Excel', '不拘', '不拘', '不拘', 'PowerPoint', 'Excel', '不拘', '不拘', '不拘', '不拘', '不拘', '不拘', '不拘', 'PowerPoint', 'HTML', 'Windows 2000', '不拘', '不拘', '不拘', '不拘', 'Excel', '不拘', 'Excel', '不拘', 'Excel', '不拘', '不拘', 'Excel', '不拘', 'Windows 2000', 'Excel', '不拘', '不拘', '不拘', '不拘', 'Excel', '不拘', '不拘', '不拘', '不拘', 'Excel', '不拘', '不拘', '不拘', 'PowerPoint', 'Excel', '不拘', '不拘', '不拘', 'Excel', '不拘', '不拘', '不拘', 'Adobe Photoshop', '不拘', '不拘', 'Windows 2000', '不拘', '不拘', '不拘', 'HTML', 'Excel', '不拘', '不拘', '不拘', '不拘', '不拘', '不拘', '不拘', 'Excel', '不拘', '不拘', '不拘', 'Adobe Photoshop', '不拘', '不拘', 'Windows 2000', '不拘', '不拘', '不拘', 'HTML', 'Excel', '不拘', '不拘', '不拘', '不拘', '不拘', '不拘', '不拘', '不拘', '不拘', '不拘', '不拘', 'PowerPoint', 'HTML', 'Windows 2000', '不拘', '不拘', '不拘', '不拘', 'Excel', '不拘', 'Excel', '不拘', 'Excel', '不拘', '不拘', 'Excel', '不拘', '不拘', '不拘', '不拘', '不拘', 'PowerPoint', 'HTML', 'Windows 2000', '不拘', '不拘', '不拘', '不拘', 'Excel', '不拘', 'Excel', '不拘', 'Excel', '不拘', '不拘', 'Excel', '不拘', '不拘', '不拘', '不拘', '不拘', 'PowerPoint', 'HTML', 'Windows 2000', '不拘', '不拘', '不拘', '不拘', 'Excel', '不拘', 'Excel', '不拘', 'Excel', '不拘', '不拘', 'Excel', '不拘', 'Windows 2000', 'Excel', '不拘', '不拘', '不拘', '不拘', 'Excel', '不拘', '不拘', '不拘', '不拘', '不拘', 'Excel', '不拘', '不拘', 'PowerPoint', 'Excel', '不拘', '不拘', '不拘', 'Windows 2000', 'Excel', '不拘', '不拘', '不拘', '不拘', 'Excel', '不拘', '不拘', '不拘', '不拘', 'Excel', '不拘', '不拘', '不拘', 'PowerPoint', 'Excel', '不拘', '不拘', '不拘', 'Windows 2000', 'Excel', '不拘', '不拘', '不拘', '不拘', 'Excel', '不拘', '不拘', '不拘', '不拘', 'Excel', '不拘', '不拘', '不拘', 'PowerPoint', 'Excel', '不拘', '不拘', '不拘', 'Excel', '不拘', '不拘', '不拘', 'Adobe Photoshop', '不拘', '不拘', 'Windows 2000', '不拘', '不拘', '不拘', 'HTML', 'Excel', '不拘', '不拘', '不拘', '不拘', '不拘', '不拘', '不拘', 'Windows 2000', 'Excel', '不拘', '不拘', '不拘', '不拘', 'Excel', '不拘', '不拘', '不拘', '不拘', 'Excel', '不拘', '不拘', '不拘', 'PowerPoint', 'Excel', '不拘', '不拘', '不拘', 'Windows 2000', 'Excel', '不拘', '不拘', '不拘', '不拘', 'Excel', '不拘', '不拘', '不拘', '不拘', 'Excel', '不拘', '不拘', '不拘', 'PowerPoint', 'Excel', '不拘', '不拘', '不拘', 'Windows 2000', 'Excel', '不拘', '不拘', '不拘', '不拘', 'Excel', '不拘', '不拘', '不拘', '不拘', '不拘', 'Excel', '不拘', '不拘', 'PowerPoint', 'Excel', '不拘', '不拘', '不拘', 'Excel', '不拘', '不拘', '不拘', 'Adobe Photoshop', '不拘', '不拘', 'Windows 2000', '不拘', '不拘', '不拘', 'HTML', 'Excel', '不拘', '不拘', '不拘', '不拘', '不拘', '不拘', '不拘', 'Excel', '不拘', '不拘', '不拘', 'Adobe Photoshop', '不拘', '不拘', 'Windows 2000', '不拘', '不拘', '不拘', 'HTML', 'Excel', '不拘', '不拘', '不拘', '不拘', '不拘', '不拘', '不拘', 'Excel', '不拘', '不拘', '不拘', 'Adobe Photoshop', '不拘', '不拘', 'Windows 2000', '不拘', '不拘', '不拘', 'HTML', 'Excel', '不拘', '不拘', '不拘', '不拘', '不拘', '不拘', '不拘', '不拘', '不拘', '不拘', '不拘', 'PowerPoint', 'HTML', 'Windows 2000', '不拘', '不拘', '不拘', '不拘', 'Excel', '不拘', 'Excel', '不拘', 'Excel', '不拘', '不拘', 'Excel', '不拘', 'Excel', '不拘', '不拘', '不拘', 'Adobe Photoshop', '不拘', '不拘', 'Windows 2000', '不拘', '不拘', '不拘', 'HTML', 'Excel', '不拘', '不拘', '不拘', '不拘', '不拘', '不拘', '不拘', 'Excel', '不拘', '不拘', '不拘', 'Adobe Photoshop', '不拘', '不拘', 'Windows 2000', '不拘', '不拘', '不拘', 'HTML', 'Excel', '不拘', '不拘', '不拘', '不拘', '不拘', '不拘', '不拘', 'Windows 2000', 'Excel', '不拘', '不拘', '不拘', '不拘', 'Excel', '不拘', '不拘', '不拘', '不拘', 'Excel', '不拘', '不拘', '不拘', 'PowerPoint', 'Excel', '不拘', '不拘', '不拘', 'Windows 2000', 'Excel', '不拘', '不拘', '不拘', '不拘', 'Excel', '不拘', '不拘', '不拘', '不拘', 'Excel', '不拘', '不拘', '不拘', 'PowerPoint', 'Excel', '不拘', '不拘', '不拘', '不拘', '不拘', '不拘', '不拘', 'PowerPoint', 'HTML', 'Windows 2000', '不拘', '不拘', '不拘', '不拘', 'Excel', '不拘', 'Excel', '不拘', 'Excel', '不拘', '不拘', 'Excel', '不拘', 'Windows 2000', 'Excel', '不拘', '不拘', '不拘', '不拘', 'Excel', '不拘', '不拘', '不拘', '不拘', 'Excel', '不拘', '不拘', '不拘', 'PowerPoint', 'Excel', '不拘', '不拘', '不拘', 'Windows 2000', 'Excel', '不拘', '不拘', '不拘', '不拘', 'Excel', '不拘', '不拘', '不拘', '不拘', 'Excel', '不拘', '不拘', '不拘', 'PowerPoint', 'Excel', '不拘', '不拘', '不拘', 'Windows 2000', 'Excel', '不拘', '不拘', '不拘', '不拘', 'Excel', '不拘', '不拘', '不拘', '不拘', 'Excel', '不拘', '不拘', '不拘', 'PowerPoint', 'Excel', '不拘', '不拘', '不拘', '不拘', '不拘', '不拘', '不拘', 'PowerPoint', 'HTML', 'Windows 2000', '不拘', '不拘', '不拘', '不拘', 'Excel', '不拘', 'Excel', '不拘', 'Excel', '不拘', '不拘', 'Excel', '不拘', 'Windows 2000', 'Excel', '不拘', '不拘', '不拘', '不拘', 'Excel', '不拘', '不拘', '不拘', '不拘', 'Excel', '不拘', '不拘', '不拘', 'PowerPoint', 'Excel', '不拘', '不拘', '不拘', 'Excel', '不拘', '不拘', '不拘', 'Adobe Photoshop', '不拘', '不拘', 'Windows 2000', '不拘', '不拘', '不拘', 'HTML', 'Excel', '不拘', '不拘', '不拘', '不拘', '不拘', '不拘', '不拘', '不拘', '不拘', '不拘', '不拘', 'PowerPoint', 'HTML', 'Windows 2000', '不拘', '不拘', '不拘', '不拘', 'Excel', '不拘', 'Excel', '不拘', 'Excel', '不拘', '不拘', 'Excel', '不拘', 'Windows 2000', 'Excel', '不拘', '不拘', '不拘', '不拘', 'Excel', '不拘', '不拘', '不拘', '不拘', 'Excel', '不拘', '不拘', '不拘', 'PowerPoint', 'Excel', '不拘', '不拘', '不拘', 'Windows 2000', 'Excel', '不拘', '不拘', '不拘', '不拘', 'Excel', '不拘', '不拘', '不拘', '不拘', 'Excel', '不拘', '不拘', '不拘', 'PowerPoint', 'Excel', '不拘', '不拘', '不拘', 'Excel', '不拘', '不拘', '不拘', 'Adobe Photoshop', '不拘', '不拘', 'Windows 2000', '不拘', '不拘', '不拘', 'HTML', 'Excel', '不拘', '不拘', '不拘', '不拘', '不拘', '不拘', '不拘', '不拘', '不拘', '不拘', '不拘', 'PowerPoint', 'HTML', 'Windows 2000', '不拘', '不拘', '不拘', '不拘', 'Excel', '不拘', 'Excel', '不拘', 'Excel', '不拘', '不拘', 'Excel', '不拘', '不拘', '不拘', '不拘', '不拘', 'PowerPoint', 'HTML', 'Windows 2000', '不拘', '不拘', '不拘', '不拘', 'Excel', '不拘', 'Excel', '不拘', 'Excel', '不拘', '不拘', 'Excel', '不拘', 'Windows 2000', 'Excel', '不拘', '不拘', '不拘', '不拘', 'Excel', '不拘', '不拘', '不拘', '不拘', 'Excel', '不拘', '不拘', '不拘', 'PowerPoint', 'Excel', '不拘', '不拘', '不拘', '不拘', '不拘', '不拘', '不拘', 'PowerPoint', 'HTML', 'Windows 2000', '不拘', '不拘', '不拘', '不拘', 'Excel', '不拘', 'Excel', '不拘', 'Excel', '不拘', '不拘', 'Excel', '不拘', 'Excel', '不拘', '不拘', '不拘', 'Adobe Photoshop', '不拘', '不拘', 'Windows 2000', '不拘', '不拘', '不拘', 'HTML', 'Excel', '不拘', '不拘', '不拘', '不拘', '不拘', '不拘', '不拘', '不拘', '不拘', '不拘', '不拘', 'PowerPoint', 'HTML', 'Windows 2000', '不拘', '不拘', '不拘', '不拘', 'Excel', '不拘', 'Excel', '不拘', 'Excel', '不拘', '不拘', 'Excel', '不拘', 'Windows 2000', 'Excel', '不拘', '不拘', '不拘', '不拘', 'Excel', '不拘', '不拘', '不拘', '不拘', 'Excel', '不拘', '不拘', '不拘', 'PowerPoint', 'Excel', '不拘', '不拘', '不拘', 'Windows 2000', 'Excel', '不拘', '不拘', '不拘', '不拘', 'Excel', '不拘', '不拘', '不拘', '不拘', 'Excel', '不拘', '不拘', '不拘', 'PowerPoint', 'Excel', '不拘', '不拘', '不拘', 'Windows 2000', 'Excel', '不拘', '不拘', '不拘', '不拘', 'Excel', '不拘', '不拘', '不拘', '不拘', '不拘', 'Excel', '不拘', '不拘', 'PowerPoint', 'Excel', '不拘', '不拘', '不拘', 'Windows 2000', 'Excel', '不拘', '不拘', '不拘', '不拘', 'Excel', '不拘', '不拘', '不拘', '不拘', 'Excel', '不拘', '不拘', '不拘', 'PowerPoint', 'Excel', '不拘', '不拘', '不拘', 'Windows 2000', 'Excel', '不拘', '不拘', '不拘', '不拘', 'Excel', '不拘', '不拘', '不拘', '不拘', '不拘', 'Excel', '不拘', '不拘', 'PowerPoint', 'Excel', '不拘', '不拘', '不拘', 'Windows 2000', 'Excel', '不拘', '不拘', '不拘', '不拘', 'Excel', '不拘', '不拘', '不拘', '不拘', 'Excel', '不拘', '不拘', '不拘', 'PowerPoint', 'Excel', '不拘', '不拘', '不拘', 'Windows 2000', 'Excel', '不拘', '不拘', '不拘', '不拘', 'Excel', '不拘', '不拘', '不拘', '不拘', '不拘', 'Excel', '不拘', '不拘', 'PowerPoint', 'Excel', '不拘', '不拘', '不拘', 'Windows 2000', 'Excel', '不拘', '不拘', '不拘', '不拘', 'Excel', '不拘', '不拘', '不拘', '不拘', 'Excel', '不拘', '不拘', '不拘', 'PowerPoint', 'Excel', '不拘', '不拘', '不拘', 'Excel', '不拘', '不拘', '不拘', 'Adobe Photoshop', '不拘', '不拘', 'Windows 2000', '不拘', '不拘', '不拘', 'HTML', 'Excel', '不拘', '不拘', '不拘', '不拘', '不拘', '不拘', '不拘', 'Windows 2000', 'Excel', '不拘', '不拘', '不拘', '不拘', 'Excel', '不拘', '不拘', '不拘', '不拘', 'Excel', '不拘', '不拘', '不拘', 'PowerPoint', 'Excel', '不拘', '不拘', '不拘', 'Windows 2000', 'Excel', '不拘', '不拘', '不拘', '不拘', 'Excel', '不拘', '不拘', '不拘', '不拘', 'Excel', '不拘', '不拘', '不拘', 'PowerPoint', 'Excel', '不拘', '不拘', '不拘', '不拘', '不拘', '不拘', '不拘', 'PowerPoint', 'HTML', 'Windows 2000', '不拘', '不拘', '不拘', '不拘', 'Excel', '不拘', 'Excel', '不拘', 'Excel', '不拘', '不拘', 'Excel', '不拘', 'Windows 2000', 'Excel', '不拘', '不拘', '不拘', '不拘', 'Excel', '不拘', '不拘', '不拘', '不拘', 'Excel', '不拘', '不拘', '不拘', 'PowerPoint', 'Excel', '不拘', '不拘', '不拘', 'Windows 2000', 'Excel', '不拘', '不拘', '不拘', '不拘', 'Excel', '不拘', '不拘', '不拘', '不拘', 'Excel', '不拘', '不拘', '不拘', 'PowerPoint', 'Excel', '不拘', '不拘', '不拘', 'Windows 2000', 'Excel', '不拘', '不拘', '不拘', '不拘', 'Excel', '不拘', '不拘', '不拘', '不拘', 'Excel', '不拘', '不拘', '不拘', 'PowerPoint', 'Excel', '不拘', '不拘', '不拘', 'Excel', '不拘', '不拘', '不拘', 'Adobe Photoshop', '不拘', '不拘', 'Windows 2000', '不拘', '不拘', '不拘', 'HTML', 'Excel', '不拘', '不拘', '不拘', '不拘', '不拘', '不拘', '不拘', 'Windows 2000', 'Excel', '不拘', '不拘', '不拘', '不拘', 'Excel', '不拘', '不拘', '不拘', '不拘', 'Excel', '不拘', '不拘', '不拘', 'PowerPoint', 'Excel', '不拘', '不拘', '不拘', 'Excel', '不拘', '不拘', '不拘', 'Adobe Photoshop', '不拘', '不拘', 'Windows 2000', '不拘', '不拘', '不拘', 'HTML', 'Excel', '不拘', '不拘', '不拘', '不拘', '不拘', '不拘', '不拘', '不拘', '不拘', '不拘', '不拘', 'PowerPoint', 'HTML', 'Windows 2000', '不拘', '不拘', '不拘', '不拘', 'Excel', '不拘', 'Excel', '不拘', 'Excel', '不拘', '不拘', 'Excel', '不拘', 'Windows 2000', 'Excel', '不拘', '不拘', '不拘', '不拘', 'Excel', '不拘', '不拘', '不拘', '不拘', 'Excel', '不拘', '不拘', '不拘', 'PowerPoint', 'Excel', '不拘', '不拘', '不拘', 'Windows 2000', 'Excel', '不拘', '不拘', '不拘', '不拘', 'Excel', '不拘', '不拘', '不拘', '不拘', 'Excel', '不拘', '不拘', '不拘', 'PowerPoint', 'Excel', '不拘', '不拘', '不拘', 'Excel', '不拘', '不拘', '不拘', 'Adobe Photoshop', '不拘', '不拘', 'Windows 2000', '不拘', '不拘', '不拘', 'HTML', 'Excel', '不拘', '不拘', '不拘', '不拘', '不拘', '不拘', '不拘', 'Windows 2000', 'Excel', '不拘', '不拘', '不拘', '不拘', 'Excel', '不拘', '不拘', '不拘', '不拘', 'Excel', '不拘', '不拘', '不拘', 'PowerPoint', 'Excel', '不拘', '不拘', '不拘', 'Excel', '不拘', '不拘', '不拘', 'Adobe Photoshop', '不拘', '不拘', 'Windows 2000', '不拘', '不拘', '不拘', 'HTML', 'Excel', '不拘', '不拘', '不拘', '不拘', '不拘', '不拘', '不拘', 'Windows 2000', 'Excel', '不拘', '不拘', '不拘', '不拘', 'Excel', '不拘', '不拘', '不拘', '不拘', 'Excel', '不拘', '不拘', '不拘', 'PowerPoint', 'Excel', '不拘', '不拘', '不拘', 'Excel', '不拘', '不拘', '不拘', 'Adobe Photoshop', '不拘', '不拘', 'Windows 2000', '不拘', '不拘', '不拘', 'HTML', 'Excel', '不拘', '不拘', '不拘', '不拘', '不拘', '不拘', '不拘', 'Excel', '不拘', '不拘', '不拘', 'Adobe Photoshop', '不拘', '不拘', 'Windows 2000', '不拘', '不拘', '不拘', 'HTML', 'Excel', '不拘', '不拘', '不拘', '不拘', '不拘', '不拘', '不拘', '不拘', '不拘', '不拘', '不拘', 'PowerPoint', 'HTML', 'Windows 2000', '不拘', '不拘', '不拘', '不拘', 'Excel', '不拘', 'Excel', '不拘', 'Excel', '不拘', '不拘', 'Excel', '不拘', '不拘', '不拘', '不拘', '不拘', 'PowerPoint', 'HTML', 'Windows 2000', '不拘', '不拘', '不拘', '不拘', 'Excel', '不拘', 'Excel', '不拘', 'Excel', '不拘', '不拘', 'Excel', '不拘', 'Windows 2000', 'Excel', '不拘', '不拘', '不拘', '不拘', 'Excel', '不拘', '不拘', '不拘', '不拘', 'Excel', '不拘', '不拘', '不拘', 'PowerPoint', 'Excel', '不拘', '不拘', '不拘', '不拘', '不拘', '不拘', '不拘', 'PowerPoint', 'HTML', 'Windows 2000', '不拘', '不拘', '不拘', '不拘', 'Excel', '不拘', 'Excel', '不拘', 'Excel', '不拘', '不拘', 'Excel', '不拘', 'Excel', '不拘', '不拘', '不拘', 'Adobe Photoshop', '不拘', '不拘', 'Windows 2000', '不拘', '不拘', '不拘', 'HTML', 'Excel', '不拘', '不拘', '不拘', '不拘', '不拘', '不拘', '不拘', 'Windows 2000', 'Excel', '不拘', '不拘', '不拘', '不拘', 'Excel', '不拘', '不拘', '不拘', '不拘', 'Excel', '不拘', '不拘', '不拘', 'PowerPoint', 'Excel', '不拘', '不拘', '不拘', '不拘', '不拘', '不拘', '不拘', 'PowerPoint', 'HTML', 'Windows 2000', '不拘', '不拘', '不拘', '不拘', 'Excel', '不拘', 'Excel', '不拘', 'Excel', '不拘', '不拘', 'Excel', '不拘', '不拘', '不拘', '不拘', '不拘', 'PowerPoint', 'HTML', 'Windows 2000', '不拘', '不拘', '不拘', '不拘', 'Excel', '不拘', 'Excel', '不拘', 'Excel', '不拘', '不拘', 'Excel', '不拘', '不拘', '不拘', '不拘', '不拘', 'PowerPoint', 'HTML', 'Windows 2000', '不拘', '不拘', '不拘', '不拘', 'Excel', '不拘', 'Excel', '不拘', 'Excel', '不拘', '不拘', 'Excel', '不拘', '不拘', '不拘', '不拘', '不拘', 'PowerPoint', 'HTML', 'Windows 2000', '不拘', '不拘', '不拘', '不拘', 'Excel', '不拘', 'Excel', '不拘', 'Excel', '不拘', '不拘', 'Excel', '不拘', 'Windows 2000', 'Excel', '不拘', '不拘', '不拘', '不拘', 'Excel', '不拘', '不拘', '不拘', '不拘', 'Excel', '不拘', '不拘', '不拘', 'PowerPoint', 'Excel', '不拘', '不拘', '不拘', 'Windows 2000', 'Excel', '不拘', '不拘', '不拘', '不拘', 'Excel', '不拘', '不拘', '不拘', '不拘', 'Excel', '不拘', '不拘', '不拘', 'PowerPoint', 'Excel', '不拘', '不拘', '不拘', '不拘', '不拘', '不拘', '不拘', 'PowerPoint', 'HTML', 'Windows 2000', '不拘', '不拘', '不拘', '不拘', 'Excel', '不拘', 'Excel', '不拘', 'Excel', '不拘', '不拘', 'Excel', '不拘', 'Windows 2000', 'Excel', '不拘', '不拘', '不拘', '不拘', 'Excel', '不拘', '不拘', '不拘', '不拘', 'Excel', '不拘', '不拘', '不拘', 'PowerPoint', 'Excel', '不拘', '不拘', '不拘', 'Excel', '不拘', '不拘', '不拘', 'Adobe Photoshop', '不拘', '不拘', 'Windows 2000', '不拘', '不拘', '不拘', 'HTML', 'Excel', '不拘', '不拘', '不拘', '不拘', '不拘', '不拘', '不拘', 'Excel', '不拘', '不拘', '不拘', 'Adobe Photoshop', '不拘', '不拘', 'Windows 2000', '不拘', '不拘', '不拘', 'HTML', 'Excel', '不拘', '不拘', '不拘', '不拘', '不拘', '不拘', '不拘', 'Windows 2000', 'Excel', '不拘', '不拘', '不拘', '不拘', 'Excel', '不拘', '不拘', '不拘', '不拘', 'Excel', '不拘', '不拘', '不拘', 'PowerPoint', 'Excel', '不拘', '不拘', '不拘', 'Windows 2000', 'Excel', '不拘', '不拘', '不拘', '不拘', 'Excel', '不拘', '不拘', '不拘', '不拘', 'Excel', '不拘', '不拘', '不拘', 'PowerPoint', 'Excel', '不拘', '不拘', '不拘', 'Windows 2000', 'Excel', '不拘', '不拘', '不拘', '不拘', 'Excel', '不拘', '不拘', '不拘', '不拘', 'Excel', '不拘', '不拘', '不拘', 'PowerPoint', 'Excel', '不拘', '不拘', '不拘', 'Windows 2000', 'Excel', '不拘', '不拘', '不拘', '不拘', 'Excel', '不拘', '不拘', '不拘', '不拘', 'Excel', '不拘', '不拘', '不拘', 'PowerPoint', 'Excel', '不拘', '不拘', '不拘', 'Excel', '不拘', '不拘', '不拘', 'Adobe Photoshop', '不拘', '不拘', 'Windows 2000', '不拘', '不拘', '不拘', 'HTML', 'Excel', '不拘', '不拘', '不拘', '不拘', '不拘', '不拘', '不拘', '不拘', '不拘', '不拘', '不拘', 'PowerPoint', 'HTML', 'Windows 2000', '不拘', '不拘', '不拘', '不拘', 'Excel', '不拘', 'Excel', '不拘', 'Excel', '不拘', '不拘', 'Excel', '不拘', '不拘', '不拘', '不拘', '不拘', 'PowerPoint', 'HTML', 'Windows 2000', '不拘', '不拘', '不拘', '不拘', 'Excel', '不拘', 'Excel', '不拘', 'Excel', '不拘', '不拘', 'Excel', '不拘', 'Excel', '不拘', '不拘', '不拘', 'Adobe Photoshop', '不拘', '不拘', 'Windows 2000', '不拘', '不拘', '不拘', 'HTML', 'Excel', '不拘', '不拘', '不拘', '不拘', '不拘', '不拘', '不拘', 'Windows 2000', 'Excel', '不拘', '不拘', '不拘', '不拘', 'Excel', '不拘', '不拘', '不拘', '不拘', 'Excel', '不拘', '不拘', '不拘', 'PowerPoint', 'Excel', '不拘', '不拘', '不拘', 'Windows 2000', 'Excel', '不拘', '不拘', '不拘', '不拘', 'Excel', '不拘', '不拘', '不拘', '不拘', 'Excel', '不拘', '不拘', '不拘', 'PowerPoint', 'Excel', '不拘', '不拘', '不拘', '不拘', '不拘', '不拘', '不拘', 'PowerPoint', 'HTML', 'Windows 2000', '不拘', '不拘', '不拘', '不拘', 'Excel', '不拘', 'Excel', '不拘', 'Excel', '不拘', '不拘', 'Excel', '不拘', 'Windows 2000', 'Excel', '不拘', '不拘', '不拘', '不拘', 'Excel', '不拘', '不拘', '不拘', '不拘', 'Excel', '不拘', '不拘', '不拘', 'PowerPoint', 'Excel', '不拘', '不拘', '不拘', 'Windows 2000', 'Excel', '不拘', '不拘', '不拘', '不拘', 'Excel', '不拘', '不拘', '不拘', '不拘', 'Excel', '不拘', '不拘', '不拘', 'PowerPoint', 'Excel', '不拘', '不拘', '不拘', 'Excel', '不拘', '不拘', '不拘', 'Adobe Photoshop', '不拘', '不拘', 'Windows 2000', '不拘', '不拘', '不拘', 'HTML', 'Excel', '不拘', '不拘', '不拘', '不拘', '不拘', '不拘', '不拘', '不拘', '不拘', '不拘', '不拘', 'PowerPoint', 'HTML', 'Windows 2000', '不拘', '不拘', '不拘', '不拘', 'Excel', '不拘', 'Excel', '不拘', 'Excel', '不拘', '不拘', 'Excel', '不拘', '不拘', '不拘', '不拘', '不拘', 'PowerPoint', 'HTML', 'Windows 2000', '不拘', '不拘', '不拘', '不拘', 'Excel', '不拘', 'Excel', '不拘', 'Excel', '不拘', '不拘', 'Excel', '不拘', '不拘', '不拘', '不拘', '不拘', 'PowerPoint', 'HTML', 'Windows 2000', '不拘', '不拘', '不拘', '不拘', 'Excel', '不拘', 'Excel', '不拘', 'Excel', '不拘', '不拘', 'Excel', '不拘', 'Excel', '不拘', '不拘', '不拘', 'Adobe Photoshop', '不拘', '不拘', 'Windows 2000', '不拘', '不拘', '不拘', 'HTML', 'Excel', '不拘', '不拘', '不拘', '不拘', '不拘', '不拘', '不拘', 'Windows 2000', 'Excel', '不拘', '不拘', '不拘', '不拘', 'Excel', '不拘', '不拘', '不拘', '不拘', 'Excel', '不拘', '不拘', '不拘', 'PowerPoint', 'Excel', '不拘', '不拘', '不拘', '不拘', '不拘', '不拘', '不拘', 'PowerPoint', 'HTML', 'Windows 2000', '不拘', '不拘', '不拘', '不拘', 'Excel', '不拘', 'Excel', '不拘', 'Excel', '不拘', '不拘', 'Excel', '不拘', 'Excel', '不拘', '不拘', '不拘', 'Adobe Photoshop', '不拘', '不拘', 'Windows 2000', '不拘', '不拘', '不拘', 'HTML', 'Excel', '不拘', '不拘', '不拘', '不拘', '不拘', '不拘', '不拘', 'Windows 2000', 'Excel', '不拘', '不拘', '不拘', '不拘', 'Excel', '不拘', '不拘', '不拘', '不拘', 'Excel', '不拘', '不拘', '不拘', 'PowerPoint', 'Excel', '不拘', '不拘', '不拘', 'Windows 2000', 'Excel', '不拘', '不拘', '不拘', '不拘', 'Excel', '不拘', '不拘', '不拘', '不拘', 'Excel', '不拘', '不拘', '不拘', 'PowerPoint', 'Excel', '不拘', '不拘', '不拘', 'Windows 2000', 'Excel', '不拘', '不拘', '不拘', '不拘', 'Excel', '不拘', '不拘', '不拘', '不拘', 'Excel', '不拘', '不拘', '不拘', 'PowerPoint', 'Excel', '不拘', '不拘', '不拘', 'Windows 2000', 'Excel', '不拘', '不拘', '不拘', '不拘', 'Excel', '不拘', '不拘', '不拘', '不拘', 'Excel', '不拘', '不拘', '不拘', 'PowerPoint', 'Excel', '不拘', '不拘', '不拘', 'Windows 2000', 'Excel', '不拘', '不拘', '不拘', '不拘', 'Excel', '不拘', '不拘', '不拘', '不拘', 'Excel', '不拘', '不拘', '不拘', 'PowerPoint', 'Excel', '不拘', '不拘', '不拘', 'Excel', '不拘', '不拘', 'PowerPoint', '不拘', 'Excel', '不拘', '不拘', '不拘', '不拘', 'Excel', 'Excel', 'Excel', '不拘', '不拘', 'Excel', '不拘', 'Excel', 'Excel', '不拘', '3ds Max', '不拘', 'Excel', '不拘', 'Excel', '不拘', '不拘', '不拘', '不拘', 'Excel', 'Excel', 'PowerPoint', None, None, None, None, 'PowerPoint', None, None, None, None, 'PowerPoint', None, None, None, 'Word', 'PowerPoint', None, None, None, None, None, None, None, 'Word', 'Excel', 'Excel', None, None, None, None, 'PowerPoint', None, 'PowerPoint', None, 'PowerPoint', None, None, 'PowerPoint', None, 'PowerPoint', None, None, None, None, None, None, 'Excel', None, None, None, 'Excel', 'PowerPoint', None, None, None, None, None, None, None, 'Excel', 'PowerPoint', None, None, None, None, 'PowerPoint', None, None, None, None, 'PowerPoint', None, None, None, 'Word', 'PowerPoint', None, None, None, None, None, None, None, 'Word', 'Excel', 'Excel', None, None, None, None, 'PowerPoint', None, 'PowerPoint', None, 'PowerPoint', None, None, 'PowerPoint', None, 'Excel', 'PowerPoint', None, None, None, None, 'PowerPoint', None, None, None, None, 'PowerPoint', None, None, None, 'Word', 'PowerPoint', None, None, None, 'Excel', 'PowerPoint', None, None, None, None, 'PowerPoint', None, None, None, None, 'PowerPoint', None, None, None, 'Word', 'PowerPoint', None, None, None, 'PowerPoint', None, None, None, None, None, None, 'Excel', None, None, None, 'Excel', 'PowerPoint', None, None, None, None, None, None, None, 'Excel', 'PowerPoint', None, None, None, None, 'PowerPoint', None, None, None, None, 'PowerPoint', None, None, None, 'Word', 'PowerPoint', None, None, None, 'Excel', 'PowerPoint', None, None, None, None, 'PowerPoint', None, None, None, None, 'PowerPoint', None, None, None, 'Word', 'PowerPoint', None, None, None, 'PowerPoint', None, None, None, None, None, None, 'Excel', None, None, None, 'Excel', 'PowerPoint', None, None, None, None, None, None, None, 'Excel', 'PowerPoint', None, None, None, None, 'PowerPoint', None, None, None, None, 'PowerPoint', None, None, None, 'Word', 'PowerPoint', None, None, None, 'Excel', 'PowerPoint', None, None, None, None, 'PowerPoint', None, None, None, None, None, 'PowerPoint', None, None, 'Word', 'PowerPoint', None, None, None, 'Excel', 'PowerPoint', None, None, None, None, 'PowerPoint', None, None, None, None, 'PowerPoint', None, None, None, 'Word', 'PowerPoint', None, None, None, 'PowerPoint', None, None, None, None, None, None, 'Excel', None, None, None, 'Excel', 'PowerPoint', None, None, None, None, None, None, None, 'PowerPoint', None, None, None, None, None, None, 'Excel', None, None, None, 'Excel', 'PowerPoint', None, None, None, None, None, None, None, None, None, None, None, 'Word', 'Excel', 'Excel', None, None, None, None, 'PowerPoint', None, 'PowerPoint', None, 'PowerPoint', None, None, 'PowerPoint', None, 'Excel', 'PowerPoint', None, None, None, None, 'PowerPoint', None, None, None, None, None, 'PowerPoint', None, None, 'Word', 'PowerPoint', None, None, None, None, None, None, None, 'Word', 'Excel', 'Excel', None, None, None, None, 'PowerPoint', None, 'PowerPoint', None, 'PowerPoint', None, None, 'PowerPoint', None, 'Excel', 'PowerPoint', None, None, None, None, 'PowerPoint', None, None, None, None, None, 'PowerPoint', None, None, 'Word', 'PowerPoint', None, None, None, None, None, None, None, 'Word', 'Excel', 'Excel', None, None, None, None, 'PowerPoint', None, 'PowerPoint', None, 'PowerPoint', None, None, 'PowerPoint', None, 'Excel', 'PowerPoint', None, None, None, None, 'PowerPoint', None, None, None, None, None, 'PowerPoint', None, None, 'Word', 'PowerPoint', None, None, None, 'Excel', 'PowerPoint', None, None, None, None, 'PowerPoint', None, None, None, None, None, 'PowerPoint', None, None, 'Word', 'PowerPoint', None, None, None, 'Excel', 'PowerPoint', None, None, None, None, 'PowerPoint', None, None, None, None, 'PowerPoint', None, None, None, 'Word', 'PowerPoint', None, None, None, 'Excel', 'PowerPoint', None, None, None, None, 'PowerPoint', None, None, None, None, 'PowerPoint', None, None, None, 'Word', 'PowerPoint', None, None, None, 'Excel', 'PowerPoint', None, None, None, None, 'PowerPoint', None, None, None, None, 'PowerPoint', None, None, None, 'Word', 'PowerPoint', None, None, None, 'Excel', 'PowerPoint', None, None, None, None, 'PowerPoint', None, None, None, None, 'PowerPoint', None, None, None, 'Word', 'PowerPoint', None, None, None, 'Excel', 'PowerPoint', None, None, None, None, 'PowerPoint', None, None, None, None, 'PowerPoint', None, None, None, 'Word', 'PowerPoint', None, None, None, 'Excel', 'PowerPoint', None, None, None, None, 'PowerPoint', None, None, None, None, 'PowerPoint', None, None, None, 'Word', 'PowerPoint', None, None, None, None, None, None, None, 'Word', 'Excel', 'Excel', None, None, None, None, 'PowerPoint', None, 'PowerPoint', None, 'PowerPoint', None, None, 'PowerPoint', None, 'PowerPoint', None, None, None, None, None, None, 'Excel', None, None, None, 'Excel', 'PowerPoint', None, None, None, None, None, None, None, None, None, None, None, 'Word', 'Excel', 'Excel', None, None, None, None, 'PowerPoint', None, 'PowerPoint', None, 'PowerPoint', None, None, 'PowerPoint', None, 'Excel', 'PowerPoint', None, None, None, None, 'PowerPoint', None, None, None, None, None, 'PowerPoint', None, None, 'Word', 'PowerPoint', None, None, None, None, None, None, None, 'Word', 'Excel', 'Excel', None, None, None, None, 'PowerPoint', None, 'PowerPoint', None, 'PowerPoint', None, None, 'PowerPoint', None, 'PowerPoint', None, None, None, None, None, None, 'Excel', None, None, None, 'Excel', 'PowerPoint', None, None, None, None, None, None, None, 'Excel', 'PowerPoint', None, None, None, None, 'PowerPoint', None, None, None, None, 'PowerPoint', None, None, None, 'Word', 'PowerPoint', None, None, None, 'Excel', 'PowerPoint', None, None, None, None, 'PowerPoint', None, None, None, None, 'PowerPoint', None, None, None, 'Word', 'PowerPoint', None, None, None, 'Excel', 'PowerPoint', None, None, None, None, 'PowerPoint', None, None, None, None, 'PowerPoint', None, None, None, 'Word', 'PowerPoint', None, None, None, 'Excel', 'PowerPoint', None, None, None, None, 'PowerPoint', None, None, None, None, None, 'PowerPoint', None, None, 'Word', 'PowerPoint', None, None, None, 'Excel', 'PowerPoint', None, None, None, None, 'PowerPoint', None, None, None, None, None, 'PowerPoint', None, None, 'Word', 'PowerPoint', None, None, None, 'Excel', 'PowerPoint', None, None, None, None, 'PowerPoint', None, None, None, None, 'PowerPoint', None, None, None, 'Word', 'PowerPoint', None, None, None, None, None, None, None, 'Word', 'Excel', 'Excel', None, None, None, None, 'PowerPoint', None, 'PowerPoint', None, 'PowerPoint', None, None, 'PowerPoint', None, 'Excel', 'PowerPoint', None, None, None, None, 'PowerPoint', None, None, None, None, 'PowerPoint', None, None, None, 'Word', 'PowerPoint', None, None, None, 'PowerPoint', None, None, None, None, None, None, 'Excel', None, None, None, 'Excel', 'PowerPoint', None, None, None, None, None, None, None, 'PowerPoint', None, None, None, None, None, None, 'Excel', None, None, None, 'Excel', 'PowerPoint', None, None, None, None, None, None, None, None, None, None, None, 'Word', 'Excel', 'Excel', None, None, None, None, 'PowerPoint', None, 'PowerPoint', None, 'PowerPoint', None, None, 'PowerPoint', None, None, None, None, None, 'Word', 'Excel', 'Excel', None, None, None, None, 'PowerPoint', None, 'PowerPoint', None, 'PowerPoint', None, None, 'PowerPoint', None, None, None, None, None, 'Word', 'Excel', 'Excel', None, None, None, None, 'PowerPoint', None, 'PowerPoint', None, 'PowerPoint', None, None, 'PowerPoint', None, 'Excel', 'PowerPoint', None, None, None, None, 'PowerPoint', None, None, None, None, None, 'PowerPoint', None, None, 'Word', 'PowerPoint', None, None, None, 'Excel', 'PowerPoint', None, None, None, None, 'PowerPoint', None, None, None, None, 'PowerPoint', None, None, None, 'Word', 'PowerPoint', None, None, None, 'Excel', 'PowerPoint', None, None, None, None, 'PowerPoint', None, None, None, None, 'PowerPoint', None, None, None, 'Word', 'PowerPoint', None, None, None, 'PowerPoint', None, None, None, None, None, None, 'Excel', None, None, None, 'Excel', 'PowerPoint', None, None, None, None, None, None, None, 'Excel', 'PowerPoint', None, None, None, None, 'PowerPoint', None, None, None, None, 'PowerPoint', None, None, None, 'Word', 'PowerPoint', None, None, None, 'Excel', 'PowerPoint', None, None, None, None, 'PowerPoint', None, None, None, None, 'PowerPoint', None, None, None, 'Word', 'PowerPoint', None, None, None, 'Excel', 'PowerPoint', None, None, None, None, 'PowerPoint', None, None, None, None, None, 'PowerPoint', None, None, 'Word', 'PowerPoint', None, None, None, 'PowerPoint', None, None, None, None, None, None, 'Excel', None, None, None, 'Excel', 'PowerPoint', None, None, None, None, None, None, None, 'PowerPoint', None, None, None, None, None, None, 'Excel', None, None, None, 'Excel', 'PowerPoint', None, None, None, None, None, None, None, 'PowerPoint', None, None, None, None, None, None, 'Excel', None, None, None, 'Excel', 'PowerPoint', None, None, None, None, None, None, None, None, None, None, None, 'Word', 'Excel', 'Excel', None, None, None, None, 'PowerPoint', None, 'PowerPoint', None, 'PowerPoint', None, None, 'PowerPoint', None, 'PowerPoint', None, None, None, None, None, None, 'Excel', None, None, None, 'Excel', 'PowerPoint', None, None, None, None, None, None, None, 'PowerPoint', None, None, None, None, None, None, 'Excel', None, None, None, 'Excel', 'PowerPoint', None, None, None, None, None, None, None, 'Excel', 'PowerPoint', None, None, None, None, 'PowerPoint', None, None, None, None, 'PowerPoint', None, None, None, 'Word', 'PowerPoint', None, None, None, 'Excel', 'PowerPoint', None, None, None, None, 'PowerPoint', None, None, None, None, 'PowerPoint', None, None, None, 'Word', 'PowerPoint', None, None, None, None, None, None, None, 'Word', 'Excel', 'Excel', None, None, None, None, 'PowerPoint', None, 'PowerPoint', None, 'PowerPoint', None, None, 'PowerPoint', None, 'Excel', 'PowerPoint', None, None, None, None, 'PowerPoint', None, None, None, None, 'PowerPoint', None, None, None, 'Word', 'PowerPoint', None, None, None, 'Excel', 'PowerPoint', None, None, None, None, 'PowerPoint', None, None, None, None, 'PowerPoint', None, None, None, 'Word', 'PowerPoint', None, None, None, 'Excel', 'PowerPoint', None, None, None, None, 'PowerPoint', None, None, None, None, 'PowerPoint', None, None, None, 'Word', 'PowerPoint', None, None, None, None, None, None, None, 'Word', 'Excel', 'Excel', None, None, None, None, 'PowerPoint', None, 'PowerPoint', None, 'PowerPoint', None, None, 'PowerPoint', None, 'Excel', 'PowerPoint', None, None, None, None, 'PowerPoint', None, None, None, None, 'PowerPoint', None, None, None, 'Word', 'PowerPoint', None, None, None, 'PowerPoint', None, None, None, None, None, None, 'Excel', None, None, None, 'Excel', 'PowerPoint', None, None, None, None, None, None, None, None, None, None, None, 'Word', 'Excel', 'Excel', None, None, None, None, 'PowerPoint', None, 'PowerPoint', None, 'PowerPoint', None, None, 'PowerPoint', None, 'Excel', 'PowerPoint', None, None, None, None, 'PowerPoint', None, None, None, None, 'PowerPoint', None, None, None, 'Word', 'PowerPoint', None, None, None, 'Excel', 'PowerPoint', None, None, None, None, 'PowerPoint', None, None, None, None, 'PowerPoint', None, None, None, 'Word', 'PowerPoint', None, None, None, 'PowerPoint', None, None, None, None, None, None, 'Excel', None, None, None, 'Excel', 'PowerPoint', None, None, None, None, None, None, None, None, None, None, None, 'Word', 'Excel', 'Excel', None, None, None, None, 'PowerPoint', None, 'PowerPoint', None, 'PowerPoint', None, None, 'PowerPoint', None, None, None, None, None, 'Word', 'Excel', 'Excel', None, None, None, None, 'PowerPoint', None, 'PowerPoint', None, 'PowerPoint', None, None, 'PowerPoint', None, 'Excel', 'PowerPoint', None, None, None, None, 'PowerPoint', None, None, None, None, 'PowerPoint', None, None, None, 'Word', 'PowerPoint', None, None, None, None, None, None, None, 'Word', 'Excel', 'Excel', None, None, None, None, 'PowerPoint', None, 'PowerPoint', None, 'PowerPoint', None, None, 'PowerPoint', None, 'PowerPoint', None, None, None, None, None, None, 'Excel', None, None, None, 'Excel', 'PowerPoint', None, None, None, None, None, None, None, None, None, None, None, 'Word', 'Excel', 'Excel', None, None, None, None, 'PowerPoint', None, 'PowerPoint', None, 'PowerPoint', None, None, 'PowerPoint', None, 'Excel', 'PowerPoint', None, None, None, None, 'PowerPoint', None, None, None, None, 'PowerPoint', None, None, None, 'Word', 'PowerPoint', None, None, None, 'Excel', 'PowerPoint', None, None, None, None, 'PowerPoint', None, None, None, None, 'PowerPoint', None, None, None, 'Word', 'PowerPoint', None, None, None, 'Excel', 'PowerPoint', None, None, None, None, 'PowerPoint', None, None, None, None, None, 'PowerPoint', None, None, 'Word', 'PowerPoint', None, None, None, 'Excel', 'PowerPoint', None, None, None, None, 'PowerPoint', None, None, None, None, 'PowerPoint', None, None, None, 'Word', 'PowerPoint', None, None, None, 'Excel', 'PowerPoint', None, None, None, None, 'PowerPoint', None, None, None, None, None, 'PowerPoint', None, None, 'Word', 'PowerPoint', None, None, None, 'Excel', 'PowerPoint', None, None, None, None, 'PowerPoint', None, None, None, None, 'PowerPoint', None, None, None, 'Word', 'PowerPoint', None, None, None, 'Excel', 'PowerPoint', None, None, None, None, 'PowerPoint', None, None, None, None, None, 'PowerPoint', None, None, 'Word', 'PowerPoint', None, None, None, 'Excel', 'PowerPoint', None, None, None, None, 'PowerPoint', None, None, None, None, 'PowerPoint', None, None, None, 'Word', 'PowerPoint', None, None, None, 'PowerPoint', None, None, None, None, None, None, 'Excel', None, None, None, 'Excel', 'PowerPoint', None, None, None, None, None, None, None, 'Excel', 'PowerPoint', None, None, None, None, 'PowerPoint', None, None, None, None, 'PowerPoint', None, None, None, 'Word', 'PowerPoint', None, None, None, 'Excel', 'PowerPoint', None, None, None, None, 'PowerPoint', None, None, None, None, 'PowerPoint', None, None, None, 'Word', 'PowerPoint', None, None, None, None, None, None, None, 'Word', 'Excel', 'Excel', None, None, None, None, 'PowerPoint', None, 'PowerPoint', None, 'PowerPoint', None, None, 'PowerPoint', None, 'Excel', 'PowerPoint', None, None, None, None, 'PowerPoint', None, None, None, None, 'PowerPoint', None, None, None, 'Word', 'PowerPoint', None, None, None, 'Excel', 'PowerPoint', None, None, None, None, 'PowerPoint', None, None, None, None, 'PowerPoint', None, None, None, 'Word', 'PowerPoint', None, None, None, 'Excel', 'PowerPoint', None, None, None, None, 'PowerPoint', None, None, None, None, 'PowerPoint', None, None, None, 'Word', 'PowerPoint', None, None, None, 'PowerPoint', None, None, None, None, None, None, 'Excel', None, None, None, 'Excel', 'PowerPoint', None, None, None, None, None, None, None, 'Excel', 'PowerPoint', None, None, None, None, 'PowerPoint', None, None, None, None, 'PowerPoint', None, None, None, 'Word', 'PowerPoint', None, None, None, 'PowerPoint', None, None, None, None, None, None, 'Excel', None, None, None, 'Excel', 'PowerPoint', None, None, None, None, None, None, None, None, None, None, None, 'Word', 'Excel', 'Excel', None, None, None, None, 'PowerPoint', None, 'PowerPoint', None, 'PowerPoint', None, None, 'PowerPoint', None, 'Excel', 'PowerPoint', None, None, None, None, 'PowerPoint', None, None, None, None, 'PowerPoint', None, None, None, 'Word', 'PowerPoint', None, None, None, 'Excel', 'PowerPoint', None, None, None, None, 'PowerPoint', None, None, None, None, 'PowerPoint', None, None, None, 'Word', 'PowerPoint', None, None, None, 'PowerPoint', None, None, None, None, None, None, 'Excel', None, None, None, 'Excel', 'PowerPoint', None, None, None, None, None, None, None, 'Excel', 'PowerPoint', None, None, None, None, 'PowerPoint', None, None, None, None, 'PowerPoint', None, None, None, 'Word', 'PowerPoint', None, None, None, 'PowerPoint', None, None, None, None, None, None, 'Excel', None, None, None, 'Excel', 'PowerPoint', None, None, None, None, None, None, None, 'Excel', 'PowerPoint', None, None, None, None, 'PowerPoint', None, None, None, None, 'PowerPoint', None, None, None, 'Word', 'PowerPoint', None, None, None, 'PowerPoint', None, None, None, None, None, None, 'Excel', None, None, None, 'Excel', 'PowerPoint', None, None, None, None, None, None, None, 'PowerPoint', None, None, None, None, None, None, 'Excel', None, None, None, 'Excel', 'PowerPoint', None, None, None, None, None, None, None, None, None, None, None, 'Word', 'Excel', 'Excel', None, None, None, None, 'PowerPoint', None, 'PowerPoint', None, 'PowerPoint', None, None, 'PowerPoint', None, None, None, None, None, 'Word', 'Excel', 'Excel', None, None, None, None, 'PowerPoint', None, 'PowerPoint', None, 'PowerPoint', None, None, 'PowerPoint', None, 'Excel', 'PowerPoint', None, None, None, None, 'PowerPoint', None, None, None, None, 'PowerPoint', None, None, None, 'Word', 'PowerPoint', None, None, None, None, None, None, None, 'Word', 'Excel', 'Excel', None, None, None, None, 'PowerPoint', None, 'PowerPoint', None, 'PowerPoint', None, None, 'PowerPoint', None, 'PowerPoint', None, None, None, None, None, None, 'Excel', None, None, None, 'Excel', 'PowerPoint', None, None, None, None, None, None, None, 'Excel', 'PowerPoint', None, None, None, None, 'PowerPoint', None, None, None, None, 'PowerPoint', None, None, None, 'Word', 'PowerPoint', None, None, None, None, None, None, None, 'Word', 'Excel', 'Excel', None, None, None, None, 'PowerPoint', None, 'PowerPoint', None, 'PowerPoint', None, None, 'PowerPoint', None, None, None, None, None, 'Word', 'Excel', 'Excel', None, None, None, None, 'PowerPoint', None, 'PowerPoint', None, 'PowerPoint', None, None, 'PowerPoint', None, None, None, None, None, 'Word', 'Excel', 'Excel', None, None, None, None, 'PowerPoint', None, 'PowerPoint', None, 'PowerPoint', None, None, 'PowerPoint', None, None, None, None, None, 'Word', 'Excel', 'Excel', None, None, None, None, 'PowerPoint', None, 'PowerPoint', None, 'PowerPoint', None, None, 'PowerPoint', None, 'Excel', 'PowerPoint', None, None, None, None, 'PowerPoint', None, None, None, None, 'PowerPoint', None, None, None, 'Word', 'PowerPoint', None, None, None, 'Excel', 'PowerPoint', None, None, None, None, 'PowerPoint', None, None, None, None, 'PowerPoint', None, None, None, 'Word', 'PowerPoint', None, None, None, None, None, None, None, 'Word', 'Excel', 'Excel', None, None, None, None, 'PowerPoint', None, 'PowerPoint', None, 'PowerPoint', None, None, 'PowerPoint', None, 'Excel', 'PowerPoint', None, None, None, None, 'PowerPoint', None, None, None, None, 'PowerPoint', None, None, None, 'Word', 'PowerPoint', None, None, None, 'PowerPoint', None, None, None, None, None, None, 'Excel', None, None, None, 'Excel', 'PowerPoint', None, None, None, None, None, None, None, 'PowerPoint', None, None, None, None, None, None, 'Excel', None, None, None, 'Excel', 'PowerPoint', None, None, None, None, None, None, None, 'Excel', 'PowerPoint', None, None, None, None, 'PowerPoint', None, None, None, None, 'PowerPoint', None, None, None, 'Word', 'PowerPoint', None, None, None, 'Excel', 'PowerPoint', None, None, None, None, 'PowerPoint', None, None, None, None, 'PowerPoint', None, None, None, 'Word', 'PowerPoint', None, None, None, 'Excel', 'PowerPoint', None, None, None, None, 'PowerPoint', None, None, None, None, 'PowerPoint', None, None, None, 'Word', 'PowerPoint', None, None, None, 'Excel', 'PowerPoint', None, None, None, None, 'PowerPoint', None, None, None, None, 'PowerPoint', None, None, None, 'Word', 'PowerPoint', None, None, None, 'PowerPoint', None, None, None, None, None, None, 'Excel', None, None, None, 'Excel', 'PowerPoint', None, None, None, None, None, None, None, None, None, None, None, 'Word', 'Excel', 'Excel', None, None, None, None, 'PowerPoint', None, 'PowerPoint', None, 'PowerPoint', None, None, 'PowerPoint', None, None, None, None, None, 'Word', 'Excel', 'Excel', None, None, None, None, 'PowerPoint', None, 'PowerPoint', None, 'PowerPoint', None, None, 'PowerPoint', None, 'PowerPoint', None, None, None, None, None, None, 'Excel', None, None, None, 'Excel', 'PowerPoint', None, None, None, None, None, None, None, 'Excel', 'PowerPoint', None, None, None, None, 'PowerPoint', None, None, None, None, 'PowerPoint', None, None, None, 'Word', 'PowerPoint', None, None, None, 'Excel', 'PowerPoint', None, None, None, None, 'PowerPoint', None, None, None, None, 'PowerPoint', None, None, None, 'Word', 'PowerPoint', None, None, None, None, None, None, None, 'Word', 'Excel', 'Excel', None, None, None, None, 'PowerPoint', None, 'PowerPoint', None, 'PowerPoint', None, None, 'PowerPoint', None, 'Excel', 'PowerPoint', None, None, None, None, 'PowerPoint', None, None, None, None, 'PowerPoint', None, None, None, 'Word', 'PowerPoint', None, None, None, 'Excel', 'PowerPoint', None, None, None, None, 'PowerPoint', None, None, None, None, 'PowerPoint', None, None, None, 'Word', 'PowerPoint', None, None, None, 'PowerPoint', None, None, None, None, None, None, 'Excel', None, None, None, 'Excel', 'PowerPoint', None, None, None, None, None, None, None, None, None, None, None, 'Word', 'Excel', 'Excel', None, None, None, None, 'PowerPoint', None, 'PowerPoint', None, 'PowerPoint', None, None, 'PowerPoint', None, None, None, None, None, 'Word', 'Excel', 'Excel', None, None, None, None, 'PowerPoint', None, 'PowerPoint', None, 'PowerPoint', None, None, 'PowerPoint', None, None, None, None, None, 'Word', 'Excel', 'Excel', None, None, None, None, 'PowerPoint', None, 'PowerPoint', None, 'PowerPoint', None, None, 'PowerPoint', None, 'PowerPoint', None, None, None, None, None, None, 'Excel', None, None, None, 'Excel', 'PowerPoint', None, None, None, None, None, None, None, 'Excel', 'PowerPoint', None, None, None, None, 'PowerPoint', None, None, None, None, 'PowerPoint', None, None, None, 'Word', 'PowerPoint', None, None, None, None, None, None, None, 'Word', 'Excel', 'Excel', None, None, None, None, 'PowerPoint', None, 'PowerPoint', None, 'PowerPoint', None, None, 'PowerPoint', None, 'PowerPoint', None, None, None, None, None, None, 'Excel', None, None, None, 'Excel', 'PowerPoint', None, None, None, None, None, None, None, 'Excel', 'PowerPoint', None, None, None, None, 'PowerPoint', None, None, None, None, 'PowerPoint', None, None, None, 'Word', 'PowerPoint', None, None, None, 'Excel', 'PowerPoint', None, None, None, None, 'PowerPoint', None, None, None, None, 'PowerPoint', None, None, None, 'Word', 'PowerPoint', None, None, None, 'Excel', 'PowerPoint', None, None, None, None, 'PowerPoint', None, None, None, None, 'PowerPoint', None, None, None, 'Word', 'PowerPoint', None, None, None, 'Excel', 'PowerPoint', None, None, None, None, 'PowerPoint', None, None, None, None, 'PowerPoint', None, None, None, 'Word', 'PowerPoint', None, None, None, 'Excel', 'PowerPoint', None, None, None, None, 'PowerPoint', None, None, None, None, 'PowerPoint', None, None, None, 'Word', 'PowerPoint', None, None, None, 'PowerPoint', None, None, 'Word', None, 'PowerPoint', None, None, None, None, 'Outlook', 'PowerPoint', 'PowerPoint', None, None, 'PowerPoint', None, 'Outlook', 'PowerPoint', None, 'Adobe Photoshop', None, 'PowerPoint', None, 'PowerPoint', None, None, None, None, 'PowerPoint', 'Outlook', 'Word', None, None, None, None, 'Word', None, None, None, None, 'Word', None, None, None, 'After Effects', 'Word', None, None, None, None, None, None, None, 'After Effects', 'PowerPoint', 'Outlook', None, None, None, None, 'Word', None, 'Word', None, 'Word', None, None, 'Word', None, 'Premiere', None, None, None, None, None, None, 'Outlook', None, None, None, 'PowerPoint', 'Word', None, None, None, None, None, None, None, 'Outlook', 'Word', None, None, None, None, 'Word', None, None, None, None, 'Word', None, None, None, 'After Effects', 'Word', None, None, None, None, None, None, None, 'After Effects', 'PowerPoint', 'Outlook', None, None, None, None, 'Word', None, 'Word', None, 'Word', None, None, 'Word', None, 'Outlook', 'Word', None, None, None, None, 'Word', None, None, None, None, 'Word', None, None, None, 'After Effects', 'Word', None, None, None, 'Outlook', 'Word', None, None, None, None, 'Word', None, None, None, None, 'Word', None, None, None, 'After Effects', 'Word', None, None, None, 'Premiere', None, None, None, None, None, None, 'Outlook', None, None, None, 'PowerPoint', 'Word', None, None, None, None, None, None, None, 'Outlook', 'Word', None, None, None, None, 'Word', None, None, None, None, 'Word', None, None, None, 'After Effects', 'Word', None, None, None, 'Outlook', 'Word', None, None, None, None, 'Word', None, None, None, None, 'Word', None, None, None, 'After Effects', 'Word', None, None, None, 'Premiere', None, None, None, None, None, None, 'Outlook', None, None, None, 'PowerPoint', 'Word', None, None, None, None, None, None, None, 'Outlook', 'Word', None, None, None, None, 'Word', None, None, None, None, 'Word', None, None, None, 'After Effects', 'Word', None, None, None, 'Outlook', 'Word', None, None, None, None, 'Word', None, None, None, None, None, 'Word', None, None, 'After Effects', 'Word', None, None, None, 'Outlook', 'Word', None, None, None, None, 'Word', None, None, None, None, 'Word', None, None, None, 'After Effects', 'Word', None, None, None, 'Premiere', None, None, None, None, None, None, 'Outlook', None, None, None, 'PowerPoint', 'Word', None, None, None, None, None, None, None, 'Premiere', None, None, None, None, None, None, 'Outlook', None, None, None, 'PowerPoint', 'Word', None, None, None, None, None, None, None, None, None, None, None, 'After Effects', 'PowerPoint', 'Outlook', None, None, None, None, 'Word', None, 'Word', None, 'Word', None, None, 'Word', None, 'Outlook', 'Word', None, None, None, None, 'Word', None, None, None, None, None, 'Word', None, None, 'After Effects', 'Word', None, None, None, None, None, None, None, 'After Effects', 'PowerPoint', 'Outlook', None, None, None, None, 'Word', None, 'Word', None, 'Word', None, None, 'Word', None, 'Outlook', 'Word', None, None, None, None, 'Word', None, None, None, None, None, 'Word', None, None, 'After Effects', 'Word', None, None, None, None, None, None, None, 'After Effects', 'PowerPoint', 'Outlook', None, None, None, None, 'Word', None, 'Word', None, 'Word', None, None, 'Word', None, 'Outlook', 'Word', None, None, None, None, 'Word', None, None, None, None, None, 'Word', None, None, 'After Effects', 'Word', None, None, None, 'Outlook', 'Word', None, None, None, None, 'Word', None, None, None, None, None, 'Word', None, None, 'After Effects', 'Word', None, None, None, 'Outlook', 'Word', None, None, None, None, 'Word', None, None, None, None, 'Word', None, None, None, 'After Effects', 'Word', None, None, None, 'Outlook', 'Word', None, None, None, None, 'Word', None, None, None, None, 'Word', None, None, None, 'After Effects', 'Word', None, None, None, 'Outlook', 'Word', None, None, None, None, 'Word', None, None, None, None, 'Word', None, None, None, 'After Effects', 'Word', None, None, None, 'Outlook', 'Word', None, None, None, None, 'Word', None, None, None, None, 'Word', None, None, None, 'After Effects', 'Word', None, None, None, 'Outlook', 'Word', None, None, None, None, 'Word', None, None, None, None, 'Word', None, None, None, 'After Effects', 'Word', None, None, None, 'Outlook', 'Word', None, None, None, None, 'Word', None, None, None, None, 'Word', None, None, None, 'After Effects', 'Word', None, None, None, None, None, None, None, 'After Effects', 'PowerPoint', 'Outlook', None, None, None, None, 'Word', None, 'Word', None, 'Word', None, None, 'Word', None, 'Premiere', None, None, None, None, None, None, 'Outlook', None, None, None, 'PowerPoint', 'Word', None, None, None, None, None, None, None, None, None, None, None, 'After Effects', 'PowerPoint', 'Outlook', None, None, None, None, 'Word', None, 'Word', None, 'Word', None, None, 'Word', None, 'Outlook', 'Word', None, None, None, None, 'Word', None, None, None, None, None, 'Word', None, None, 'After Effects', 'Word', None, None, None, None, None, None, None, 'After Effects', 'PowerPoint', 'Outlook', None, None, None, None, 'Word', None, 'Word', None, 'Word', None, None, 'Word', None, 'Premiere', None, None, None, None, None, None, 'Outlook', None, None, None, 'PowerPoint', 'Word', None, None, None, None, None, None, None, 'Outlook', 'Word', None, None, None, None, 'Word', None, None, None, None, 'Word', None, None, None, 'After Effects', 'Word', None, None, None, 'Outlook', 'Word', None, None, None, None, 'Word', None, None, None, None, 'Word', None, None, None, 'After Effects', 'Word', None, None, None, 'Outlook', 'Word', None, None, None, None, 'Word', None, None, None, None, 'Word', None, None, None, 'After Effects', 'Word', None, None, None, 'Outlook', 'Word', None, None, None, None, 'Word', None, None, None, None, None, 'Word', None, None, 'After Effects', 'Word', None, None, None, 'Outlook', 'Word', None, None, None, None, 'Word', None, None, None, None, None, 'Word', None, None, 'After Effects', 'Word', None, None, None, 'Outlook', 'Word', None, None, None, None, 'Word', None, None, None, None, 'Word', None, None, None, 'After Effects', 'Word', None, None, None, None, None, None, None, 'After Effects', 'PowerPoint', 'Outlook', None, None, None, None, 'Word', None, 'Word', None, 'Word', None, None, 'Word', None, 'Outlook', 'Word', None, None, None, None, 'Word', None, None, None, None, 'Word', None, None, None, 'After Effects', 'Word', None, None, None, 'Premiere', None, None, None, None, None, None, 'Outlook', None, None, None, 'PowerPoint', 'Word', None, None, None, None, None, None, None, 'Premiere', None, None, None, None, None, None, 'Outlook', None, None, None, 'PowerPoint', 'Word', None, None, None, None, None, None, None, None, None, None, None, 'After Effects', 'PowerPoint', 'Outlook', None, None, None, None, 'Word', None, 'Word', None, 'Word', None, None, 'Word', None, None, None, None, None, 'After Effects', 'PowerPoint', 'Outlook', None, None, None, None, 'Word', None, 'Word', None, 'Word', None, None, 'Word', None, None, None, None, None, 'After Effects', 'PowerPoint', 'Outlook', None, None, None, None, 'Word', None, 'Word', None, 'Word', None, None, 'Word', None, 'Outlook', 'Word', None, None, None, None, 'Word', None, None, None, None, None, 'Word', None, None, 'After Effects', 'Word', None, None, None, 'Outlook', 'Word', None, None, None, None, 'Word', None, None, None, None, 'Word', None, None, None, 'After Effects', 'Word', None, None, None, 'Outlook', 'Word', None, None, None, None, 'Word', None, None, None, None, 'Word', None, None, None, 'After Effects', 'Word', None, None, None, 'Premiere', None, None, None, None, None, None, 'Outlook', None, None, None, 'PowerPoint', 'Word', None, None, None, None, None, None, None, 'Outlook', 'Word', None, None, None, None, 'Word', None, None, None, None, 'Word', None, None, None, 'After Effects', 'Word', None, None, None, 'Outlook', 'Word', None, None, None, None, 'Word', None, None, None, None, 'Word', None, None, None, 'After Effects', 'Word', None, None, None, 'Outlook', 'Word', None, None, None, None, 'Word', None, None, None, None, None, 'Word', None, None, 'After Effects', 'Word', None, None, None, 'Premiere', None, None, None, None, None, None, 'Outlook', None, None, None, 'PowerPoint', 'Word', None, None, None, None, None, None, None, 'Premiere', None, None, None, None, None, None, 'Outlook', None, None, None, 'PowerPoint', 'Word', None, None, None, None, None, None, None, 'Premiere', None, None, None, None, None, None, 'Outlook', None, None, None, 'PowerPoint', 'Word', None, None, None, None, None, None, None, None, None, None, None, 'After Effects', 'PowerPoint', 'Outlook', None, None, None, None, 'Word', None, 'Word', None, 'Word', None, None, 'Word', None, 'Premiere', None, None, None, None, None, None, 'Outlook', None, None, None, 'PowerPoint', 'Word', None, None, None, None, None, None, None, 'Premiere', None, None, None, None, None, None, 'Outlook', None, None, None, 'PowerPoint', 'Word', None, None, None, None, None, None, None, 'Outlook', 'Word', None, None, None, None, 'Word', None, None, None, None, 'Word', None, None, None, 'After Effects', 'Word', None, None, None, 'Outlook', 'Word', None, None, None, None, 'Word', None, None, None, None, 'Word', None, None, None, 'After Effects', 'Word', None, None, None, None, None, None, None, 'After Effects', 'PowerPoint', 'Outlook', None, None, None, None, 'Word', None, 'Word', None, 'Word', None, None, 'Word', None, 'Outlook', 'Word', None, None, None, None, 'Word', None, None, None, None, 'Word', None, None, None, 'After Effects', 'Word', None, None, None, 'Outlook', 'Word', None, None, None, None, 'Word', None, None, None, None, 'Word', None, None, None, 'After Effects', 'Word', None, None, None, 'Outlook', 'Word', None, None, None, None, 'Word', None, None, None, None, 'Word', None, None, None, 'After Effects', 'Word', None, None, None, None, None, None, None, 'After Effects', 'PowerPoint', 'Outlook', None, None, None, None, 'Word', None, 'Word', None, 'Word', None, None, 'Word', None, 'Outlook', 'Word', None, None, None, None, 'Word', None, None, None, None, 'Word', None, None, None, 'After Effects', 'Word', None, None, None, 'Premiere', None, None, None, None, None, None, 'Outlook', None, None, None, 'PowerPoint', 'Word', None, None, None, None, None, None, None, None, None, None, None, 'After Effects', 'PowerPoint', 'Outlook', None, None, None, None, 'Word', None, 'Word', None, 'Word', None, None, 'Word', None, 'Outlook', 'Word', None, None, None, None, 'Word', None, None, None, None, 'Word', None, None, None, 'After Effects', 'Word', None, None, None, 'Outlook', 'Word', None, None, None, None, 'Word', None, None, None, None, 'Word', None, None, None, 'After Effects', 'Word', None, None, None, 'Premiere', None, None, None, None, None, None, 'Outlook', None, None, None, 'PowerPoint', 'Word', None, None, None, None, None, None, None, None, None, None, None, 'After Effects', 'PowerPoint', 'Outlook', None, None, None, None, 'Word', None, 'Word', None, 'Word', None, None, 'Word', None, None, None, None, None, 'After Effects', 'PowerPoint', 'Outlook', None, None, None, None, 'Word', None, 'Word', None, 'Word', None, None, 'Word', None, 'Outlook', 'Word', None, None, None, None, 'Word', None, None, None, None, 'Word', None, None, None, 'After Effects', 'Word', None, None, None, None, None, None, None, 'After Effects', 'PowerPoint', 'Outlook', None, None, None, None, 'Word', None, 'Word', None, 'Word', None, None, 'Word', None, 'Premiere', None, None, None, None, None, None, 'Outlook', None, None, None, 'PowerPoint', 'Word', None, None, None, None, None, None, None, None, None, None, None, 'After Effects', 'PowerPoint', 'Outlook', None, None, None, None, 'Word', None, 'Word', None, 'Word', None, None, 'Word', None, 'Outlook', 'Word', None, None, None, None, 'Word', None, None, None, None, 'Word', None, None, None, 'After Effects', 'Word', None, None, None, 'Outlook', 'Word', None, None, None, None, 'Word', None, None, None, None, 'Word', None, None, None, 'After Effects', 'Word', None, None, None, 'Outlook', 'Word', None, None, None, None, 'Word', None, None, None, None, None, 'Word', None, None, 'After Effects', 'Word', None, None, None, 'Outlook', 'Word', None, None, None, None, 'Word', None, None, None, None, 'Word', None, None, None, 'After Effects', 'Word', None, None, None, 'Outlook', 'Word', None, None, None, None, 'Word', None, None, None, None, None, 'Word', None, None, 'After Effects', 'Word', None, None, None, 'Outlook', 'Word', None, None, None, None, 'Word', None, None, None, None, 'Word', None, None, None, 'After Effects', 'Word', None, None, None, 'Outlook', 'Word', None, None, None, None, 'Word', None, None, None, None, None, 'Word', None, None, 'After Effects', 'Word', None, None, None, 'Outlook', 'Word', None, None, None, None, 'Word', None, None, None, None, 'Word', None, None, None, 'After Effects', 'Word', None, None, None, 'Premiere', None, None, None, None, None, None, 'Outlook', None, None, None, 'PowerPoint', 'Word', None, None, None, None, None, None, None, 'Outlook', 'Word', None, None, None, None, 'Word', None, None, None, None, 'Word', None, None, None, 'After Effects', 'Word', None, None, None, 'Outlook', 'Word', None, None, None, None, 'Word', None, None, None, None, 'Word', None, None, None, 'After Effects', 'Word', None, None, None, None, None, None, None, 'After Effects', 'PowerPoint', 'Outlook', None, None, None, None, 'Word', None, 'Word', None, 'Word', None, None, 'Word', None, 'Outlook', 'Word', None, None, None, None, 'Word', None, None, None, None, 'Word', None, None, None, 'After Effects', 'Word', None, None, None, 'Outlook', 'Word', None, None, None, None, 'Word', None, None, None, None, 'Word', None, None, None, 'After Effects', 'Word', None, None, None, 'Outlook', 'Word', None, None, None, None, 'Word', None, None, None, None, 'Word', None, None, None, 'After Effects', 'Word', None, None, None, 'Premiere', None, None, None, None, None, None, 'Outlook', None, None, None, 'PowerPoint', 'Word', None, None, None, None, None, None, None, 'Outlook', 'Word', None, None, None, None, 'Word', None, None, None, None, 'Word', None, None, None, 'After Effects', 'Word', None, None, None, 'Premiere', None, None, None, None, None, None, 'Outlook', None, None, None, 'PowerPoint', 'Word', None, None, None, None, None, None, None, None, None, None, None, 'After Effects', 'PowerPoint', 'Outlook', None, None, None, None, 'Word', None, 'Word', None, 'Word', None, None, 'Word', None, 'Outlook', 'Word', None, None, None, None, 'Word', None, None, None, None, 'Word', None, None, None, 'After Effects', 'Word', None, None, None, 'Outlook', 'Word', None, None, None, None, 'Word', None, None, None, None, 'Word', None, None, None, 'After Effects', 'Word', None, None, None, 'Premiere', None, None, None, None, None, None, 'Outlook', None, None, None, 'PowerPoint', 'Word', None, None, None, None, None, None, None, 'Outlook', 'Word', None, None, None, None, 'Word', None, None, None, None, 'Word', None, None, None, 'After Effects', 'Word', None, None, None, 'Premiere', None, None, None, None, None, None, 'Outlook', None, None, None, 'PowerPoint', 'Word', None, None, None, None, None, None, None, 'Outlook', 'Word', None, None, None, None, 'Word', None, None, None, None, 'Word', None, None, None, 'After Effects', 'Word', None, None, None, 'Premiere', None, None, None, None, None, None, 'Outlook', None, None, None, 'PowerPoint', 'Word', None, None, None, None, None, None, None, 'Premiere', None, None, None, None, None, None, 'Outlook', None, None, None, 'PowerPoint', 'Word', None, None, None, None, None, None, None, None, None, None, None, 'After Effects', 'PowerPoint', 'Outlook', None, None, None, None, 'Word', None, 'Word', None, 'Word', None, None, 'Word', None, None, None, None, None, 'After Effects', 'PowerPoint', 'Outlook', None, None, None, None, 'Word', None, 'Word', None, 'Word', None, None, 'Word', None, 'Outlook', 'Word', None, None, None, None, 'Word', None, None, None, None, 'Word', None, None, None, 'After Effects', 'Word', None, None, None, None, None, None, None, 'After Effects', 'PowerPoint', 'Outlook', None, None, None, None, 'Word', None, 'Word', None, 'Word', None, None, 'Word', None, 'Premiere', None, None, None, None, None, None, 'Outlook', None, None, None, 'PowerPoint', 'Word', None, None, None, None, None, None, None, 'Outlook', 'Word', None, None, None, None, 'Word', None, None, None, None, 'Word', None, None, None, 'After Effects', 'Word', None, None, None, None, None, None, None, 'After Effects', 'PowerPoint', 'Outlook', None, None, None, None, 'Word', None, 'Word', None, 'Word', None, None, 'Word', None, None, None, None, None, 'After Effects', 'PowerPoint', 'Outlook', None, None, None, None, 'Word', None, 'Word', None, 'Word', None, None, 'Word', None, None, None, None, None, 'After Effects', 'PowerPoint', 'Outlook', None, None, None, None, 'Word', None, 'Word', None, 'Word', None, None, 'Word', None, None, None, None, None, 'After Effects', 'PowerPoint', 'Outlook', None, None, None, None, 'Word', None, 'Word', None, 'Word', None, None, 'Word', None, 'Outlook', 'Word', None, None, None, None, 'Word', None, None, None, None, 'Word', None, None, None, 'After Effects', 'Word', None, None, None, 'Outlook', 'Word', None, None, None, None, 'Word', None, None, None, None, 'Word', None, None, None, 'After Effects', 'Word', None, None, None, None, None, None, None, 'After Effects', 'PowerPoint', 'Outlook', None, None, None, None, 'Word', None, 'Word', None, 'Word', None, None, 'Word', None, 'Outlook', 'Word', None, None, None, None, 'Word', None, None, None, None, 'Word', None, None, None, 'After Effects', 'Word', None, None, None, 'Premiere', None, None, None, None, None, None, 'Outlook', None, None, None, 'PowerPoint', 'Word', None, None, None, None, None, None, None, 'Premiere', None, None, None, None, None, None, 'Outlook', None, None, None, 'PowerPoint', 'Word', None, None, None, None, None, None, None, 'Outlook', 'Word', None, None, None, None, 'Word', None, None, None, None, 'Word', None, None, None, 'After Effects', 'Word', None, None, None, 'Outlook', 'Word', None, None, None, None, 'Word', None, None, None, None, 'Word', None, None, None, 'After Effects', 'Word', None, None, None, 'Outlook', 'Word', None, None, None, None, 'Word', None, None, None, None, 'Word', None, None, None, 'After Effects', 'Word', None, None, None, 'Outlook', 'Word', None, None, None, None, 'Word', None, None, None, None, 'Word', None, None, None, 'After Effects', 'Word', None, None, None, 'Premiere', None, None, None, None, None, None, 'Outlook', None, None, None, 'PowerPoint', 'Word', None, None, None, None, None, None, None, None, None, None, None, 'After Effects', 'PowerPoint', 'Outlook', None, None, None, None, 'Word', None, 'Word', None, 'Word', None, None, 'Word', None, None, None, None, None, 'After Effects', 'PowerPoint', 'Outlook', None, None, None, None, 'Word', None, 'Word', None, 'Word', None, None, 'Word', None, 'Premiere', None, None, None, None, None, None, 'Outlook', None, None, None, 'PowerPoint', 'Word', None, None, None, None, None, None, None, 'Outlook', 'Word', None, None, None, None, 'Word', None, None, None, None, 'Word', None, None, None, 'After Effects', 'Word', None, None, None, 'Outlook', 'Word', None, None, None, None, 'Word', None, None, None, None, 'Word', None, None, None, 'After Effects', 'Word', None, None, None, None, None, None, None, 'After Effects', 'PowerPoint', 'Outlook', None, None, None, None, 'Word', None, 'Word', None, 'Word', None, None, 'Word', None, 'Outlook', 'Word', None, None, None, None, 'Word', None, None, None, None, 'Word', None, None, None, 'After Effects', 'Word', None, None, None, 'Outlook', 'Word', None, None, None, None, 'Word', None, None, None, None, 'Word', None, None, None, 'After Effects', 'Word', None, None, None, 'Premiere', None, None, None, None, None, None, 'Outlook', None, None, None, 'PowerPoint', 'Word', None, None, None, None, None, None, None, None, None, None, None, 'After Effects', 'PowerPoint', 'Outlook', None, None, None, None, 'Word', None, 'Word', None, 'Word', None, None, 'Word', None, None, None, None, None, 'After Effects', 'PowerPoint', 'Outlook', None, None, None, None, 'Word', None, 'Word', None, 'Word', None, None, 'Word', None, None, None, None, None, 'After Effects', 'PowerPoint', 'Outlook', None, None, None, None, 'Word', None, 'Word', None, 'Word', None, None, 'Word', None, 'Premiere', None, None, None, None, None, None, 'Outlook', None, None, None, 'PowerPoint', 'Word', None, None, None, None, None, None, None, 'Outlook', 'Word', None, None, None, None, 'Word', None, None, None, None, 'Word', None, None, None, 'After Effects', 'Word', None, None, None, None, None, None, None, 'After Effects', 'PowerPoint', 'Outlook', None, None, None, None, 'Word', None, 'Word', None, 'Word', None, None, 'Word', None, 'Premiere', None, None, None, None, None, None, 'Outlook', None, None, None, 'PowerPoint', 'Word', None, None, None, None, None, None, None, 'Outlook', 'Word', None, None, None, None, 'Word', None, None, None, None, 'Word', None, None, None, 'After Effects', 'Word', None, None, None, 'Outlook', 'Word', None, None, None, None, 'Word', None, None, None, None, 'Word', None, None, None, 'After Effects', 'Word', None, None, None, 'Outlook', 'Word', None, None, None, None, 'Word', None, None, None, None, 'Word', None, None, None, 'After Effects', 'Word', None, None, None, 'Outlook', 'Word', None, None, None, None, 'Word', None, None, None, None, 'Word', None, None, None, 'After Effects', 'Word', None, None, None, 'Outlook', 'Word', None, None, None, None, 'Word', None, None, None, None, 'Word', None, None, None, 'After Effects', 'Word', None, None, None, 'Word', None, None, None, None, 'Word', None, None, None, None, 'PowerPoint', 'Word', 'Word', None, None, 'Word', None, 'PowerPoint', 'Word', None, 'Illustrator', None, 'Word', None, 'Word', None, None, None, None, 'Word', 'PowerPoint', 'Google Analytics', None, None, None, None, '中文打字50~75', None, None, None, None, None, None, None, None, 'Flash', 'Adobe Photoshop', None, None, None, None, None, None, None, 'Flash', 'Word', 'PowerPoint', None, None, None, None, '中文打字50~75', None, 'Adobe Photoshop', None, None, None, None, '中文打字20~50', None, None, None, None, None, None, None, None, 'PowerPoint', None, None, None, 'Word', '中文打字50~75', None, None, None, None, None, None, None, 'PowerPoint', 'Google Analytics', None, None, None, None, '中文打字50~75', None, None, None, None, None, None, None, None, 'Flash', 'Adobe Photoshop', None, None, None, None, None, None, None, 'Flash', 'Word', 'PowerPoint', None, None, None, None, '中文打字50~75', None, 'Adobe Photoshop', None, None, None, None, '中文打字20~50', None, 'PowerPoint', 'Google Analytics', None, None, None, None, '中文打字50~75', None, None, None, None, None, None, None, None, 'Flash', 'Adobe Photoshop', None, None, None, 'PowerPoint', 'Google Analytics', None, None, None, None, '中文打字50~75', None, None, None, None, None, None, None, None, 'Flash', 'Adobe Photoshop', None, None, None, None, None, None, None, None, None, None, 'PowerPoint', None, None, None, 'Word', '中文打字50~75', None, None, None, None, None, None, None, 'PowerPoint', 'Google Analytics', None, None, None, None, '中文打字50~75', None, None, None, None, None, None, None, None, 'Flash', 'Adobe Photoshop', None, None, None, 'PowerPoint', 'Google Analytics', None, None, None, None, '中文打字50~75', None, None, None, None, None, None, None, None, 'Flash', 'Adobe Photoshop', None, None, None, None, None, None, None, None, None, None, 'PowerPoint', None, None, None, 'Word', '中文打字50~75', None, None, None, None, None, None, None, 'PowerPoint', 'Google Analytics', None, None, None, None, '中文打字50~75', None, None, None, None, None, None, None, None, 'Flash', 'Adobe Photoshop', None, None, None, 'PowerPoint', 'Google Analytics', None, None, None, None, '中文打字50~75', None, None, None, None, None, None, None, None, 'Flash', 'Adobe Photoshop', None, None, None, 'PowerPoint', 'Google Analytics', None, None, None, None, '中文打字50~75', None, None, None, None, None, None, None, None, 'Flash', 'Adobe Photoshop', None, None, None, None, None, None, None, None, None, None, 'PowerPoint', None, None, None, 'Word', '中文打字50~75', None, None, None, None, None, None, None, None, None, None, None, None, None, None, 'PowerPoint', None, None, None, 'Word', '中文打字50~75', None, None, None, None, None, None, None, None, None, None, None, 'Flash', 'Word', 'PowerPoint', None, None, None, None, '中文打字50~75', None, 'Adobe Photoshop', None, None, None, None, '中文打字20~50', None, 'PowerPoint', 'Google Analytics', None, None, None, None, '中文打字50~75', None, None, None, None, None, None, None, None, 'Flash', 'Adobe Photoshop', None, None, None, None, None, None, None, 'Flash', 'Word', 'PowerPoint', None, None, None, None, '中文打字50~75', None, 'Adobe Photoshop', None, None, None, None, '中文打字20~50', None, 'PowerPoint', 'Google Analytics', None, None, None, None, '中文打字50~75', None, None, None, None, None, None, None, None, 'Flash', 'Adobe Photoshop', None, None, None, None, None, None, None, 'Flash', 'Word', 'PowerPoint', None, None, None, None, '中文打字50~75', None, 'Adobe Photoshop', None, None, None, None, '中文打字20~50', None, 'PowerPoint', 'Google Analytics', None, None, None, None, '中文打字50~75', None, None, None, None, None, None, None, None, 'Flash', 'Adobe Photoshop', None, None, None, 'PowerPoint', 'Google Analytics', None, None, None, None, '中文打字50~75', None, None, None, None, None, None, None, None, 'Flash', 'Adobe Photoshop', None, None, None, 'PowerPoint', 'Google Analytics', None, None, None, None, '中文打字50~75', None, None, None, None, None, None, None, None, 'Flash', 'Adobe Photoshop', None, None, None, 'PowerPoint', 'Google Analytics', None, None, None, None, '中文打字50~75', None, None, None, None, None, None, None, None, 'Flash', 'Adobe Photoshop', None, None, None, 'PowerPoint', 'Google Analytics', None, None, None, None, '中文打字50~75', None, None, None, None, None, None, None, None, 'Flash', 'Adobe Photoshop', None, None, None, 'PowerPoint', 'Google Analytics', None, None, None, None, '中文打字50~75', None, None, None, None, None, None, None, None, 'Flash', 'Adobe Photoshop', None, None, None, 'PowerPoint', 'Google Analytics', None, None, None, None, '中文打字50~75', None, None, None, None, None, None, None, None, 'Flash', 'Adobe Photoshop', None, None, None, 'PowerPoint', 'Google Analytics', None, None, None, None, '中文打字50~75', None, None, None, None, None, None, None, None, 'Flash', 'Adobe Photoshop', None, None, None, None, None, None, None, 'Flash', 'Word', 'PowerPoint', None, None, None, None, '中文打字50~75', None, 'Adobe Photoshop', None, None, None, None, '中文打字20~50', None, None, None, None, None, None, None, None, 'PowerPoint', None, None, None, 'Word', '中文打字50~75', None, None, None, None, None, None, None, None, None, None, None, 'Flash', 'Word', 'PowerPoint', None, None, None, None, '中文打字50~75', None, 'Adobe Photoshop', None, None, None, None, '中文打字20~50', None, 'PowerPoint', 'Google Analytics', None, None, None, None, '中文打字50~75', None, None, None, None, None, None, None, None, 'Flash', 'Adobe Photoshop', None, None, None, None, None, None, None, 'Flash', 'Word', 'PowerPoint', None, None, None, None, '中文打字50~75', None, 'Adobe Photoshop', None, None, None, None, '中文打字20~50', None, None, None, None, None, None, None, None, 'PowerPoint', None, None, None, 'Word', '中文打字50~75', None, None, None, None, None, None, None, 'PowerPoint', 'Google Analytics', None, None, None, None, '中文打字50~75', None, None, None, None, None, None, None, None, 'Flash', 'Adobe Photoshop', None, None, None, 'PowerPoint', 'Google Analytics', None, None, None, None, '中文打字50~75', None, None, None, None, None, None, None, None, 'Flash', 'Adobe Photoshop', None, None, None, 'PowerPoint', 'Google Analytics', None, None, None, None, '中文打字50~75', None, None, None, None, None, None, None, None, 'Flash', 'Adobe Photoshop', None, None, None, 'PowerPoint', 'Google Analytics', None, None, None, None, '中文打字50~75', None, None, None, None, None, None, None, None, 'Flash', 'Adobe Photoshop', None, None, None, 'PowerPoint', 'Google Analytics', None, None, None, None, '中文打字50~75', None, None, None, None, None, None, None, None, 'Flash', 'Adobe Photoshop', None, None, None, 'PowerPoint', 'Google Analytics', None, None, None, None, '中文打字50~75', None, None, None, None, None, None, None, None, 'Flash', 'Adobe Photoshop', None, None, None, None, None, None, None, 'Flash', 'Word', 'PowerPoint', None, None, None, None, '中文打字50~75', None, 'Adobe Photoshop', None, None, None, None, '中文打字20~50', None, 'PowerPoint', 'Google Analytics', None, None, None, None, '中文打字50~75', None, None, None, None, None, None, None, None, 'Flash', 'Adobe Photoshop', None, None, None, None, None, None, None, None, None, None, 'PowerPoint', None, None, None, 'Word', '中文打字50~75', None, None, None, None, None, None, None, None, None, None, None, None, None, None, 'PowerPoint', None, None, None, 'Word', '中文打字50~75', None, None, None, None, None, None, None, None, None, None, None, 'Flash', 'Word', 'PowerPoint', None, None, None, None, '中文打字50~75', None, 'Adobe Photoshop', None, None, None, None, '中文打字20~50', None, None, None, None, None, 'Flash', 'Word', 'PowerPoint', None, None, None, None, '中文打字50~75', None, 'Adobe Photoshop', None, None, None, None, '中文打字20~50', None, None, None, None, None, 'Flash', 'Word', 'PowerPoint', None, None, None, None, '中文打字50~75', None, 'Adobe Photoshop', None, None, None, None, '中文打字20~50', None, 'PowerPoint', 'Google Analytics', None, None, None, None, '中文打字50~75', None, None, None, None, None, None, None, None, 'Flash', 'Adobe Photoshop', None, None, None, 'PowerPoint', 'Google Analytics', None, None, None, None, '中文打字50~75', None, None, None, None, None, None, None, None, 'Flash', 'Adobe Photoshop', None, None, None, 'PowerPoint', 'Google Analytics', None, None, None, None, '中文打字50~75', None, None, None, None, None, None, None, None, 'Flash', 'Adobe Photoshop', None, None, None, None, None, None, None, None, None, None, 'PowerPoint', None, None, None, 'Word', '中文打字50~75', None, None, None, None, None, None, None, 'PowerPoint', 'Google Analytics', None, None, None, None, '中文打字50~75', None, None, None, None, None, None, None, None, 'Flash', 'Adobe Photoshop', None, None, None, 'PowerPoint', 'Google Analytics', None, None, None, None, '中文打字50~75', None, None, None, None, None, None, None, None, 'Flash', 'Adobe Photoshop', None, None, None, 'PowerPoint', 'Google Analytics', None, None, None, None, '中文打字50~75', None, None, None, None, None, None, None, None, 'Flash', 'Adobe Photoshop', None, None, None, None, None, None, None, None, None, None, 'PowerPoint', None, None, None, 'Word', '中文打字50~75', None, None, None, None, None, None, None, None, None, None, None, None, None, None, 'PowerPoint', None, None, None, 'Word', '中文打字50~75', None, None, None, None, None, None, None, None, None, None, None, None, None, None, 'PowerPoint', None, None, None, 'Word', '中文打字50~75', None, None, None, None, None, None, None, None, None, None, None, 'Flash', 'Word', 'PowerPoint', None, None, None, None, '中文打字50~75', None, 'Adobe Photoshop', None, None, None, None, '中文打字20~50', None, None, None, None, None, None, None, None, 'PowerPoint', None, None, None, 'Word', '中文打字50~75', None, None, None, None, None, None, None, None, None, None, None, None, None, None, 'PowerPoint', None, None, None, 'Word', '中文打字50~75', None, None, None, None, None, None, None, 'PowerPoint', 'Google Analytics', None, None, None, None, '中文打字50~75', None, None, None, None, None, None, None, None, 'Flash', 'Adobe Photoshop', None, None, None, 'PowerPoint', 'Google Analytics', None, None, None, None, '中文打字50~75', None, None, None, None, None, None, None, None, 'Flash', 'Adobe Photoshop', None, None, None, None, None, None, None, 'Flash', 'Word', 'PowerPoint', None, None, None, None, '中文打字50~75', None, 'Adobe Photoshop', None, None, None, None, '中文打字20~50', None, 'PowerPoint', 'Google Analytics', None, None, None, None, '中文打字50~75', None, None, None, None, None, None, None, None, 'Flash', 'Adobe Photoshop', None, None, None, 'PowerPoint', 'Google Analytics', None, None, None, None, '中文打字50~75', None, None, None, None, None, None, None, None, 'Flash', 'Adobe Photoshop', None, None, None, 'PowerPoint', 'Google Analytics', None, None, None, None, '中文打字50~75', None, None, None, None, None, None, None, None, 'Flash', 'Adobe Photoshop', None, None, None, None, None, None, None, 'Flash', 'Word', 'PowerPoint', None, None, None, None, '中文打字50~75', None, 'Adobe Photoshop', None, None, None, None, '中文打字20~50', None, 'PowerPoint', 'Google Analytics', None, None, None, None, '中文打字50~75', None, None, None, None, None, None, None, None, 'Flash', 'Adobe Photoshop', None, None, None, None, None, None, None, None, None, None, 'PowerPoint', None, None, None, 'Word', '中文打字50~75', None, None, None, None, None, None, None, None, None, None, None, 'Flash', 'Word', 'PowerPoint', None, None, None, None, '中文打字50~75', None, 'Adobe Photoshop', None, None, None, None, '中文打字20~50', None, 'PowerPoint', 'Google Analytics', None, None, None, None, '中文打字50~75', None, None, None, None, None, None, None, None, 'Flash', 'Adobe Photoshop', None, None, None, 'PowerPoint', 'Google Analytics', None, None, None, None, '中文打字50~75', None, None, None, None, None, None, None, None, 'Flash', 'Adobe Photoshop', None, None, None, None, None, None, None, None, None, None, 'PowerPoint', None, None, None, 'Word', '中文打字50~75', None, None, None, None, None, None, None, None, None, None, None, 'Flash', 'Word', 'PowerPoint', None, None, None, None, '中文打字50~75', None, 'Adobe Photoshop', None, None, None, None, '中文打字20~50', None, None, None, None, None, 'Flash', 'Word', 'PowerPoint', None, None, None, None, '中文打字50~75', None, 'Adobe Photoshop', None, None, None, None, '中文打字20~50', None, 'PowerPoint', 'Google Analytics', None, None, None, None, '中文打字50~75', None, None, None, None, None, None, None, None, 'Flash', 'Adobe Photoshop', None, None, None, None, None, None, None, 'Flash', 'Word', 'PowerPoint', None, None, None, None, '中文打字50~75', None, 'Adobe Photoshop', None, None, None, None, '中文打字20~50', None, None, None, None, None, None, None, None, 'PowerPoint', None, None, None, 'Word', '中文打字50~75', None, None, None, None, None, None, None, None, None, None, None, 'Flash', 'Word', 'PowerPoint', None, None, None, None, '中文打字50~75', None, 'Adobe Photoshop', None, None, None, None, '中文打字20~50', None, 'PowerPoint', 'Google Analytics', None, None, None, None, '中文打字50~75', None, None, None, None, None, None, None, None, 'Flash', 'Adobe Photoshop', None, None, None, 'PowerPoint', 'Google Analytics', None, None, None, None, '中文打字50~75', None, None, None, None, None, None, None, None, 'Flash', 'Adobe Photoshop', None, None, None, 'PowerPoint', 'Google Analytics', None, None, None, None, '中文打字50~75', None, None, None, None, None, None, None, None, 'Flash', 'Adobe Photoshop', None, None, None, 'PowerPoint', 'Google Analytics', None, None, None, None, '中文打字50~75', None, None, None, None, None, None, None, None, 'Flash', 'Adobe Photoshop', None, None, None, 'PowerPoint', 'Google Analytics', None, None, None, None, '中文打字50~75', None, None, None, None, None, None, None, None, 'Flash', 'Adobe Photoshop', None, None, None, 'PowerPoint', 'Google Analytics', None, None, None, None, '中文打字50~75', None, None, None, None, None, None, None, None, 'Flash', 'Adobe Photoshop', None, None, None, 'PowerPoint', 'Google Analytics', None, None, None, None, '中文打字50~75', None, None, None, None, None, None, None, None, 'Flash', 'Adobe Photoshop', None, None, None, 'PowerPoint', 'Google Analytics', None, None, None, None, '中文打字50~75', None, None, None, None, None, None, None, None, 'Flash', 'Adobe Photoshop', None, None, None, None, None, None, None, None, None, None, 'PowerPoint', None, None, None, 'Word', '中文打字50~75', None, None, None, None, None, None, None, 'PowerPoint', 'Google Analytics', None, None, None, None, '中文打字50~75', None, None, None, None, None, None, None, None, 'Flash', 'Adobe Photoshop', None, None, None, 'PowerPoint', 'Google Analytics', None, None, None, None, '中文打字50~75', None, None, None, None, None, None, None, None, 'Flash', 'Adobe Photoshop', None, None, None, None, None, None, None, 'Flash', 'Word', 'PowerPoint', None, None, None, None, '中文打字50~75', None, 'Adobe Photoshop', None, None, None, None, '中文打字20~50', None, 'PowerPoint', 'Google Analytics', None, None, None, None, '中文打字50~75', None, None, None, None, None, None, None, None, 'Flash', 'Adobe Photoshop', None, None, None, 'PowerPoint', 'Google Analytics', None, None, None, None, '中文打字50~75', None, None, None, None, None, None, None, None, 'Flash', 'Adobe Photoshop', None, None, None, 'PowerPoint', 'Google Analytics', None, None, None, None, '中文打字50~75', None, None, None, None, None, None, None, None, 'Flash', 'Adobe Photoshop', None, None, None, None, None, None, None, None, None, None, 'PowerPoint', None, None, None, 'Word', '中文打字50~75', None, None, None, None, None, None, None, 'PowerPoint', 'Google Analytics', None, None, None, None, '中文打字50~75', None, None, None, None, None, None, None, None, 'Flash', 'Adobe Photoshop', None, None, None, None, None, None, None, None, None, None, 'PowerPoint', None, None, None, 'Word', '中文打字50~75', None, None, None, None, None, None, None, None, None, None, None, 'Flash', 'Word', 'PowerPoint', None, None, None, None, '中文打字50~75', None, 'Adobe Photoshop', None, None, None, None, '中文打字20~50', None, 'PowerPoint', 'Google Analytics', None, None, None, None, '中文打字50~75', None, None, None, None, None, None, None, None, 'Flash', 'Adobe Photoshop', None, None, None, 'PowerPoint', 'Google Analytics', None, None, None, None, '中文打字50~75', None, None, None, None, None, None, None, None, 'Flash', 'Adobe Photoshop', None, None, None, None, None, None, None, None, None, None, 'PowerPoint', None, None, None, 'Word', '中文打字50~75', None, None, None, None, None, None, None, 'PowerPoint', 'Google Analytics', None, None, None, None, '中文打字50~75', None, None, None, None, None, None, None, None, 'Flash', 'Adobe Photoshop', None, None, None, None, None, None, None, None, None, None, 'PowerPoint', None, None, None, 'Word', '中文打字50~75', None, None, None, None, None, None, None, 'PowerPoint', 'Google Analytics', None, None, None, None, '中文打字50~75', None, None, None, None, None, None, None, None, 'Flash', 'Adobe Photoshop', None, None, None, None, None, None, None, None, None, None, 'PowerPoint', None, None, None, 'Word', '中文打字50~75', None, None, None, None, None, None, None, None, None, None, None, None, None, None, 'PowerPoint', None, None, None, 'Word', '中文打字50~75', None, None, None, None, None, None, None, None, None, None, None, 'Flash', 'Word', 'PowerPoint', None, None, None, None, '中文打字50~75', None, 'Adobe Photoshop', None, None, None, None, '中文打字20~50', None, None, None, None, None, 'Flash', 'Word', 'PowerPoint', None, None, None, None, '中文打字50~75', None, 'Adobe Photoshop', None, None, None, None, '中文打字20~50', None, 'PowerPoint', 'Google Analytics', None, None, None, None, '中文打字50~75', None, None, None, None, None, None, None, None, 'Flash', 'Adobe Photoshop', None, None, None, None, None, None, None, 'Flash', 'Word', 'PowerPoint', None, None, None, None, '中文打字50~75', None, 'Adobe Photoshop', None, None, None, None, '中文打字20~50', None, None, None, None, None, None, None, None, 'PowerPoint', None, None, None, 'Word', '中文打字50~75', None, None, None, None, None, None, None, 'PowerPoint', 'Google Analytics', None, None, None, None, '中文打字50~75', None, None, None, None, None, None, None, None, 'Flash', 'Adobe Photoshop', None, None, None, None, None, None, None, 'Flash', 'Word', 'PowerPoint', None, None, None, None, '中文打字50~75', None, 'Adobe Photoshop', None, None, None, None, '中文打字20~50', None, None, None, None, None, 'Flash', 'Word', 'PowerPoint', None, None, None, None, '中文打字50~75', None, 'Adobe Photoshop', None, None, None, None, '中文打字20~50', None, None, None, None, None, 'Flash', 'Word', 'PowerPoint', None, None, None, None, '中文打字50~75', None, 'Adobe Photoshop', None, None, None, None, '中文打字20~50', None, None, None, None, None, 'Flash', 'Word', 'PowerPoint', None, None, None, None, '中文打字50~75', None, 'Adobe Photoshop', None, None, None, None, '中文打字20~50', None, 'PowerPoint', 'Google Analytics', None, None, None, None, '中文打字50~75', None, None, None, None, None, None, None, None, 'Flash', 'Adobe Photoshop', None, None, None, 'PowerPoint', 'Google Analytics', None, None, None, None, '中文打字50~75', None, None, None, None, None, None, None, None, 'Flash', 'Adobe Photoshop', None, None, None, None, None, None, None, 'Flash', 'Word', 'PowerPoint', None, None, None, None, '中文打字50~75', None, 'Adobe Photoshop', None, None, None, None, '中文打字20~50', None, 'PowerPoint', 'Google Analytics', None, None, None, None, '中文打字50~75', None, None, None, None, None, None, None, None, 'Flash', 'Adobe Photoshop', None, None, None, None, None, None, None, None, None, None, 'PowerPoint', None, None, None, 'Word', '中文打字50~75', None, None, None, None, None, None, None, None, None, None, None, None, None, None, 'PowerPoint', None, None, None, 'Word', '中文打字50~75', None, None, None, None, None, None, None, 'PowerPoint', 'Google Analytics', None, None, None, None, '中文打字50~75', None, None, None, None, None, None, None, None, 'Flash', 'Adobe Photoshop', None, None, None, 'PowerPoint', 'Google Analytics', None, None, None, None, '中文打字50~75', None, None, None, None, None, None, None, None, 'Flash', 'Adobe Photoshop', None, None, None, 'PowerPoint', 'Google Analytics', None, None, None, None, '中文打字50~75', None, None, None, None, None, None, None, None, 'Flash', 'Adobe Photoshop', None, None, None, 'PowerPoint', 'Google Analytics', None, None, None, None, '中文打字50~75', None, None, None, None, None, None, None, None, 'Flash', 'Adobe Photoshop', None, None, None, None, None, None, None, None, None, None, 'PowerPoint', None, None, None, 'Word', '中文打字50~75', None, None, None, None, None, None, None, None, None, None, None, 'Flash', 'Word', 'PowerPoint', None, None, None, None, '中文打字50~75', None, 'Adobe Photoshop', None, None, None, None, '中文打字20~50', None, None, None, None, None, 'Flash', 'Word', 'PowerPoint', None, None, None, None, '中文打字50~75', None, 'Adobe Photoshop', None, None, None, None, '中文打字20~50', None, None, None, None, None, None, None, None, 'PowerPoint', None, None, None, 'Word', '中文打字50~75', None, None, None, None, None, None, None, 'PowerPoint', 'Google Analytics', None, None, None, None, '中文打字50~75', None, None, None, None, None, None, None, None, 'Flash', 'Adobe Photoshop', None, None, None, 'PowerPoint', 'Google Analytics', None, None, None, None, '中文打字50~75', None, None, None, None, None, None, None, None, 'Flash', 'Adobe Photoshop', None, None, None, None, None, None, None, 'Flash', 'Word', 'PowerPoint', None, None, None, None, '中文打字50~75', None, 'Adobe Photoshop', None, None, None, None, '中文打字20~50', None, 'PowerPoint', 'Google Analytics', None, None, None, None, '中文打字50~75', None, None, None, None, None, None, None, None, 'Flash', 'Adobe Photoshop', None, None, None, 'PowerPoint', 'Google Analytics', None, None, None, None, '中文打字50~75', None, None, None, None, None, None, None, None, 'Flash', 'Adobe Photoshop', None, None, None, None, None, None, None, None, None, None, 'PowerPoint', None, None, None, 'Word', '中文打字50~75', None, None, None, None, None, None, None, None, None, None, None, 'Flash', 'Word', 'PowerPoint', None, None, None, None, '中文打字50~75', None, 'Adobe Photoshop', None, None, None, None, '中文打字20~50', None, None, None, None, None, 'Flash', 'Word', 'PowerPoint', None, None, None, None, '中文打字50~75', None, 'Adobe Photoshop', None, None, None, None, '中文打字20~50', None, None, None, None, None, 'Flash', 'Word', 'PowerPoint', None, None, None, None, '中文打字50~75', None, 'Adobe Photoshop', None, None, None, None, '中文打字20~50', None, None, None, None, None, None, None, None, 'PowerPoint', None, None, None, 'Word', '中文打字50~75', None, None, None, None, None, None, None, 'PowerPoint', 'Google Analytics', None, None, None, None, '中文打字50~75', None, None, None, None, None, None, None, None, 'Flash', 'Adobe Photoshop', None, None, None, None, None, None, None, 'Flash', 'Word', 'PowerPoint', None, None, None, None, '中文打字50~75', None, 'Adobe Photoshop', None, None, None, None, '中文打字20~50', None, None, None, None, None, None, None, None, 'PowerPoint', None, None, None, 'Word', '中文打字50~75', None, None, None, None, None, None, None, 'PowerPoint', 'Google Analytics', None, None, None, None, '中文打字50~75', None, None, None, None, None, None, None, None, 'Flash', 'Adobe Photoshop', None, None, None, 'PowerPoint', 'Google Analytics', None, None, None, None, '中文打字50~75', None, None, None, None, None, None, None, None, 'Flash', 'Adobe Photoshop', None, None, None, 'PowerPoint', 'Google Analytics', None, None, None, None, '中文打字50~75', None, None, None, None, None, None, None, None, 'Flash', 'Adobe Photoshop', None, None, None, 'PowerPoint', 'Google Analytics', None, None, None, None, '中文打字50~75', None, None, None, None, None, None, None, None, 'Flash', 'Adobe Photoshop', None, None, None, 'PowerPoint', 'Google Analytics', None, None, None, None, '中文打字50~75', None, None, None, None, None, None, None, None, 'Flash', 'Adobe Photoshop', None, None, None, None, None, None, None, None, None, None, None, None, None, 'Word', None, None, None, None, None, None, 'Word', 'Adobe Photoshop', None, 'AutoCAD', None, 'Adobe Photoshop', None, None, None, None, None, None, None, 'Word', 'Adobe Photoshop', None, None, None, None, '英文打字50~75', None, None, None, None, None, None, None, None, 'Premiere', None, None, None, None, None, None, None, None, 'Premiere', 'Adobe Photoshop', 'Word', None, None, None, None, '英文打字50~75', None, None, None, None, None, None, None, None, None, None, None, None, None, None, None, 'Word', None, None, None, 'Adobe Photoshop', '英文打字50~75', None, None, None, None, None, None, None, 'Word', 'Adobe Photoshop', None, None, None, None, '英文打字50~75', None, None, None, None, None, None, None, None, 'Premiere', None, None, None, None, None, None, None, None, 'Premiere', 'Adobe Photoshop', 'Word', None, None, None, None, '英文打字50~75', None, None, None, None, None, None, None, None, 'Word', 'Adobe Photoshop', None, None, None, None, '英文打字50~75', None, None, None, None, None, None, None, None, 'Premiere', None, None, None, None, 'Word', 'Adobe Photoshop', None, None, None, None, '英文打字50~75', None, None, None, None, None, None, None, None, 'Premiere', None, None, None, None, None, None, None, None, None, None, None, 'Word', None, None, None, 'Adobe Photoshop', '英文打字50~75', None, None, None, None, None, None, None, 'Word', 'Adobe Photoshop', None, None, None, None, '英文打字50~75', None, None, None, None, None, None, None, None, 'Premiere', None, None, None, None, 'Word', 'Adobe Photoshop', None, None, None, None, '英文打字50~75', None, None, None, None, None, None, None, None, 'Premiere', None, None, None, None, None, None, None, None, None, None, None, 'Word', None, None, None, 'Adobe Photoshop', '英文打字50~75', None, None, None, None, None, None, None, 'Word', 'Adobe Photoshop', None, None, None, None, '英文打字50~75', None, None, None, None, None, None, None, None, 'Premiere', None, None, None, None, 'Word', 'Adobe Photoshop', None, None, None, None, '英文打字50~75', None, None, None, None, None, None, None, None, 'Premiere', None, None, None, None, 'Word', 'Adobe Photoshop', None, None, None, None, '英文打字50~75', None, None, None, None, None, None, None, None, 'Premiere', None, None, None, None, None, None, None, None, None, None, None, 'Word', None, None, None, 'Adobe Photoshop', '英文打字50~75', None, None, None, None, None, None, None, None, None, None, None, None, None, None, 'Word', None, None, None, 'Adobe Photoshop', '英文打字50~75', None, None, None, None, None, None, None, None, None, None, None, 'Premiere', 'Adobe Photoshop', 'Word', None, None, None, None, '英文打字50~75', None, None, None, None, None, None, None, None, 'Word', 'Adobe Photoshop', None, None, None, None, '英文打字50~75', None, None, None, None, None, None, None, None, 'Premiere', None, None, None, None, None, None, None, None, 'Premiere', 'Adobe Photoshop', 'Word', None, None, None, None, '英文打字50~75', None, None, None, None, None, None, None, None, 'Word', 'Adobe Photoshop', None, None, None, None, '英文打字50~75', None, None, None, None, None, None, None, None, 'Premiere', None, None, None, None, None, None, None, None, 'Premiere', 'Adobe Photoshop', 'Word', None, None, None, None, '英文打字50~75', None, None, None, None, None, None, None, None, 'Word', 'Adobe Photoshop', None, None, None, None, '英文打字50~75', None, None, None, None, None, None, None, None, 'Premiere', None, None, None, None, 'Word', 'Adobe Photoshop', None, None, None, None, '英文打字50~75', None, None, None, None, None, None, None, None, 'Premiere', None, None, None, None, 'Word', 'Adobe Photoshop', None, None, None, None, '英文打字50~75', None, None, None, None, None, None, None, None, 'Premiere', None, None, None, None, 'Word', 'Adobe Photoshop', None, None, None, None, '英文打字50~75', None, None, None, None, None, None, None, None, 'Premiere', None, None, None, None, 'Word', 'Adobe Photoshop', None, None, None, None, '英文打字50~75', None, None, None, None, None, None, None, None, 'Premiere', None, None, None, None, 'Word', 'Adobe Photoshop', None, None, None, None, '英文打字50~75', None, None, None, None, None, None, None, None, 'Premiere', None, None, None, None, 'Word', 'Adobe Photoshop', None, None, None, None, '英文打字50~75', None, None, None, None, None, None, None, None, 'Premiere', None, None, None, None, 'Word', 'Adobe Photoshop', None, None, None, None, '英文打字50~75', None, None, None, None, None, None, None, None, 'Premiere', None, None, None, None, None, None, None, None, 'Premiere', 'Adobe Photoshop', 'Word', None, None, None, None, '英文打字50~75', None, None, None, None, None, None, None, None, None, None, None, None, None, None, None, 'Word', None, None, None, 'Adobe Photoshop', '英文打字50~75', None, None, None, None, None, None, None, None, None, None, None, 'Premiere', 'Adobe Photoshop', 'Word', None, None, None, None, '英文打字50~75', None, None, None, None, None, None, None, None, 'Word', 'Adobe Photoshop', None, None, None, None, '英文打字50~75', None, None, None, None, None, None, None, None, 'Premiere', None, None, None, None, None, None, None, None, 'Premiere', 'Adobe Photoshop', 'Word', None, None, None, None, '英文打字50~75', None, None, None, None, None, None, None, None, None, None, None, None, None, None, None, 'Word', None, None, None, 'Adobe Photoshop', '英文打字50~75', None, None, None, None, None, None, None, 'Word', 'Adobe Photoshop', None, None, None, None, '英文打字50~75', None, None, None, None, None, None, None, None, 'Premiere', None, None, None, None, 'Word', 'Adobe Photoshop', None, None, None, None, '英文打字50~75', None, None, None, None, None, None, None, None, 'Premiere', None, None, None, None, 'Word', 'Adobe Photoshop', None, None, None, None, '英文打字50~75', None, None, None, None, None, None, None, None, 'Premiere', None, None, None, None, 'Word', 'Adobe Photoshop', None, None, None, None, '英文打字50~75', None, None, None, None, None, None, None, None, 'Premiere', None, None, None, None, 'Word', 'Adobe Photoshop', None, None, None, None, '英文打字50~75', None, None, None, None, None, None, None, None, 'Premiere', None, None, None, None, 'Word', 'Adobe Photoshop', None, None, None, None, '英文打字50~75', None, None, None, None, None, None, None, None, 'Premiere', None, None, None, None, None, None, None, None, 'Premiere', 'Adobe Photoshop', 'Word', None, None, None, None, '英文打字50~75', None, None, None, None, None, None, None, None, 'Word', 'Adobe Photoshop', None, None, None, None, '英文打字50~75', None, None, None, None, None, None, None, None, 'Premiere', None, None, None, None, None, None, None, None, None, None, None, 'Word', None, None, None, 'Adobe Photoshop', '英文打字50~75', None, None, None, None, None, None, None, None, None, None, None, None, None, None, 'Word', None, None, None, 'Adobe Photoshop', '英文打字50~75', None, None, None, None, None, None, None, None, None, None, None, 'Premiere', 'Adobe Photoshop', 'Word', None, None, None, None, '英文打字50~75', None, None, None, None, None, None, None, None, None, None, None, None, 'Premiere', 'Adobe Photoshop', 'Word', None, None, None, None, '英文打字50~75', None, None, None, None, None, None, None, None, None, None, None, None, 'Premiere', 'Adobe Photoshop', 'Word', None, None, None, None, '英文打字50~75', None, None, None, None, None, None, None, None, 'Word', 'Adobe Photoshop', None, None, None, None, '英文打字50~75', None, None, None, None, None, None, None, None, 'Premiere', None, None, None, None, 'Word', 'Adobe Photoshop', None, None, None, None, '英文打字50~75', None, None, None, None, None, None, None, None, 'Premiere', None, None, None, None, 'Word', 'Adobe Photoshop', None, None, None, None, '英文打字50~75', None, None, None, None, None, None, None, None, 'Premiere', None, None, None, None, None, None, None, None, None, None, None, 'Word', None, None, None, 'Adobe Photoshop', '英文打字50~75', None, None, None, None, None, None, None, 'Word', 'Adobe Photoshop', None, None, None, None, '英文打字50~75', None, None, None, None, None, None, None, None, 'Premiere', None, None, None, None, 'Word', 'Adobe Photoshop', None, None, None, None, '英文打字50~75', None, None, None, None, None, None, None, None, 'Premiere', None, None, None, None, 'Word', 'Adobe Photoshop', None, None, None, None, '英文打字50~75', None, None, None, None, None, None, None, None, 'Premiere', None, None, None, None, None, None, None, None, None, None, None, 'Word', None, None, None, 'Adobe Photoshop', '英文打字50~75', None, None, None, None, None, None, None, None, None, None, None, None, None, None, 'Word', None, None, None, 'Adobe Photoshop', '英文打字50~75', None, None, None, None, None, None, None, None, None, None, None, None, None, None, 'Word', None, None, None, 'Adobe Photoshop', '英文打字50~75', None, None, None, None, None, None, None, None, None, None, None, 'Premiere', 'Adobe Photoshop', 'Word', None, None, None, None, '英文打字50~75', None, None, None, None, None, None, None, None, None, None, None, None, None, None, None, 'Word', None, None, None, 'Adobe Photoshop', '英文打字50~75', None, None, None, None, None, None, None, None, None, None, None, None, None, None, 'Word', None, None, None, 'Adobe Photoshop', '英文打字50~75', None, None, None, None, None, None, None, 'Word', 'Adobe Photoshop', None, None, None, None, '英文打字50~75', None, None, None, None, None, None, None, None, 'Premiere', None, None, None, None, 'Word', 'Adobe Photoshop', None, None, None, None, '英文打字50~75', None, None, None, None, None, None, None, None, 'Premiere', None, None, None, None, None, None, None, None, 'Premiere', 'Adobe Photoshop', 'Word', None, None, None, None, '英文打字50~75', None, None, None, None, None, None, None, None, 'Word', 'Adobe Photoshop', None, None, None, None, '英文打字50~75', None, None, None, None, None, None, None, None, 'Premiere', None, None, None, None, 'Word', 'Adobe Photoshop', None, None, None, None, '英文打字50~75', None, None, None, None, None, None, None, None, 'Premiere', None, None, None, None, 'Word', 'Adobe Photoshop', None, None, None, None, '英文打字50~75', None, None, None, None, None, None, None, None, 'Premiere', None, None, None, None, None, None, None, None, 'Premiere', 'Adobe Photoshop', 'Word', None, None, None, None, '英文打字50~75', None, None, None, None, None, None, None, None, 'Word', 'Adobe Photoshop', None, None, None, None, '英文打字50~75', None, None, None, None, None, None, None, None, 'Premiere', None, None, None, None, None, None, None, None, None, None, None, 'Word', None, None, None, 'Adobe Photoshop', '英文打字50~75', None, None, None, None, None, None, None, None, None, None, None, 'Premiere', 'Adobe Photoshop', 'Word', None, None, None, None, '英文打字50~75', None, None, None, None, None, None, None, None, 'Word', 'Adobe Photoshop', None, None, None, None, '英文打字50~75', None, None, None, None, None, None, None, None, 'Premiere', None, None, None, None, 'Word', 'Adobe Photoshop', None, None, None, None, '英文打字50~75', None, None, None, None, None, None, None, None, 'Premiere', None, None, None, None, None, None, None, None, None, None, None, 'Word', None, None, None, 'Adobe Photoshop', '英文打字50~75', None, None, None, None, None, None, None, None, None, None, None, 'Premiere', 'Adobe Photoshop', 'Word', None, None, None, None, '英文打字50~75', None, None, None, None, None, None, None, None, None, None, None, None, 'Premiere', 'Adobe Photoshop', 'Word', None, None, None, None, '英文打字50~75', None, None, None, None, None, None, None, None, 'Word', 'Adobe Photoshop', None, None, None, None, '英文打字50~75', None, None, None, None, None, None, None, None, 'Premiere', None, None, None, None, None, None, None, None, 'Premiere', 'Adobe Photoshop', 'Word', None, None, None, None, '英文打字50~75', None, None, None, None, None, None, None, None, None, None, None, None, None, None, None, 'Word', None, None, None, 'Adobe Photoshop', '英文打字50~75', None, None, None, None, None, None, None, None, None, None, None, 'Premiere', 'Adobe Photoshop', 'Word', None, None, None, None, '英文打字50~75', None, None, None, None, None, None, None, None, 'Word', 'Adobe Photoshop', None, None, None, None, '英文打字50~75', None, None, None, None, None, None, None, None, 'Premiere', None, None, None, None, 'Word', 'Adobe Photoshop', None, None, None, None, '英文打字50~75', None, None, None, None, None, None, None, None, 'Premiere', None, None, None, None, 'Word', 'Adobe Photoshop', None, None, None, None, '英文打字50~75', None, None, None, None, None, None, None, None, 'Premiere', None, None, None, None, 'Word', 'Adobe Photoshop', None, None, None, None, '英文打字50~75', None, None, None, None, None, None, None, None, 'Premiere', None, None, None, None, 'Word', 'Adobe Photoshop', None, None, None, None, '英文打字50~75', None, None, None, None, None, None, None, None, 'Premiere', None, None, None, None, 'Word', 'Adobe Photoshop', None, None, None, None, '英文打字50~75', None, None, None, None, None, None, None, None, 'Premiere', None, None, None, None, 'Word', 'Adobe Photoshop', None, None, None, None, '英文打字50~75', None, None, None, None, None, None, None, None, 'Premiere', None, None, None, None, 'Word', 'Adobe Photoshop', None, None, None, None, '英文打字50~75', None, None, None, None, None, None, None, None, 'Premiere', None, None, None, None, None, None, None, None, None, None, None, 'Word', None, None, None, 'Adobe Photoshop', '英文打字50~75', None, None, None, None, None, None, None, 'Word', 'Adobe Photoshop', None, None, None, None, '英文打字50~75', None, None, None, None, None, None, None, None, 'Premiere', None, None, None, None, 'Word', 'Adobe Photoshop', None, None, None, None, '英文打字50~75', None, None, None, None, None, None, None, None, 'Premiere', None, None, None, None, None, None, None, None, 'Premiere', 'Adobe Photoshop', 'Word', None, None, None, None, '英文打字50~75', None, None, None, None, None, None, None, None, 'Word', 'Adobe Photoshop', None, None, None, None, '英文打字50~75', None, None, None, None, None, None, None, None, 'Premiere', None, None, None, None, 'Word', 'Adobe Photoshop', None, None, None, None, '英文打字50~75', None, None, None, None, None, None, None, None, 'Premiere', None, None, None, None, 'Word', 'Adobe Photoshop', None, None, None, None, '英文打字50~75', None, None, None, None, None, None, None, None, 'Premiere', None, None, None, None, None, None, None, None, None, None, None, 'Word', None, None, None, 'Adobe Photoshop', '英文打字50~75', None, None, None, None, None, None, None, 'Word', 'Adobe Photoshop', None, None, None, None, '英文打字50~75', None, None, None, None, None, None, None, None, 'Premiere', None, None, None, None, None, None, None, None, None, None, None, 'Word', None, None, None, 'Adobe Photoshop', '英文打字50~75', None, None, None, None, None, None, None, None, None, None, None, 'Premiere', 'Adobe Photoshop', 'Word', None, None, None, None, '英文打字50~75', None, None, None, None, None, None, None, None, 'Word', 'Adobe Photoshop', None, None, None, None, '英文打字50~75', None, None, None, None, None, None, None, None, 'Premiere', None, None, None, None, 'Word', 'Adobe Photoshop', None, None, None, None, '英文打字50~75', None, None, None, None, None, None, None, None, 'Premiere', None, None, None, None, None, None, None, None, None, None, None, 'Word', None, None, None, 'Adobe Photoshop', '英文打字50~75', None, None, None, None, None, None, None, 'Word', 'Adobe Photoshop', None, None, None, None, '英文打字50~75', None, None, None, None, None, None, None, None, 'Premiere', None, None, None, None, None, None, None, None, None, None, None, 'Word', None, None, None, 'Adobe Photoshop', '英文打字50~75', None, None, None, None, None, None, None, 'Word', 'Adobe Photoshop', None, None, None, None, '英文打字50~75', None, None, None, None, None, None, None, None, 'Premiere', None, None, None, None, None, None, None, None, None, None, None, 'Word', None, None, None, 'Adobe Photoshop', '英文打字50~75', None, None, None, None, None, None, None, None, None, None, None, None, None, None, 'Word', None, None, None, 'Adobe Photoshop', '英文打字50~75', None, None, None, None, None, None, None, None, None, None, None, 'Premiere', 'Adobe Photoshop', 'Word', None, None, None, None, '英文打字50~75', None, None, None, None, None, None, None, None, None, None, None, None, 'Premiere', 'Adobe Photoshop', 'Word', None, None, None, None, '英文打字50~75', None, None, None, None, None, None, None, None, 'Word', 'Adobe Photoshop', None, None, None, None, '英文打字50~75', None, None, None, None, None, None, None, None, 'Premiere', None, None, None, None, None, None, None, None, 'Premiere', 'Adobe Photoshop', 'Word', None, None, None, None, '英文打字50~75', None, None, None, None, None, None, None, None, None, None, None, None, None, None, None, 'Word', None, None, None, 'Adobe Photoshop', '英文打字50~75', None, None, None, None, None, None, None, 'Word', 'Adobe Photoshop', None, None, None, None, '英文打字50~75', None, None, None, None, None, None, None, None, 'Premiere', None, None, None, None, None, None, None, None, 'Premiere', 'Adobe Photoshop', 'Word', None, None, None, None, '英文打字50~75', None, None, None, None, None, None, None, None, None, None, None, None, 'Premiere', 'Adobe Photoshop', 'Word', None, None, None, None, '英文打字50~75', None, None, None, None, None, None, None, None, None, None, None, None, 'Premiere', 'Adobe Photoshop', 'Word', None, None, None, None, '英文打字50~75', None, None, None, None, None, None, None, None, None, None, None, None, 'Premiere', 'Adobe Photoshop', 'Word', None, None, None, None, '英文打字50~75', None, None, None, None, None, None, None, None, 'Word', 'Adobe Photoshop', None, None, None, None, '英文打字50~75', None, None, None, None, None, None, None, None, 'Premiere', None, None, None, None, 'Word', 'Adobe Photoshop', None, None, None, None, '英文打字50~75', None, None, None, None, None, None, None, None, 'Premiere', None, None, None, None, None, None, None, None, 'Premiere', 'Adobe Photoshop', 'Word', None, None, None, None, '英文打字50~75', None, None, None, None, None, None, None, None, 'Word', 'Adobe Photoshop', None, None, None, None, '英文打字50~75', None, None, None, None, None, None, None, None, 'Premiere', None, None, None, None, None, None, None, None, None, None, None, 'Word', None, None, None, 'Adobe Photoshop', '英文打字50~75', None, None, None, None, None, None, None, None, None, None, None, None, None, None, 'Word', None, None, None, 'Adobe Photoshop', '英文打字50~75', None, None, None, None, None, None, None, 'Word', 'Adobe Photoshop', None, None, None, None, '英文打字50~75', None, None, None, None, None, None, None, None, 'Premiere', None, None, None, None, 'Word', 'Adobe Photoshop', None, None, None, None, '英文打字50~75', None, None, None, None, None, None, None, None, 'Premiere', None, None, None, None, 'Word', 'Adobe Photoshop', None, None, None, None, '英文打字50~75', None, None, None, None, None, None, None, None, 'Premiere', None, None, None, None, 'Word', 'Adobe Photoshop', None, None, None, None, '英文打字50~75', None, None, None, None, None, None, None, None, 'Premiere', None, None, None, None, None, None, None, None, None, None, None, 'Word', None, None, None, 'Adobe Photoshop', '英文打字50~75', None, None, None, None, None, None, None, None, None, None, None, 'Premiere', 'Adobe Photoshop', 'Word', None, None, None, None, '英文打字50~75', None, None, None, None, None, None, None, None, None, None, None, None, 'Premiere', 'Adobe Photoshop', 'Word', None, None, None, None, '英文打字50~75', None, None, None, None, None, None, None, None, None, None, None, None, None, None, None, 'Word', None, None, None, 'Adobe Photoshop', '英文打字50~75', None, None, None, None, None, None, None, 'Word', 'Adobe Photoshop', None, None, None, None, '英文打字50~75', None, None, None, None, None, None, None, None, 'Premiere', None, None, None, None, 'Word', 'Adobe Photoshop', None, None, None, None, '英文打字50~75', None, None, None, None, None, None, None, None, 'Premiere', None, None, None, None, None, None, None, None, 'Premiere', 'Adobe Photoshop', 'Word', None, None, None, None, '英文打字50~75', None, None, None, None, None, None, None, None, 'Word', 'Adobe Photoshop', None, None, None, None, '英文打字50~75', None, None, None, None, None, None, None, None, 'Premiere', None, None, None, None, 'Word', 'Adobe Photoshop', None, None, None, None, '英文打字50~75', None, None, None, None, None, None, None, None, 'Premiere', None, None, None, None, None, None, None, None, None, None, None, 'Word', None, None, None, 'Adobe Photoshop', '英文打字50~75', None, None, None, None, None, None, None, None, None, None, None, 'Premiere', 'Adobe Photoshop', 'Word', None, None, None, None, '英文打字50~75', None, None, None, None, None, None, None, None, None, None, None, None, 'Premiere', 'Adobe Photoshop', 'Word', None, None, None, None, '英文打字50~75', None, None, None, None, None, None, None, None, None, None, None, None, 'Premiere', 'Adobe Photoshop', 'Word', None, None, None, None, '英文打字50~75', None, None, None, None, None, None, None, None, None, None, None, None, None, None, None, 'Word', None, None, None, 'Adobe Photoshop', '英文打字50~75', None, None, None, None, None, None, None, 'Word', 'Adobe Photoshop', None, None, None, None, '英文打字50~75', None, None, None, None, None, None, None, None, 'Premiere', None, None, None, None, None, None, None, None, 'Premiere', 'Adobe Photoshop', 'Word', None, None, None, None, '英文打字50~75', None, None, None, None, None, None, None, None, None, None, None, None, None, None, None, 'Word', None, None, None, 'Adobe Photoshop', '英文打字50~75', None, None, None, None, None, None, None, 'Word', 'Adobe Photoshop', None, None, None, None, '英文打字50~75', None, None, None, None, None, None, None, None, 'Premiere', None, None, None, None, 'Word', 'Adobe Photoshop', None, None, None, None, '英文打字50~75', None, None, None, None, None, None, None, None, 'Premiere', None, None, None, None, 'Word', 'Adobe Photoshop', None, None, None, None, '英文打字50~75', None, None, None, None, None, None, None, None, 'Premiere', None, None, None, None, 'Word', 'Adobe Photoshop', None, None, None, None, '英文打字50~75', None, None, None, None, None, None, None, None, 'Premiere', None, None, None, None, 'Word', 'Adobe Photoshop', None, None, None, None, '英文打字50~75', None, None, None, None, None, None, None, None, 'Premiere', None, None, None, None, None, None, None, None, None, None, None, None, None, None, 'Adobe Photoshop', None, None, None, None, None, None, None, None, None, None, None, None, None, None, None, None, None, None, None, '中文打字20~50', 'Illustrator', None, None, None, None, None, None, None, None, None, None, None, None, None, 'Adobe Photoshop', None, None, None, None, None, None, None, None, 'Adobe Photoshop', 'Illustrator', '中文打字20~50', None, None, None, None, None, None, None, None, None, None, None, None, None, None, None, None, None, None, None, None, '中文打字20~50', None, None, None, 'Illustrator', None, None, None, None, None, None, None, None, '中文打字20~50', 'Illustrator', None, None, None, None, None, None, None, None, None, None, None, None, None, 'Adobe Photoshop', None, None, None, None, None, None, None, None, 'Adobe Photoshop', 'Illustrator', '中文打字20~50', None, None, None, None, None, None, None, None, None, None, None, None, None, '中文打字20~50', 'Illustrator', None, None, None, None, None, None, None, None, None, None, None, None, None, 'Adobe Photoshop', None, None, None, None, '中文打字20~50', 'Illustrator', None, None, None, None, None, None, None, None, None, None, None, None, None, 'Adobe Photoshop', None, None, None, None, None, None, None, None, None, None, None, '中文打字20~50', None, None, None, 'Illustrator', None, None, None, None, None, None, None, None, '中文打字20~50', 'Illustrator', None, None, None, None, None, None, None, None, None, None, None, None, None, 'Adobe Photoshop', None, None, None, None, '中文打字20~50', 'Illustrator', None, None, None, None, None, None, None, None, None, None, None, None, None, 'Adobe Photoshop', None, None, None, None, None, None, None, None, None, None, None, '中文打字20~50', None, None, None, 'Illustrator', None, None, None, None, None, None, None, None, '中文打字20~50', 'Illustrator', None, None, None, None, None, None, None, None, None, None, None, None, None, 'Adobe Photoshop', None, None, None, None, '中文打字20~50', 'Illustrator', None, None, None, None, None, None, None, None, None, None, None, None, None, 'Adobe Photoshop', None, None, None, None, '中文打字20~50', 'Illustrator', None, None, None, None, None, None, None, None, None, None, None, None, None, 'Adobe Photoshop', None, None, None, None, None, None, None, None, None, None, None, '中文打字20~50', None, None, None, 'Illustrator', None, None, None, None, None, None, None, None, None, None, None, None, None, None, None, '中文打字20~50', None, None, None, 'Illustrator', None, None, None, None, None, None, None, None, None, None, None, None, 'Adobe Photoshop', 'Illustrator', '中文打字20~50', None, None, None, None, None, None, None, None, None, None, None, None, None, '中文打字20~50', 'Illustrator', None, None, None, None, None, None, None, None, None, None, None, None, None, 'Adobe Photoshop', None, None, None, None, None, None, None, None, 'Adobe Photoshop', 'Illustrator', '中文打字20~50', None, None, None, None, None, None, None, None, None, None, None, None, None, '中文打字20~50', 'Illustrator', None, None, None, None, None, None, None, None, None, None, None, None, None, 'Adobe Photoshop', None, None, None, None, None, None, None, None, 'Adobe Photoshop', 'Illustrator', '中文打字20~50', None, None, None, None, None, None, None, None, None, None, None, None, None, '中文打字20~50', 'Illustrator', None, None, None, None, None, None, None, None, None, None, None, None, None, 'Adobe Photoshop', None, None, None, None, '中文打字20~50', 'Illustrator', None, None, None, None, None, None, None, None, None, None, None, None, None, 'Adobe Photoshop', None, None, None, None, '中文打字20~50', 'Illustrator', None, None, None, None, None, None, None, None, None, None, None, None, None, 'Adobe Photoshop', None, None, None, None, '中文打字20~50', 'Illustrator', None, None, None, None, None, None, None, None, None, None, None, None, None, 'Adobe Photoshop', None, None, None, None, '中文打字20~50', 'Illustrator', None, None, None, None, None, None, None, None, None, None, None, None, None, 'Adobe Photoshop', None, None, None, None, '中文打字20~50', 'Illustrator', None, None, None, None, None, None, None, None, None, None, None, None, None, 'Adobe Photoshop', None, None, None, None, '中文打字20~50', 'Illustrator', None, None, None, None, None, None, None, None, None, None, None, None, None, 'Adobe Photoshop', None, None, None, None, '中文打字20~50', 'Illustrator', None, None, None, None, None, None, None, None, None, None, None, None, None, 'Adobe Photoshop', None, None, None, None, None, None, None, None, 'Adobe Photoshop', 'Illustrator', '中文打字20~50', None, None, None, None, None, None, None, None, None, None, None, None, None, None, None, None, None, None, None, None, '中文打字20~50', None, None, None, 'Illustrator', None, None, None, None, None, None, None, None, None, None, None, None, 'Adobe Photoshop', 'Illustrator', '中文打字20~50', None, None, None, None, None, None, None, None, None, None, None, None, None, '中文打字20~50', 'Illustrator', None, None, None, None, None, None, None, None, None, None, None, None, None, 'Adobe Photoshop', None, None, None, None, None, None, None, None, 'Adobe Photoshop', 'Illustrator', '中文打字20~50', None, None, None, None, None, None, None, None, None, None, None, None, None, None, None, None, None, None, None, None, '中文打字20~50', None, None, None, 'Illustrator', None, None, None, None, None, None, None, None, '中文打字20~50', 'Illustrator', None, None, None, None, None, None, None, None, None, None, None, None, None, 'Adobe Photoshop', None, None, None, None, '中文打字20~50', 'Illustrator', None, None, None, None, None, None, None, None, None, None, None, None, None, 'Adobe Photoshop', None, None, None, None, '中文打字20~50', 'Illustrator', None, None, None, None, None, None, None, None, None, None, None, None, None, 'Adobe Photoshop', None, None, None, None, '中文打字20~50', 'Illustrator', None, None, None, None, None, None, None, None, None, None, None, None, None, 'Adobe Photoshop', None, None, None, None, '中文打字20~50', 'Illustrator', None, None, None, None, None, None, None, None, None, None, None, None, None, 'Adobe Photoshop', None, None, None, None, '中文打字20~50', 'Illustrator', None, None, None, None, None, None, None, None, None, None, None, None, None, 'Adobe Photoshop', None, None, None, None, None, None, None, None, 'Adobe Photoshop', 'Illustrator', '中文打字20~50', None, None, None, None, None, None, None, None, None, None, None, None, None, '中文打字20~50', 'Illustrator', None, None, None, None, None, None, None, None, None, None, None, None, None, 'Adobe Photoshop', None, None, None, None, None, None, None, None, None, None, None, '中文打字20~50', None, None, None, 'Illustrator', None, None, None, None, None, None, None, None, None, None, None, None, None, None, None, '中文打字20~50', None, None, None, 'Illustrator', None, None, None, None, None, None, None, None, None, None, None, None, 'Adobe Photoshop', 'Illustrator', '中文打字20~50', None, None, None, None, None, None, None, None, None, None, None, None, None, None, None, None, None, 'Adobe Photoshop', 'Illustrator', '中文打字20~50', None, None, None, None, None, None, None, None, None, None, None, None, None, None, None, None, None, 'Adobe Photoshop', 'Illustrator', '中文打字20~50', None, None, None, None, None, None, None, None, None, None, None, None, None, '中文打字20~50', 'Illustrator', None, None, None, None, None, None, None, None, None, None, None, None, None, 'Adobe Photoshop', None, None, None, None, '中文打字20~50', 'Illustrator', None, None, None, None, None, None, None, None, None, None, None, None, None, 'Adobe Photoshop', None, None, None, None, '中文打字20~50', 'Illustrator', None, None, None, None, None, None, None, None, None, None, None, None, None, 'Adobe Photoshop', None, None, None, None, None, None, None, None, None, None, None, '中文打字20~50', None, None, None, 'Illustrator', None, None, None, None, None, None, None, None, '中文打字20~50', 'Illustrator', None, None, None, None, None, None, None, None, None, None, None, None, None, 'Adobe Photoshop', None, None, None, None, '中文打字20~50', 'Illustrator', None, None, None, None, None, None, None, None, None, None, None, None, None, 'Adobe Photoshop', None, None, None, None, '中文打字20~50', 'Illustrator', None, None, None, None, None, None, None, None, None, None, None, None, None, 'Adobe Photoshop', None, None, None, None, None, None, None, None, None, None, None, '中文打字20~50', None, None, None, 'Illustrator', None, None, None, None, None, None, None, None, None, None, None, None, None, None, None, '中文打字20~50', None, None, None, 'Illustrator', None, None, None, None, None, None, None, None, None, None, None, None, None, None, None, '中文打字20~50', None, None, None, 'Illustrator', None, None, None, None, None, None, None, None, None, None, None, None, 'Adobe Photoshop', 'Illustrator', '中文打字20~50', None, None, None, None, None, None, None, None, None, None, None, None, None, None, None, None, None, None, None, None, '中文打字20~50', None, None, None, 'Illustrator', None, None, None, None, None, None, None, None, None, None, None, None, None, None, None, '中文打字20~50', None, None, None, 'Illustrator', None, None, None, None, None, None, None, None, '中文打字20~50', 'Illustrator', None, None, None, None, None, None, None, None, None, None, None, None, None, 'Adobe Photoshop', None, None, None, None, '中文打字20~50', 'Illustrator', None, None, None, None, None, None, None, None, None, None, None, None, None, 'Adobe Photoshop', None, None, None, None, None, None, None, None, 'Adobe Photoshop', 'Illustrator', '中文打字20~50', None, None, None, None, None, None, None, None, None, None, None, None, None, '中文打字20~50', 'Illustrator', None, None, None, None, None, None, None, None, None, None, None, None, None, 'Adobe Photoshop', None, None, None, None, '中文打字20~50', 'Illustrator', None, None, None, None, None, None, None, None, None, None, None, None, None, 'Adobe Photoshop', None, None, None, None, '中文打字20~50', 'Illustrator', None, None, None, None, None, None, None, None, None, None, None, None, None, 'Adobe Photoshop', None, None, None, None, None, None, None, None, 'Adobe Photoshop', 'Illustrator', '中文打字20~50', None, None, None, None, None, None, None, None, None, None, None, None, None, '中文打字20~50', 'Illustrator', None, None, None, None, None, None, None, None, None, None, None, None, None, 'Adobe Photoshop', None, None, None, None, None, None, None, None, None, None, None, '中文打字20~50', None, None, None, 'Illustrator', None, None, None, None, None, None, None, None, None, None, None, None, 'Adobe Photoshop', 'Illustrator', '中文打字20~50', None, None, None, None, None, None, None, None, None, None, None, None, None, '中文打字20~50', 'Illustrator', None, None, None, None, None, None, None, None, None, None, None, None, None, 'Adobe Photoshop', None, None, None, None, '中文打字20~50', 'Illustrator', None, None, None, None, None, None, None, None, None, None, None, None, None, 'Adobe Photoshop', None, None, None, None, None, None, None, None, None, None, None, '中文打字20~50', None, None, None, 'Illustrator', None, None, None, None, None, None, None, None, None, None, None, None, 'Adobe Photoshop', 'Illustrator', '中文打字20~50', None, None, None, None, None, None, None, None, None, None, None, None, None, None, None, None, None, 'Adobe Photoshop', 'Illustrator', '中文打字20~50', None, None, None, None, None, None, None, None, None, None, None, None, None, '中文打字20~50', 'Illustrator', None, None, None, None, None, None, None, None, None, None, None, None, None, 'Adobe Photoshop', None, None, None, None, None, None, None, None, 'Adobe Photoshop', 'Illustrator', '中文打字20~50', None, None, None, None, None, None, None, None, None, None, None, None, None, None, None, None, None, None, None, None, '中文打字20~50', None, None, None, 'Illustrator', None, None, None, None, None, None, None, None, None, None, None, None, 'Adobe Photoshop', 'Illustrator', '中文打字20~50', None, None, None, None, None, None, None, None, None, None, None, None, None, '中文打字20~50', 'Illustrator', None, None, None, None, None, None, None, None, None, None, None, None, None, 'Adobe Photoshop', None, None, None, None, '中文打字20~50', 'Illustrator', None, None, None, None, None, None, None, None, None, None, None, None, None, 'Adobe Photoshop', None, None, None, None, '中文打字20~50', 'Illustrator', None, None, None, None, None, None, None, None, None, None, None, None, None, 'Adobe Photoshop', None, None, None, None, '中文打字20~50', 'Illustrator', None, None, None, None, None, None, None, None, None, None, None, None, None, 'Adobe Photoshop', None, None, None, None, '中文打字20~50', 'Illustrator', None, None, None, None, None, None, None, None, None, None, None, None, None, 'Adobe Photoshop', None, None, None, None, '中文打字20~50', 'Illustrator', None, None, None, None, None, None, None, None, None, None, None, None, None, 'Adobe Photoshop', None, None, None, None, '中文打字20~50', 'Illustrator', None, None, None, None, None, None, None, None, None, None, None, None, None, 'Adobe Photoshop', None, None, None, None, '中文打字20~50', 'Illustrator', None, None, None, None, None, None, None, None, None, None, None, None, None, 'Adobe Photoshop', None, None, None, None, None, None, None, None, None, None, None, '中文打字20~50', None, None, None, 'Illustrator', None, None, None, None, None, None, None, None, '中文打字20~50', 'Illustrator', None, None, None, None, None, None, None, None, None, None, None, None, None, 'Adobe Photoshop', None, None, None, None, '中文打字20~50', 'Illustrator', None, None, None, None, None, None, None, None, None, None, None, None, None, 'Adobe Photoshop', None, None, None, None, None, None, None, None, 'Adobe Photoshop', 'Illustrator', '中文打字20~50', None, None, None, None, None, None, None, None, None, None, None, None, None, '中文打字20~50', 'Illustrator', None, None, None, None, None, None, None, None, None, None, None, None, None, 'Adobe Photoshop', None, None, None, None, '中文打字20~50', 'Illustrator', None, None, None, None, None, None, None, None, None, None, None, None, None, 'Adobe Photoshop', None, None, None, None, '中文打字20~50', 'Illustrator', None, None, None, None, None, None, None, None, None, None, None, None, None, 'Adobe Photoshop', None, None, None, None, None, None, None, None, None, None, None, '中文打字20~50', None, None, None, 'Illustrator', None, None, None, None, None, None, None, None, '中文打字20~50', 'Illustrator', None, None, None, None, None, None, None, None, None, None, None, None, None, 'Adobe Photoshop', None, None, None, None, None, None, None, None, None, None, None, '中文打字20~50', None, None, None, 'Illustrator', None, None, None, None, None, None, None, None, None, None, None, None, 'Adobe Photoshop', 'Illustrator', '中文打字20~50', None, None, None, None, None, None, None, None, None, None, None, None, None, '中文打字20~50', 'Illustrator', None, None, None, None, None, None, None, None, None, None, None, None, None, 'Adobe Photoshop', None, None, None, None, '中文打字20~50', 'Illustrator', None, None, None, None, None, None, None, None, None, None, None, None, None, 'Adobe Photoshop', None, None, None, None, None, None, None, None, None, None, None, '中文打字20~50', None, None, None, 'Illustrator', None, None, None, None, None, None, None, None, '中文打字20~50', 'Illustrator', None, None, None, None, None, None, None, None, None, None, None, None, None, 'Adobe Photoshop', None, None, None, None, None, None, None, None, None, None, None, '中文打字20~50', None, None, None, 'Illustrator', None, None, None, None, None, None, None, None, '中文打字20~50', 'Illustrator', None, None, None, None, None, None, None, None, None, None, None, None, None, 'Adobe Photoshop', None, None, None, None, None, None, None, None, None, None, None, '中文打字20~50', None, None, None, 'Illustrator', None, None, None, None, None, None, None, None, None, None, None, None, None, None, None, '中文打字20~50', None, None, None, 'Illustrator', None, None, None, None, None, None, None, None, None, None, None, None, 'Adobe Photoshop', 'Illustrator', '中文打字20~50', None, None, None, None, None, None, None, None, None, None, None, None, None, None, None, None, None, 'Adobe Photoshop', 'Illustrator', '中文打字20~50', None, None, None, None, None, None, None, None, None, None, None, None, None, '中文打字20~50', 'Illustrator', None, None, None, None, None, None, None, None, None, None, None, None, None, 'Adobe Photoshop', None, None, None, None, None, None, None, None, 'Adobe Photoshop', 'Illustrator', '中文打字20~50', None, None, None, None, None, None, None, None, None, None, None, None, None, None, None, None, None, None, None, None, '中文打字20~50', None, None, None, 'Illustrator', None, None, None, None, None, None, None, None, '中文打字20~50', 'Illustrator', None, None, None, None, None, None, None, None, None, None, None, None, None, 'Adobe Photoshop', None, None, None, None, None, None, None, None, 'Adobe Photoshop', 'Illustrator', '中文打字20~50', None, None, None, None, None, None, None, None, None, None, None, None, None, None, None, None, None, 'Adobe Photoshop', 'Illustrator', '中文打字20~50', None, None, None, None, None, None, None, None, None, None, None, None, None, None, None, None, None, 'Adobe Photoshop', 'Illustrator', '中文打字20~50', None, None, None, None, None, None, None, None, None, None, None, None, None, None, None, None, None, 'Adobe Photoshop', 'Illustrator', '中文打字20~50', None, None, None, None, None, None, None, None, None, None, None, None, None, '中文打字20~50', 'Illustrator', None, None, None, None, None, None, None, None, None, None, None, None, None, 'Adobe Photoshop', None, None, None, None, '中文打字20~50', 'Illustrator', None, None, None, None, None, None, None, None, None, None, None, None, None, 'Adobe Photoshop', None, None, None, None, None, None, None, None, 'Adobe Photoshop', 'Illustrator', '中文打字20~50', None, None, None, None, None, None, None, None, None, None, None, None, None, '中文打字20~50', 'Illustrator', None, None, None, None, None, None, None, None, None, None, None, None, None, 'Adobe Photoshop', None, None, None, None, None, None, None, None, None, None, None, '中文打字20~50', None, None, None, 'Illustrator', None, None, None, None, None, None, None, None, None, None, None, None, None, None, None, '中文打字20~50', None, None, None, 'Illustrator', None, None, None, None, None, None, None, None, '中文打字20~50', 'Illustrator', None, None, None, None, None, None, None, None, None, None, None, None, None, 'Adobe Photoshop', None, None, None, None, '中文打字20~50', 'Illustrator', None, None, None, None, None, None, None, None, None, None, None, None, None, 'Adobe Photoshop', None, None, None, None, '中文打字20~50', 'Illustrator', None, None, None, None, None, None, None, None, None, None, None, None, None, 'Adobe Photoshop', None, None, None, None, '中文打字20~50', 'Illustrator', None, None, None, None, None, None, None, None, None, None, None, None, None, 'Adobe Photoshop', None, None, None, None, None, None, None, None, None, None, None, '中文打字20~50', None, None, None, 'Illustrator', None, None, None, None, None, None, None, None, None, None, None, None, 'Adobe Photoshop', 'Illustrator', '中文打字20~50', None, None, None, None, None, None, None, None, None, None, None, None, None, None, None, None, None, 'Adobe Photoshop', 'Illustrator', '中文打字20~50', None, None, None, None, None, None, None, None, None, None, None, None, None, None, None, None, None, None, None, None, '中文打字20~50', None, None, None, 'Illustrator', None, None, None, None, None, None, None, None, '中文打字20~50', 'Illustrator', None, None, None, None, None, None, None, None, None, None, None, None, None, 'Adobe Photoshop', None, None, None, None, '中文打字20~50', 'Illustrator', None, None, None, None, None, None, None, None, None, None, None, None, None, 'Adobe Photoshop', None, None, None, None, None, None, None, None, 'Adobe Photoshop', 'Illustrator', '中文打字20~50', None, None, None, None, None, None, None, None, None, None, None, None, None, '中文打字20~50', 'Illustrator', None, None, None, None, None, None, None, None, None, None, None, None, None, 'Adobe Photoshop', None, None, None, None, '中文打字20~50', 'Illustrator', None, None, None, None, None, None, None, None, None, None, None, None, None, 'Adobe Photoshop', None, None, None, None, None, None, None, None, None, None, None, '中文打字20~50', None, None, None, 'Illustrator', None, None, None, None, None, None, None, None, None, None, None, None, 'Adobe Photoshop', 'Illustrator', '中文打字20~50', None, None, None, None, None, None, None, None, None, None, None, None, None, None, None, None, None, 'Adobe Photoshop', 'Illustrator', '中文打字20~50', None, None, None, None, None, None, None, None, None, None, None, None, None, None, None, None, None, 'Adobe Photoshop', 'Illustrator', '中文打字20~50', None, None, None, None, None, None, None, None, None, None, None, None, None, None, None, None, None, None, None, None, '中文打字20~50', None, None, None, 'Illustrator', None, None, None, None, None, None, None, None, '中文打字20~50', 'Illustrator', None, None, None, None, None, None, None, None, None, None, None, None, None, 'Adobe Photoshop', None, None, None, None, None, None, None, None, 'Adobe Photoshop', 'Illustrator', '中文打字20~50', None, None, None, None, None, None, None, None, None, None, None, None, None, None, None, None, None, None, None, None, '中文打字20~50', None, None, None, 'Illustrator', None, None, None, None, None, None, None, None, '中文打字20~50', 'Illustrator', None, None, None, None, None, None, None, None, None, None, None, None, None, 'Adobe Photoshop', None, None, None, None, '中文打字20~50', 'Illustrator', None, None, None, None, None, None, None, None, None, None, None, None, None, 'Adobe Photoshop', None, None, None, None, '中文打字20~50', 'Illustrator', None, None, None, None, None, None, None, None, None, None, None, None, None, 'Adobe Photoshop', None, None, None, None, '中文打字20~50', 'Illustrator', None, None, None, None, None, None, None, None, None, None, None, None, None, 'Adobe Photoshop', None, None, None, None, '中文打字20~50', 'Illustrator', None, None, None, None, None, None, None, None, None, None, None, None, None, 'Adobe Photoshop', None, None, None, None, None, None, None, None, None, None, None, None, None, None, None, None, None, None, None, None, None, None, None, None, None, None, None, None, None, None, None, None, None, None, '英文打字20~50', None, None, None, None, None, None, None, None, None, None, None, None, None, None, 'CoolDraw', None, None, None, None, None, None, None, None, 'CoolDraw', None, '英文打字20~50', None, None, None, None, None, None, None, None, None, None, None, None, None, None, None, None, None, None, None, None, '英文打字20~50', None, None, None, None, None, None, None, None, None, None, None, None, '英文打字20~50', None, None, None, None, None, None, None, None, None, None, None, None, None, None, 'CoolDraw', None, None, None, None, None, None, None, None, 'CoolDraw', None, '英文打字20~50', None, None, None, None, None, None, None, None, None, None, None, None, None, '英文打字20~50', None, None, None, None, None, None, None, None, None, None, None, None, None, None, 'CoolDraw', None, None, None, None, '英文打字20~50', None, None, None, None, None, None, None, None, None, None, None, None, None, None, 'CoolDraw', None, None, None, None, None, None, None, None, None, None, None, '英文打字20~50', None, None, None, None, None, None, None, None, None, None, None, None, '英文打字20~50', None, None, None, None, None, None, None, None, None, None, None, None, None, None, 'CoolDraw', None, None, None, None, '英文打字20~50', None, None, None, None, None, None, None, None, None, None, None, None, None, None, 'CoolDraw', None, None, None, None, None, None, None, None, None, None, None, '英文打字20~50', None, None, None, None, None, None, None, None, None, None, None, None, '英文打字20~50', None, None, None, None, None, None, None, None, None, None, None, None, None, None, 'CoolDraw', None, None, None, None, '英文打字20~50', None, None, None, None, None, None, None, None, None, None, None, None, None, None, 'CoolDraw', None, None, None, None, '英文打字20~50', None, None, None, None, None, None, None, None, None, None, None, None, None, None, 'CoolDraw', None, None, None, None, None, None, None, None, None, None, None, '英文打字20~50', None, None, None, None, None, None, None, None, None, None, None, None, None, None, None, None, None, None, None, '英文打字20~50', None, None, None, None, None, None, None, None, None, None, None, None, None, None, None, None, 'CoolDraw', None, '英文打字20~50', None, None, None, None, None, None, None, None, None, None, None, None, None, '英文打字20~50', None, None, None, None, None, None, None, None, None, None, None, None, None, None, 'CoolDraw', None, None, None, None, None, None, None, None, 'CoolDraw', None, '英文打字20~50', None, None, None, None, None, None, None, None, None, None, None, None, None, '英文打字20~50', None, None, None, None, None, None, None, None, None, None, None, None, None, None, 'CoolDraw', None, None, None, None, None, None, None, None, 'CoolDraw', None, '英文打字20~50', None, None, None, None, None, None, None, None, None, None, None, None, None, '英文打字20~50', None, None, None, None, None, None, None, None, None, None, None, None, None, None, 'CoolDraw', None, None, None, None, '英文打字20~50', None, None, None, None, None, None, None, None, None, None, None, None, None, None, 'CoolDraw', None, None, None, None, '英文打字20~50', None, None, None, None, None, None, None, None, None, None, None, None, None, None, 'CoolDraw', None, None, None, None, '英文打字20~50', None, None, None, None, None, None, None, None, None, None, None, None, None, None, 'CoolDraw', None, None, None, None, '英文打字20~50', None, None, None, None, None, None, None, None, None, None, None, None, None, None, 'CoolDraw', None, None, None, None, '英文打字20~50', None, None, None, None, None, None, None, None, None, None, None, None, None, None, 'CoolDraw', None, None, None, None, '英文打字20~50', None, None, None, None, None, None, None, None, None, None, None, None, None, None, 'CoolDraw', None, None, None, None, '英文打字20~50', None, None, None, None, None, None, None, None, None, None, None, None, None, None, 'CoolDraw', None, None, None, None, None, None, None, None, 'CoolDraw', None, '英文打字20~50', None, None, None, None, None, None, None, None, None, None, None, None, None, None, None, None, None, None, None, None, '英文打字20~50', None, None, None, None, None, None, None, None, None, None, None, None, None, None, None, None, 'CoolDraw', None, '英文打字20~50', None, None, None, None, None, None, None, None, None, None, None, None, None, '英文打字20~50', None, None, None, None, None, None, None, None, None, None, None, None, None, None, 'CoolDraw', None, None, None, None, None, None, None, None, 'CoolDraw', None, '英文打字20~50', None, None, None, None, None, None, None, None, None, None, None, None, None, None, None, None, None, None, None, None, '英文打字20~50', None, None, None, None, None, None, None, None, None, None, None, None, '英文打字20~50', None, None, None, None, None, None, None, None, None, None, None, None, None, None, 'CoolDraw', None, None, None, None, '英文打字20~50', None, None, None, None, None, None, None, None, None, None, None, None, None, None, 'CoolDraw', None, None, None, None, '英文打字20~50', None, None, None, None, None, None, None, None, None, None, None, None, None, None, 'CoolDraw', None, None, None, None, '英文打字20~50', None, None, None, None, None, None, None, None, None, None, None, None, None, None, 'CoolDraw', None, None, None, None, '英文打字20~50', None, None, None, None, None, None, None, None, None, None, None, None, None, None, 'CoolDraw', None, None, None, None, '英文打字20~50', None, None, None, None, None, None, None, None, None, None, None, None, None, None, 'CoolDraw', None, None, None, None, None, None, None, None, 'CoolDraw', None, '英文打字20~50', None, None, None, None, None, None, None, None, None, None, None, None, None, '英文打字20~50', None, None, None, None, None, None, None, None, None, None, None, None, None, None, 'CoolDraw', None, None, None, None, None, None, None, None, None, None, None, '英文打字20~50', None, None, None, None, None, None, None, None, None, None, None, None, None, None, None, None, None, None, None, '英文打字20~50', None, None, None, None, None, None, None, None, None, None, None, None, None, None, None, None, 'CoolDraw', None, '英文打字20~50', None, None, None, None, None, None, None, None, None, None, None, None, None, None, None, None, None, 'CoolDraw', None, '英文打字20~50', None, None, None, None, None, None, None, None, None, None, None, None, None, None, None, None, None, 'CoolDraw', None, '英文打字20~50', None, None, None, None, None, None, None, None, None, None, None, None, None, '英文打字20~50', None, None, None, None, None, None, None, None, None, None, None, None, None, None, 'CoolDraw', None, None, None, None, '英文打字20~50', None, None, None, None, None, None, None, None, None, None, None, None, None, None, 'CoolDraw', None, None, None, None, '英文打字20~50', None, None, None, None, None, None, None, None, None, None, None, None, None, None, 'CoolDraw', None, None, None, None, None, None, None, None, None, None, None, '英文打字20~50', None, None, None, None, None, None, None, None, None, None, None, None, '英文打字20~50', None, None, None, None, None, None, None, None, None, None, None, None, None, None, 'CoolDraw', None, None, None, None, '英文打字20~50', None, None, None, None, None, None, None, None, None, None, None, None, None, None, 'CoolDraw', None, None, None, None, '英文打字20~50', None, None, None, None, None, None, None, None, None, None, None, None, None, None, 'CoolDraw', None, None, None, None, None, None, None, None, None, None, None, '英文打字20~50', None, None, None, None, None, None, None, None, None, None, None, None, None, None, None, None, None, None, None, '英文打字20~50', None, None, None, None, None, None, None, None, None, None, None, None, None, None, None, None, None, None, None, '英文打字20~50', None, None, None, None, None, None, None, None, None, None, None, None, None, None, None, None, 'CoolDraw', None, '英文打字20~50', None, None, None, None, None, None, None, None, None, None, None, None, None, None, None, None, None, None, None, None, '英文打字20~50', None, None, None, None, None, None, None, None, None, None, None, None, None, None, None, None, None, None, None, '英文打字20~50', None, None, None, None, None, None, None, None, None, None, None, None, '英文打字20~50', None, None, None, None, None, None, None, None, None, None, None, None, None, None, 'CoolDraw', None, None, None, None, '英文打字20~50', None, None, None, None, None, None, None, None, None, None, None, None, None, None, 'CoolDraw', None, None, None, None, None, None, None, None, 'CoolDraw', None, '英文打字20~50', None, None, None, None, None, None, None, None, None, None, None, None, None, '英文打字20~50', None, None, None, None, None, None, None, None, None, None, None, None, None, None, 'CoolDraw', None, None, None, None, '英文打字20~50', None, None, None, None, None, None, None, None, None, None, None, None, None, None, 'CoolDraw', None, None, None, None, '英文打字20~50', None, None, None, None, None, None, None, None, None, None, None, None, None, None, 'CoolDraw', None, None, None, None, None, None, None, None, 'CoolDraw', None, '英文打字20~50', None, None, None, None, None, None, None, None, None, None, None, None, None, '英文打字20~50', None, None, None, None, None, None, None, None, None, None, None, None, None, None, 'CoolDraw', None, None, None, None, None, None, None, None, None, None, None, '英文打字20~50', None, None, None, None, None, None, None, None, None, None, None, None, None, None, None, None, 'CoolDraw', None, '英文打字20~50', None, None, None, None, None, None, None, None, None, None, None, None, None, '英文打字20~50', None, None, None, None, None, None, None, None, None, None, None, None, None, None, 'CoolDraw', None, None, None, None, '英文打字20~50', None, None, None, None, None, None, None, None, None, None, None, None, None, None, 'CoolDraw', None, None, None, None, None, None, None, None, None, None, None, '英文打字20~50', None, None, None, None, None, None, None, None, None, None, None, None, None, None, None, None, 'CoolDraw', None, '英文打字20~50', None, None, None, None, None, None, None, None, None, None, None, None, None, None, None, None, None, 'CoolDraw', None, '英文打字20~50', None, None, None, None, None, None, None, None, None, None, None, None, None, '英文打字20~50', None, None, None, None, None, None, None, None, None, None, None, None, None, None, 'CoolDraw', None, None, None, None, None, None, None, None, 'CoolDraw', None, '英文打字20~50', None, None, None, None, None, None, None, None, None, None, None, None, None, None, None, None, None, None, None, None, '英文打字20~50', None, None, None, None, None, None, None, None, None, None, None, None, None, None, None, None, 'CoolDraw', None, '英文打字20~50', None, None, None, None, None, None, None, None, None, None, None, None, None, '英文打字20~50', None, None, None, None, None, None, None, None, None, None, None, None, None, None, 'CoolDraw', None, None, None, None, '英文打字20~50', None, None, None, None, None, None, None, None, None, None, None, None, None, None, 'CoolDraw', None, None, None, None, '英文打字20~50', None, None, None, None, None, None, None, None, None, None, None, None, None, None, 'CoolDraw', None, None, None, None, '英文打字20~50', None, None, None, None, None, None, None, None, None, None, None, None, None, None, 'CoolDraw', None, None, None, None, '英文打字20~50', None, None, None, None, None, None, None, None, None, None, None, None, None, None, 'CoolDraw', None, None, None, None, '英文打字20~50', None, None, None, None, None, None, None, None, None, None, None, None, None, None, 'CoolDraw', None, None, None, None, '英文打字20~50', None, None, None, None, None, None, None, None, None, None, None, None, None, None, 'CoolDraw', None, None, None, None, '英文打字20~50', None, None, None, None, None, None, None, None, None, None, None, None, None, None, 'CoolDraw', None, None, None, None, None, None, None, None, None, None, None, '英文打字20~50', None, None, None, None, None, None, None, None, None, None, None, None, '英文打字20~50', None, None, None, None, None, None, None, None, None, None, None, None, None, None, 'CoolDraw', None, None, None, None, '英文打字20~50', None, None, None, None, None, None, None, None, None, None, None, None, None, None, 'CoolDraw', None, None, None, None, None, None, None, None, 'CoolDraw', None, '英文打字20~50', None, None, None, None, None, None, None, None, None, None, None, None, None, '英文打字20~50', None, None, None, None, None, None, None, None, None, None, None, None, None, None, 'CoolDraw', None, None, None, None, '英文打字20~50', None, None, None, None, None, None, None, None, None, None, None, None, None, None, 'CoolDraw', None, None, None, None, '英文打字20~50', None, None, None, None, None, None, None, None, None, None, None, None, None, None, 'CoolDraw', None, None, None, None, None, None, None, None, None, None, None, '英文打字20~50', None, None, None, None, None, None, None, None, None, None, None, None, '英文打字20~50', None, None, None, None, None, None, None, None, None, None, None, None, None, None, 'CoolDraw', None, None, None, None, None, None, None, None, None, None, None, '英文打字20~50', None, None, None, None, None, None, None, None, None, None, None, None, None, None, None, None, 'CoolDraw', None, '英文打字20~50', None, None, None, None, None, None, None, None, None, None, None, None, None, '英文打字20~50', None, None, None, None, None, None, None, None, None, None, None, None, None, None, 'CoolDraw', None, None, None, None, '英文打字20~50', None, None, None, None, None, None, None, None, None, None, None, None, None, None, 'CoolDraw', None, None, None, None, None, None, None, None, None, None, None, '英文打字20~50', None, None, None, None, None, None, None, None, None, None, None, None, '英文打字20~50', None, None, None, None, None, None, None, None, None, None, None, None, None, None, 'CoolDraw', None, None, None, None, None, None, None, None, None, None, None, '英文打字20~50', None, None, None, None, None, None, None, None, None, None, None, None, '英文打字20~50', None, None, None, None, None, None, None, None, None, None, None, None, None, None, 'CoolDraw', None, None, None, None, None, None, None, None, None, None, None, '英文打字20~50', None, None, None, None, None, None, None, None, None, None, None, None, None, None, None, None, None, None, None, '英文打字20~50', None, None, None, None, None, None, None, None, None, None, None, None, None, None, None, None, 'CoolDraw', None, '英文打字20~50', None, None, None, None, None, None, None, None, None, None, None, None, None, None, None, None, None, 'CoolDraw', None, '英文打字20~50', None, None, None, None, None, None, None, None, None, None, None, None, None, '英文打字20~50', None, None, None, None, None, None, None, None, None, None, None, None, None, None, 'CoolDraw', None, None, None, None, None, None, None, None, 'CoolDraw', None, '英文打字20~50', None, None, None, None, None, None, None, None, None, None, None, None, None, None, None, None, None, None, None, None, '英文打字20~50', None, None, None, None, None, None, None, None, None, None, None, None, '英文打字20~50', None, None, None, None, None, None, None, None, None, None, None, None, None, None, 'CoolDraw', None, None, None, None, None, None, None, None, 'CoolDraw', None, '英文打字20~50', None, None, None, None, None, None, None, None, None, None, None, None, None, None, None, None, None, 'CoolDraw', None, '英文打字20~50', None, None, None, None, None, None, None, None, None, None, None, None, None, None, None, None, None, 'CoolDraw', None, '英文打字20~50', None, None, None, None, None, None, None, None, None, None, None, None, None, None, None, None, None, 'CoolDraw', None, '英文打字20~50', None, None, None, None, None, None, None, None, None, None, None, None, None, '英文打字20~50', None, None, None, None, None, None, None, None, None, None, None, None, None, None, 'CoolDraw', None, None, None, None, '英文打字20~50', None, None, None, None, None, None, None, None, None, None, None, None, None, None, 'CoolDraw', None, None, None, None, None, None, None, None, 'CoolDraw', None, '英文打字20~50', None, None, None, None, None, None, None, None, None, None, None, None, None, '英文打字20~50', None, None, None, None, None, None, None, None, None, None, None, None, None, None, 'CoolDraw', None, None, None, None, None, None, None, None, None, None, None, '英文打字20~50', None, None, None, None, None, None, None, None, None, None, None, None, None, None, None, None, None, None, None, '英文打字20~50', None, None, None, None, None, None, None, None, None, None, None, None, '英文打字20~50', None, None, None, None, None, None, None, None, None, None, None, None, None, None, 'CoolDraw', None, None, None, None, '英文打字20~50', None, None, None, None, None, None, None, None, None, None, None, None, None, None, 'CoolDraw', None, None, None, None, '英文打字20~50', None, None, None, None, None, None, None, None, None, None, None, None, None, None, 'CoolDraw', None, None, None, None, '英文打字20~50', None, None, None, None, None, None, None, None, None, None, None, None, None, None, 'CoolDraw', None, None, None, None, None, None, None, None, None, None, None, '英文打字20~50', None, None, None, None, None, None, None, None, None, None, None, None, None, None, None, None, 'CoolDraw', None, '英文打字20~50', None, None, None, None, None, None, None, None, None, None, None, None, None, None, None, None, None, 'CoolDraw', None, '英文打字20~50', None, None, None, None, None, None, None, None, None, None, None, None, None, None, None, None, None, None, None, None, '英文打字20~50', None, None, None, None, None, None, None, None, None, None, None, None, '英文打字20~50', None, None, None, None, None, None, None, None, None, None, None, None, None, None, 'CoolDraw', None, None, None, None, '英文打字20~50', None, None, None, None, None, None, None, None, None, None, None, None, None, None, 'CoolDraw', None, None, None, None, None, None, None, None, 'CoolDraw', None, '英文打字20~50', None, None, None, None, None, None, None, None, None, None, None, None, None, '英文打字20~50', None, None, None, None, None, None, None, None, None, None, None, None, None, None, 'CoolDraw', None, None, None, None, '英文打字20~50', None, None, None, None, None, None, None, None, None, None, None, None, None, None, 'CoolDraw', None, None, None, None, None, None, None, None, None, None, None, '英文打字20~50', None, None, None, None, None, None, None, None, None, None, None, None, None, None, None, None, 'CoolDraw', None, '英文打字20~50', None, None, None, None, None, None, None, None, None, None, None, None, None, None, None, None, None, 'CoolDraw', None, '英文打字20~50', None, None, None, None, None, None, None, None, None, None, None, None, None, None, None, None, None, 'CoolDraw', None, '英文打字20~50', None, None, None, None, None, None, None, None, None, None, None, None, None, None, None, None, None, None, None, None, '英文打字20~50', None, None, None, None, None, None, None, None, None, None, None, None, '英文打字20~50', None, None, None, None, None, None, None, None, None, None, None, None, None, None, 'CoolDraw', None, None, None, None, None, None, None, None, 'CoolDraw', None, '英文打字20~50', None, None, None, None, None, None, None, None, None, None, None, None, None, None, None, None, None, None, None, None, '英文打字20~50', None, None, None, None, None, None, None, None, None, None, None, None, '英文打字20~50', None, None, None, None, None, None, None, None, None, None, None, None, None, None, 'CoolDraw', None, None, None, None, '英文打字20~50', None, None, None, None, None, None, None, None, None, None, None, None, None, None, 'CoolDraw', None, None, None, None, '英文打字20~50', None, None, None, None, None, None, None, None, None, None, None, None, None, None, 'CoolDraw', None, None, None, None, '英文打字20~50', None, None, None, None, None, None, None, None, None, None, None, None, None, None, 'CoolDraw', None, None, None, None, '英文打字20~50', None, None, None, None, None, None, None, None, None, None, None, None, None, None, 'CoolDraw', None, None, None, None, None, None, None, None, None, None, None, None, None, None, None, None, None, None, None, None, None, None, None, None, None, None, None, None, None, None, None, None, None, None, None, None, None, None, None, None, None, None, None, None, None, None, None, None, None, 'Illustrator', None, None, None, None, None, None, None, None, 'Illustrator', None, None, None, None, None, None, None, None, None, None, None, None, None, None, None, None, None, None, None, None, None, None, None, None, None, None, None, None, None, None, None, None, None, None, None, None, None, None, None, None, None, None, None, None, None, None, None, None, None, None, 'Illustrator', None, None, None, None, None, None, None, None, 'Illustrator', None, None, None, None, None, None, None, None, None, None, None, None, None, None, None, None, None, None, None, None, None, None, None, None, None, None, None, None, None, None, 'Illustrator', None, None, None, None, None, None, None, None, None, None, None, None, None, None, None, None, None, None, None, 'Illustrator', None, None, None, None, None, None, None, None, None, None, None, None, None, None, None, None, None, None, None, None, None, None, None, None, None, None, None, None, None, None, None, None, None, None, None, None, None, None, None, 'Illustrator', None, None, None, None, None, None, None, None, None, None, None, None, None, None, None, None, None, None, None, 'Illustrator', None, None, None, None, None, None, None, None, None, None, None, None, None, None, None, None, None, None, None, None, None, None, None, None, None, None, None, None, None, None, None, None, None, None, None, None, None, None, None, 'Illustrator', None, None, None, None, None, None, None, None, None, None, None, None, None, None, None, None, None, None, None, 'Illustrator', None, None, None, None, None, None, None, None, None, None, None, None, None, None, None, None, None, None, None, 'Illustrator', None, None, None, None, None, None, None, None, None, None, None, None, None, None, None, None, None, None, None, None, None, None, None, None, None, None, None, None, None, None, None, None, None, None, None, None, None, None, None, None, None, None, None, None, None, None, None, None, 'Illustrator', None, None, None, None, None, None, None, None, None, None, None, None, None, None, None, None, None, None, None, None, None, None, None, None, None, None, None, None, None, None, 'Illustrator', None, None, None, None, None, None, None, None, 'Illustrator', None, None, None, None, None, None, None, None, None, None, None, None, None, None, None, None, None, None, None, None, None, None, None, None, None, None, None, None, None, None, 'Illustrator', None, None, None, None, None, None, None, None, 'Illustrator', None, None, None, None, None, None, None, None, None, None, None, None, None, None, None, None, None, None, None, None, None, None, None, None, None, None, None, None, None, None, 'Illustrator', None, None, None, None, None, None, None, None, None, None, None, None, None, None, None, None, None, None, None, 'Illustrator', None, None, None, None, None, None, None, None, None, None, None, None, None, None, None, None, None, None, None, 'Illustrator', None, None, None, None, None, None, None, None, None, None, None, None, None, None, None, None, None, None, None, 'Illustrator', None, None, None, None, None, None, None, None, None, None, None, None, None, None, None, None, None, None, None, 'Illustrator', None, None, None, None, None, None, None, None, None, None, None, None, None, None, None, None, None, None, None, 'Illustrator', None, None, None, None, None, None, None, None, None, None, None, None, None, None, None, None, None, None, None, 'Illustrator', None, None, None, None, None, None, None, None, None, None, None, None, None, None, None, None, None, None, None, 'Illustrator', None, None, None, None, None, None, None, None, 'Illustrator', None, None, None, None, None, None, None, None, None, None, None, None, None, None, None, None, None, None, None, None, None, None, None, None, None, None, None, None, None, None, None, None, None, None, None, None, None, None, None, 'Illustrator', None, None, None, None, None, None, None, None, None, None, None, None, None, None, None, None, None, None, None, None, None, None, None, None, None, None, None, None, None, None, 'Illustrator', None, None, None, None, None, None, None, None, 'Illustrator', None, None, None, None, None, None, None, None, None, None, None, None, None, None, None, None, None, None, None, None, None, None, None, None, None, None, None, None, None, None, None, None, None, None, None, None, None, None, None, None, None, None, None, None, None, None, None, None, None, None, 'Illustrator', None, None, None, None, None, None, None, None, None, None, None, None, None, None, None, None, None, None, None, 'Illustrator', None, None, None, None, None, None, None, None, None, None, None, None, None, None, None, None, None, None, None, 'Illustrator', None, None, None, None, None, None, None, None, None, None, None, None, None, None, None, None, None, None, None, 'Illustrator', None, None, None, None, None, None, None, None, None, None, None, None, None, None, None, None, None, None, None, 'Illustrator', None, None, None, None, None, None, None, None, None, None, None, None, None, None, None, None, None, None, None, 'Illustrator', None, None, None, None, None, None, None, None, 'Illustrator', None, None, None, None, None, None, None, None, None, None, None, None, None, None, None, None, None, None, None, None, None, None, None, None, None, None, None, None, None, None, 'Illustrator', None, None, None, None, None, None, None, None, None, None, None, None, None, None, None, None, None, None, None, None, None, None, None, None, None, None, None, None, None, None, None, None, None, None, None, None, None, None, None, None, None, None, None, None, None, None, None, None, 'Illustrator', None, None, None, None, None, None, None, None, None, None, None, None, None, None, None, None, None, None, None, 'Illustrator', None, None, None, None, None, None, None, None, None, None, None, None, None, None, None, None, None, None, None, 'Illustrator', None, None, None, None, None, None, None, None, None, None, None, None, None, None, None, None, None, None, None, None, None, None, None, None, None, None, None, None, None, None, 'Illustrator', None, None, None, None, None, None, None, None, None, None, None, None, None, None, None, None, None, None, None, 'Illustrator', None, None, None, None, None, None, None, None, None, None, None, None, None, None, None, None, None, None, None, 'Illustrator', None, None, None, None, None, None, None, None, None, None, None, None, None, None, None, None, None, None, None, None, None, None, None, None, None, None, None, None, None, None, None, None, None, None, None, None, None, None, None, 'Illustrator', None, None, None, None, None, None, None, None, None, None, None, None, None, None, None, None, None, None, None, 'Illustrator', None, None, None, None, None, None, None, None, None, None, None, None, None, None, None, None, None, None, None, 'Illustrator', None, None, None, None, None, None, None, None, None, None, None, None, None, None, None, None, None, None, None, None, None, None, None, None, None, None, None, None, None, None, None, None, None, None, None, None, None, None, None, None, None, None, None, None, None, None, None, None, None, None, None, None, None, None, None, None, None, None, None, None, None, None, None, None, None, None, None, None, 'Illustrator', None, None, None, None, None, None, None, None, None, None, None, None, None, None, None, None, None, None, None, None, None, None, None, None, None, None, None, None, None, None, None, None, None, None, None, None, None, None, None, None, None, None, None, None, None, None, None, None, None, None, None, None, None, None, None, None, None, None, None, None, None, None, None, None, None, None, None, None, None, None, 'Illustrator', None, None, None, None, None, None, None, None, None, None, None, None, None, None, None, None, None, None, None, 'Illustrator', None, None, None, None, None, None, None, None, 'Illustrator', None, None, None, None, None, None, None, None, None, None, None, None, None, None, None, None, None, None, None, None, None, None, None, None, None, None, None, None, None, None, 'Illustrator', None, None, None, None, None, None, None, None, None, None, None, None, None, None, None, None, None, None, None, 'Illustrator', None, None, None, None, None, None, None, None, None, None, None, None, None, None, None, None, None, None, None, 'Illustrator', None, None, None, None, None, None, None, None, 'Illustrator', None, None, None, None, None, None, None, None, None, None, None, None, None, None, None, None, None, None, None, None, None, None, None, None, None, None, None, None, None, None, 'Illustrator', None, None, None, None, None, None, None, None, None, None, None, None, None, None, None, None, None, None, None, None, None, None, None, None, None, None, None, None, 'Illustrator', None, None, None, None, None, None, None, None, None, None, None, None, None, None, None, None, None, None, None, None, None, None, None, None, None, None, None, None, None, None, 'Illustrator', None, None, None, None, None, None, None, None, None, None, None, None, None, None, None, None, None, None, None, 'Illustrator', None, None, None, None, None, None, None, None, None, None, None, None, None, None, None, None, None, None, None, None, None, None, None, None, None, None, None, None, 'Illustrator', None, None, None, None, None, None, None, None, None, None, None, None, None, None, None, None, None, None, None, 'Illustrator', None, None, None, None, None, None, None, None, None, None, None, None, None, None, None, None, None, None, None, None, None, None, None, None, None, None, None, None, None, None, 'Illustrator', None, None, None, None, None, None, None, None, 'Illustrator', None, None, None, None, None, None, None, None, None, None, None, None, None, None, None, None, None, None, None, None, None, None, None, None, None, None, None, None, None, None, None, None, None, None, None, None, None, None, None, 'Illustrator', None, None, None, None, None, None, None, None, None, None, None, None, None, None, None, None, None, None, None, None, None, None, None, None, None, None, None, None, None, None, 'Illustrator', None, None, None, None, None, None, None, None, None, None, None, None, None, None, None, None, None, None, None, 'Illustrator', None, None, None, None, None, None, None, None, None, None, None, None, None, None, None, None, None, None, None, 'Illustrator', None, None, None, None, None, None, None, None, None, None, None, None, None, None, None, None, None, None, None, 'Illustrator', None, None, None, None, None, None, None, None, None, None, None, None, None, None, None, None, None, None, None, 'Illustrator', None, None, None, None, None, None, None, None, None, None, None, None, None, None, None, None, None, None, None, 'Illustrator', None, None, None, None, None, None, None, None, None, None, None, None, None, None, None, None, None, None, None, 'Illustrator', None, None, None, None, None, None, None, None, None, None, None, None, None, None, None, None, None, None, None, 'Illustrator', None, None, None, None, None, None, None, None, None, None, None, None, None, None, None, None, None, None, None, None, None, None, None, None, None, None, None, None, None, None, None, None, None, None, None, None, None, None, None, 'Illustrator', None, None, None, None, None, None, None, None, None, None, None, None, None, None, None, None, None, None, None, 'Illustrator', None, None, None, None, None, None, None, None, 'Illustrator', None, None, None, None, None, None, None, None, None, None, None, None, None, None, None, None, None, None, None, None, None, None, None, None, None, None, None, None, None, None, 'Illustrator', None, None, None, None, None, None, None, None, None, None, None, None, None, None, None, None, None, None, None, 'Illustrator', None, None, None, None, None, None, None, None, None, None, None, None, None, None, None, None, None, None, None, 'Illustrator', None, None, None, None, None, None, None, None, None, None, None, None, None, None, None, None, None, None, None, None, None, None, None, None, None, None, None, None, None, None, None, None, None, None, None, None, None, None, None, 'Illustrator', None, None, None, None, None, None, None, None, None, None, None, None, None, None, None, None, None, None, None, None, None, None, None, None, None, None, None, None, 'Illustrator', None, None, None, None, None, None, None, None, None, None, None, None, None, None, None, None, None, None, None, None, None, None, None, None, None, None, None, None, None, None, 'Illustrator', None, None, None, None, None, None, None, None, None, None, None, None, None, None, None, None, None, None, None, 'Illustrator', None, None, None, None, None, None, None, None, None, None, None, None, None, None, None, None, None, None, None, None, None, None, None, None, None, None, None, None, None, None, None, None, None, None, None, None, None, None, None, 'Illustrator', None, None, None, None, None, None, None, None, None, None, None, None, None, None, None, None, None, None, None, None, None, None, None, None, None, None, None, None, None, None, None, None, None, None, None, None, None, None, None, 'Illustrator', None, None, None, None, None, None, None, None, None, None, None, None, None, None, None, None, None, None, None, None, None, None, None, None, None, None, None, None, None, None, None, None, None, None, None, None, None, None, None, None, None, None, None, None, None, None, None, None, 'Illustrator', None, None, None, None, None, None, None, None, None, None, None, None, None, None, None, None, None, None, None, 'Illustrator', None, None, None, None, None, None, None, None, None, None, None, None, None, None, None, None, None, None, None, None, None, None, None, None, None, None, None, None, None, None, 'Illustrator', None, None, None, None, None, None, None, None, 'Illustrator', None, None, None, None, None, None, None, None, None, None, None, None, None, None, None, None, None, None, None, None, None, None, None, None, None, None, None, None, None, None, None, None, None, None, None, None, None, None, None, None, None, None, None, None, None, None, None, None, None, None, 'Illustrator', None, None, None, None, None, None, None, None, 'Illustrator', None, None, None, None, None, None, None, None, None, None, None, None, None, None, None, None, None, None, None, 'Illustrator', None, None, None, None, None, None, None, None, None, None, None, None, None, None, None, None, None, None, None, 'Illustrator', None, None, None, None, None, None, None, None, None, None, None, None, None, None, None, None, None, None, None, 'Illustrator', None, None, None, None, None, None, None, None, None, None, None, None, None, None, None, None, None, None, None, None, None, None, None, None, None, None, None, None, None, None, 'Illustrator', None, None, None, None, None, None, None, None, None, None, None, None, None, None, None, None, None, None, None, 'Illustrator', None, None, None, None, None, None, None, None, 'Illustrator', None, None, None, None, None, None, None, None, None, None, None, None, None, None, None, None, None, None, None, None, None, None, None, None, None, None, None, None, None, None, 'Illustrator', None, None, None, None, None, None, None, None, None, None, None, None, None, None, None, None, None, None, None, None, None, None, None, None, None, None, None, None, None, None, None, None, None, None, None, None, None, None, None, None, None, None, None, None, None, None, None, None, None, None, None, None, None, None, None, None, None, None, None, 'Illustrator', None, None, None, None, None, None, None, None, None, None, None, None, None, None, None, None, None, None, None, 'Illustrator', None, None, None, None, None, None, None, None, None, None, None, None, None, None, None, None, None, None, None, 'Illustrator', None, None, None, None, None, None, None, None, None, None, None, None, None, None, None, None, None, None, None, 'Illustrator', None, None, None, None, None, None, None, None, None, None, None, None, None, None, None, None, None, None, None, None, None, None, None, None, None, None, None, None, 'Illustrator', None, None, None, None, None, None, None, None, None, None, None, None, None, None, None, None, None, None, None, 'Illustrator', None, None, None, None, None, None, None, None, None, None, None, None, None, None, None, None, None, None, None, None, None, None, None, None, None, None, None, None, None, None, None, None, None, None, None, None, None, None, None, None, None, None, None, None, None, None, None, None, None, None, 'Illustrator', None, None, None, None, None, None, None, None, None, None, None, None, None, None, None, None, None, None, None, 'Illustrator', None, None, None, None, None, None, None, None, 'Illustrator', None, None, None, None, None, None, None, None, None, None, None, None, None, None, None, None, None, None, None, None, None, None, None, None, None, None, None, None, None, None, 'Illustrator', None, None, None, None, None, None, None, None, None, None, None, None, None, None, None, None, None, None, None, 'Illustrator', None, None, None, None, None, None, None, None, None, None, None, None, None, None, None, None, None, None, None, None, None, None, None, None, None, None, None, None, 'Illustrator', None, None, None, None, None, None, None, None, None, None, None, None, None, None, None, None, None, None, None, 'Illustrator', None, None, None, None, None, None, None, None, None, None, None, None, None, None, None, None, None, None, None, 'Illustrator', None, None, None, None, None, None, None, None, None, None, None, None, None, None, None, None, None, None, None, None, None, None, None, None, None, None, None, None, None, None, None, None, None, None, None, None, None, None, None, None, None, None, None, None, None, None, None, None, None, None, 'Illustrator', None, None, None, None, None, None, None, None, 'Illustrator', None, None, None, None, None, None, None, None, None, None, None, None, None, None, None, None, None, None, None, None, None, None, None, None, None, None, None, None, None, None, None, None, None, None, None, None, None, None, None, None, None, None, None, None, None, None, None, None, None, None, 'Illustrator', None, None, None, None, None, None, None, None, None, None, None, None, None, None, None, None, None, None, None, 'Illustrator', None, None, None, None, None, None, None, None, None, None, None, None, None, None, None, None, None, None, None, 'Illustrator', None, None, None, None, None, None, None, None, None, None, None, None, None, None, None, None, None, None, None, 'Illustrator', None, None, None, None, None, None, None, None, None, None, None, None, None, None, None, None, None, None, None, 'Illustrator', None, None, None, None, None, None, None, None, None, None, None, None, None, None, None, None, None, None, None, None, None, None, None, None, None, None, None, None, None, None, None, None, None, None, None, None, None, None, None, None, None, None, None, None, None, None, None, None, None, 'PhotoImpact', None, None, None, None, None, None, None, None, 'PhotoImpact', None, None, None, None, None, None, None, None, None, None, None, None, None, None, None, None, None, None, None, None, None, None, None, None, None, None, None, None, None, None, None, None, None, None, None, None, None, None, None, None, None, None, None, None, None, None, None, None, None, None, 'PhotoImpact', None, None, None, None, None, None, None, None, 'PhotoImpact', None, None, None, None, None, None, None, None, None, None, None, None, None, None, None, None, None, None, None, None, None, None, None, None, None, None, None, None, None, None, 'PhotoImpact', None, None, None, None, None, None, None, None, None, None, None, None, None, None, None, None, None, None, None, 'PhotoImpact', None, None, None, None, None, None, None, None, None, None, None, None, None, None, None, None, None, None, None, None, None, None, None, None, None, None, None, None, None, None, None, None, None, None, None, None, None, None, None, 'PhotoImpact', None, None, None, None, None, None, None, None, None, None, None, None, None, None, None, None, None, None, None, 'PhotoImpact', None, None, None, None, None, None, None, None, None, None, None, None, None, None, None, None, None, None, None, None, None, None, None, None, None, None, None, None, None, None, None, None, None, None, None, None, None, None, None, 'PhotoImpact', None, None, None, None, None, None, None, None, None, None, None, None, None, None, None, None, None, None, None, 'PhotoImpact', None, None, None, None, None, None, None, None, None, None, None, None, None, None, None, None, None, None, None, 'PhotoImpact', None, None, None, None, None, None, None, None, None, None, None, None, None, None, None, None, None, None, None, None, None, None, None, None, None, None, None, None, None, None, None, None, None, None, None, None, None, None, None, None, None, None, None, None, None, None, None, None, 'PhotoImpact', None, None, None, None, None, None, None, None, None, None, None, None, None, None, None, None, None, None, None, None, None, None, None, None, None, None, None, None, None, None, 'PhotoImpact', None, None, None, None, None, None, None, None, 'PhotoImpact', None, None, None, None, None, None, None, None, None, None, None, None, None, None, None, None, None, None, None, None, None, None, None, None, None, None, None, None, None, None, 'PhotoImpact', None, None, None, None, None, None, None, None, 'PhotoImpact', None, None, None, None, None, None, None, None, None, None, None, None, None, None, None, None, None, None, None, None, None, None, None, None, None, None, None, None, None, None, 'PhotoImpact', None, None, None, None, None, None, None, None, None, None, None, None, None, None, None, None, None, None, None, 'PhotoImpact', None, None, None, None, None, None, None, None, None, None, None, None, None, None, None, None, None, None, None, 'PhotoImpact', None, None, None, None, None, None, None, None, None, None, None, None, None, None, None, None, None, None, None, 'PhotoImpact', None, None, None, None, None, None, None, None, None, None, None, None, None, None, None, None, None, None, None, 'PhotoImpact', None, None, None, None, None, None, None, None, None, None, None, None, None, None, None, None, None, None, None, 'PhotoImpact', None, None, None, None, None, None, None, None, None, None, None, None, None, None, None, None, None, None, None, 'PhotoImpact', None, None, None, None, None, None, None, None, None, None, None, None, None, None, None, None, None, None, None, 'PhotoImpact', None, None, None, None, None, None, None, None, 'PhotoImpact', None, None, None, None, None, None, None, None, None, None, None, None, None, None, None, None, None, None, None, None, None, None, None, None, None, None, None, None, None, None, None, None, None, None, None, None, None, None, None, 'PhotoImpact', None, None, None, None, None, None, None, None, None, None, None, None, None, None, None, None, None, None, None, None, None, None, None, None, None, None, None, None, None, None, 'PhotoImpact', None, None, None, None, None, None, None, None, 'PhotoImpact', None, None, None, None, None, None, None, None, None, None, None, None, None, None, None, None, None, None, None, None, None, None, None, None, None, None, None, None, None, None, None, None, None, None, None, None, None, None, None, None, None, None, None, None, None, None, None, None, None, None, 'PhotoImpact', None, None, None, None, None, None, None, None, None, None, None, None, None, None, None, None, None, None, None, 'PhotoImpact', None, None, None, None, None, None, None, None, None, None, None, None, None, None, None, None, None, None, None, 'PhotoImpact', None, None, None, None, None, None, None, None, None, None, None, None, None, None, None, None, None, None, None, 'PhotoImpact', None, None, None, None, None, None, None, None, None, None, None, None, None, None, None, None, None, None, None, 'PhotoImpact', None, None, None, None, None, None, None, None, None, None, None, None, None, None, None, None, None, None, None, 'PhotoImpact', None, None, None, None, None, None, None, None, 'PhotoImpact', None, None, None, None, None, None, None, None, None, None, None, None, None, None, None, None, None, None, None, None, None, None, None, None, None, None, None, None, None, None, 'PhotoImpact', None, None, None, None, None, None, None, None, None, None, None, None, None, None, None, None, None, None, None, None, None, None, None, None, None, None, None, None, None, None, None, None, None, None, None, None, None, None, None, None, None, None, None, None, None, None, None, None, 'PhotoImpact', None, None, None, None, None, None, None, None, None, None, None, None, None, None, None, None, None, None, None, 'PhotoImpact', None, None, None, None, None, None, None, None, None, None, None, None, None, None, None, None, None, None, None, 'PhotoImpact', None, None, None, None, None, None, None, None, None, None, None, None, None, None, None, None, None, None, None, None, None, None, None, None, None, None, None, None, None, None, 'PhotoImpact', None, None, None, None, None, None, None, None, None, None, None, None, None, None, None, None, None, None, None, 'PhotoImpact', None, None, None, None, None, None, None, None, None, None, None, None, None, None, None, None, None, None, None, 'PhotoImpact', None, None, None, None, None, None, None, None, None, None, None, None, None, None, None, None, None, None, None, None, None, None, None, None, None, None, None, None, None, None, None, None, None, None, None, None, None, None, None, 'PhotoImpact', None, None, None, None, None, None, None, None, None, None, None, None, None, None, None, None, None, None, None, 'PhotoImpact', None, None, None, None, None, None, None, None, None, None, None, None, None, None, None, None, None, None, None, 'PhotoImpact', None, None, None, None, None, None, None, None, None, None, None, None, None, None, None, None, None, None, None, None, None, None, None, None, None, None, None, None, None, None, None, None, None, None, None, None, None, None, None, None, None, None, None, None, None, None, None, None, None, None, None, None, None, None, None, None, None, None, None, None, None, None, None, None, None, None, None, None, 'PhotoImpact', None, None, None, None, None, None, None, None, None, None, None, None, None, None, None, None, None, None, None, None, None, None, None, None, None, None, None, None, None, None, None, None, None, None, None, None, None, None, None, None, None, None, None, None, None, None, None, None, None, None, None, None, None, None, None, None, None, None, None, None, None, None, None, None, None, None, None, None, None, None, 'PhotoImpact', None, None, None, None, None, None, None, None, None, None, None, None, None, None, None, None, None, None, None, 'PhotoImpact', None, None, None, None, None, None, None, None, 'PhotoImpact', None, None, None, None, None, None, None, None, None, None, None, None, None, None, None, None, None, None, None, None, None, None, None, None, None, None, None, None, None, None, 'PhotoImpact', None, None, None, None, None, None, None, None, None, None, None, None, None, None, None, None, None, None, None, 'PhotoImpact', None, None, None, None, None, None, None, None, None, None, None, None, None, None, None, None, None, None, None, 'PhotoImpact', None, None, None, None, None, None, None, None, 'PhotoImpact', None, None, None, None, None, None, None, None, None, None, None, None, None, None, None, None, None, None, None, None, None, None, None, None, None, None, None, None, None, None, 'PhotoImpact', None, None, None, None, None, None, None, None, None, None, None, None, None, None, None, None, None, None, None, None, None, None, None, None, None, None, None, None, 'PhotoImpact', None, None, None, None, None, None, None, None, None, None, None, None, None, None, None, None, None, None, None, None, None, None, None, None, None, None, None, None, None, None, 'PhotoImpact', None, None, None, None, None, None, None, None, None, None, None, None, None, None, None, None, None, None, None, 'PhotoImpact', None, None, None, None, None, None, None, None, None, None, None, None, None, None, None, None, None, None, None, None, None, None, None, None, None, None, None, None, 'PhotoImpact', None, None, None, None, None, None, None, None, None, None, None, None, None, None, None, None, None, None, None, 'PhotoImpact', None, None, None, None, None, None, None, None, None, None, None, None, None, None, None, None, None, None, None, None, None, None, None, None, None, None, None, None, None, None, 'PhotoImpact', None, None, None, None, None, None, None, None, 'PhotoImpact', None, None, None, None, None, None, None, None, None, None, None, None, None, None, None, None, None, None, None, None, None, None, None, None, None, None, None, None, None, None, None, None, None, None, None, None, None, None, None, 'PhotoImpact', None, None, None, None, None, None, None, None, None, None, None, None, None, None, None, None, None, None, None, None, None, None, None, None, None, None, None, None, None, None, 'PhotoImpact', None, None, None, None, None, None, None, None, None, None, None, None, None, None, None, None, None, None, None, 'PhotoImpact', None, None, None, None, None, None, None, None, None, None, None, None, None, None, None, None, None, None, None, 'PhotoImpact', None, None, None, None, None, None, None, None, None, None, None, None, None, None, None, None, None, None, None, 'PhotoImpact', None, None, None, None, None, None, None, None, None, None, None, None, None, None, None, None, None, None, None, 'PhotoImpact', None, None, None, None, None, None, None, None, None, None, None, None, None, None, None, None, None, None, None, 'PhotoImpact', None, None, None, None, None, None, None, None, None, None, None, None, None, None, None, None, None, None, None, 'PhotoImpact', None, None, None, None, None, None, None, None, None, None, None, None, None, None, None, None, None, None, None, 'PhotoImpact', None, None, None, None, None, None, None, None, None, None, None, None, None, None, None, None, None, None, None, None, None, None, None, None, None, None, None, None, None, None, None, None, None, None, None, None, None, None, None, 'PhotoImpact', None, None, None, None, None, None, None, None, None, None, None, None, None, None, None, None, None, None, None, 'PhotoImpact', None, None, None, None, None, None, None, None, 'PhotoImpact', None, None, None, None, None, None, None, None, None, None, None, None, None, None, None, None, None, None, None, None, None, None, None, None, None, None, None, None, None, None, 'PhotoImpact', None, None, None, None, None, None, None, None, None, None, None, None, None, None, None, None, None, None, None, 'PhotoImpact', None, None, None, None, None, None, None, None, None, None, None, None, None, None, None, None, None, None, None, 'PhotoImpact', None, None, None, None, None, None, None, None, None, None, None, None, None, None, None, None, None, None, None, None, None, None, None, None, None, None, None, None, None, None, None, None, None, None, None, None, None, None, None, 'PhotoImpact', None, None, None, None, None, None, None, None, None, None, None, None, None, None, None, None, None, None, None, None, None, None, None, None, None, None, None, None, 'PhotoImpact', None, None, None, None, None, None, None, None, None, None, None, None, None, None, None, None, None, None, None, None, None, None, None, None, None, None, None, None, None, None, 'PhotoImpact', None, None, None, None, None, None, None, None, None, None, None, None, None, None, None, None, None, None, None, 'PhotoImpact', None, None, None, None, None, None, None, None, None, None, None, None, None, None, None, None, None, None, None, None, None, None, None, None, None, None, None, None, None, None, None, None, None, None, None, None, None, None, None, 'PhotoImpact', None, None, None, None, None, None, None, None, None, None, None, None, None, None, None, None, None, None, None, None, None, None, None, None, None, None, None, None, None, None, None, None, None, None, None, None, None, None, None, 'PhotoImpact', None, None, None, None, None, None, None, None, None, None, None, None, None, None, None, None, None, None, None, None, None, None, None, None, None, None, None, None, None, None, None, None, None, None, None, None, None, None, None, None, None, None, None, None, None, None, None, None, 'PhotoImpact', None, None, None, None, None, None, None, None, None, None, None, None, None, None, None, None, None, None, None, 'PhotoImpact', None, None, None, None, None, None, None, None, None, None, None, None, None, None, None, None, None, None, None, None, None, None, None, None, None, None, None, None, None, None, 'PhotoImpact', None, None, None, None, None, None, None, None, 'PhotoImpact', None, None, None, None, None, None, None, None, None, None, None, None, None, None, None, None, None, None, None, None, None, None, None, None, None, None, None, None, None, None, None, None, None, None, None, None, None, None, None, None, None, None, None, None, None, None, None, None, None, None, 'PhotoImpact', None, None, None, None, None, None, None, None, 'PhotoImpact', None, None, None, None, None, None, None, None, None, None, None, None, None, None, None, None, None, None, None, 'PhotoImpact', None, None, None, None, None, None, None, None, None, None, None, None, None, None, None, None, None, None, None, 'PhotoImpact', None, None, None, None, None, None, None, None, None, None, None, None, None, None, None, None, None, None, None, 'PhotoImpact', None, None, None, None, None, None, None, None, None, None, None, None, None, None, None, None, None, None, None, None, None, None, None, None, None, None, None, None, None, None, 'PhotoImpact', None, None, None, None, None, None, None, None, None, None, None, None, None, None, None, None, None, None, None, 'PhotoImpact', None, None, None, None, None, None, None, None, 'PhotoImpact', None, None, None, None, None, None, None, None, None, None, None, None, None, None, None, None, None, None, None, None, None, None, None, None, None, None, None, None, None, None, 'PhotoImpact', None, None, None, None, None, None, None, None, None, None, None, None, None, None, None, None, None, None, None, None, None, None, None, None, None, None, None, None, None, None, None, None, None, None, None, None, None, None, None, None, None, None, None, None, None, None, None, None, None, None, None, None, None, None, None, None, None, None, None, 'PhotoImpact', None, None, None, None, None, None, None, None, None, None, None, None, None, None, None, None, None, None, None, 'PhotoImpact', None, None, None, None, None, None, None, None, None, None, None, None, None, None, None, None, None, None, None, 'PhotoImpact', None, None, None, None, None, None, None, None, None, None, None, None, None, None, None, None, None, None, None, 'PhotoImpact', None, None, None, None, None, None, None, None, None, None, None, None, None, None, None, None, None, None, None, None, None, None, None, None, None, None, None, None, 'PhotoImpact', None, None, None, None, None, None, None, None, None, None, None, None, None, None, None, None, None, None, None, 'PhotoImpact', None, None, None, None, None, None, None, None, None, None, None, None, None, None, None, None, None, None, None, None, None, None, None, None, None, None, None, None, None, None, None, None, None, None, None, None, None, None, None, None, None, None, None, None, None, None, None, None, None, None, 'PhotoImpact', None, None, None, None, None, None, None, None, None, None, None, None, None, None, None, None, None, None, None, 'PhotoImpact', None, None, None, None, None, None, None, None, 'PhotoImpact', None, None, None, None, None, None, None, None, None, None, None, None, None, None, None, None, None, None, None, None, None, None, None, None, None, None, None, None, None, None, 'PhotoImpact', None, None, None, None, None, None, None, None, None, None, None, None, None, None, None, None, None, None, None, 'PhotoImpact', None, None, None, None, None, None, None, None, None, None, None, None, None, None, None, None, None, None, None, None, None, None, None, None, None, None, None, None, 'PhotoImpact', None, None, None, None, None, None, None, None, None, None, None, None, None, None, None, None, None, None, None, 'PhotoImpact', None, None, None, None, None, None, None, None, None, None, None, None, None, None, None, None, None, None, None, 'PhotoImpact', None, None, None, None, None, None, None, None, None, None, None, None, None, None, None, None, None, None, None, None, None, None, None, None, None, None, None, None, None, None, None, None, None, None, None, None, None, None, None, None, None, None, None, None, None, None, None, None, None, None, 'PhotoImpact', None, None, None, None, None, None, None, None, 'PhotoImpact', None, None, None, None, None, None, None, None, None, None, None, None, None, None, None, None, None, None, None, None, None, None, None, None, None, None, None, None, None, None, None, None, None, None, None, None, None, None, None, None, None, None, None, None, None, None, None, None, None, None, 'PhotoImpact', None, None, None, None, None, None, None, None, None, None, None, None, None, None, None, None, None, None, None, 'PhotoImpact', None, None, None, None, None, None, None, None, None, None, None, None, None, None, None, None, None, None, None, 'PhotoImpact', None, None, None, None, None, None, None, None, None, None, None, None, None, None, None, None, None, None, None, 'PhotoImpact', None, None, None, None, None, None, None, None, None, None, None, None, None, None, None, None, None, None, None, 'PhotoImpact', None, None, None, None, None, None, None, None, None, None, None, None, None, None, None, None, None, None, None, None, None, None, None, None, None, None, None, None, None, None, None, None, None, None]\n"
     ]
    }
   ],
   "source": [
    "alltools = []\n",
    "for i in range(0,9):\n",
    "    for j in range(0,3010):\n",
    "        alltools.append(new[i][j])\n",
    "print(alltools)"
   ]
  },
  {
   "cell_type": "markdown",
   "metadata": {},
   "source": [
    "接著先觀察這個代表所有技能的alltools list裡面所有的獨特值："
   ]
  },
  {
   "cell_type": "code",
   "execution_count": 6,
   "metadata": {},
   "outputs": [
    {
     "data": {
      "text/plain": [
       "{'3ds Max',\n",
       " 'Adobe Photoshop',\n",
       " 'After Effects',\n",
       " 'AutoCAD',\n",
       " 'CoolDraw',\n",
       " 'Excel',\n",
       " 'Flash',\n",
       " 'Google Analytics',\n",
       " 'HTML',\n",
       " 'Illustrator',\n",
       " None,\n",
       " 'Outlook',\n",
       " 'PhotoImpact',\n",
       " 'PowerPoint',\n",
       " 'Premiere',\n",
       " 'Windows 2000',\n",
       " 'Word',\n",
       " '不拘',\n",
       " '中文打字20~50',\n",
       " '中文打字50~75',\n",
       " '英文打字20~50',\n",
       " '英文打字50~75'}"
      ]
     },
     "execution_count": 6,
     "metadata": {},
     "output_type": "execute_result"
    }
   ],
   "source": [
    "set(alltools)"
   ]
  },
  {
   "cell_type": "markdown",
   "metadata": {},
   "source": [
    "再把這些獨特值裝成一個list："
   ]
  },
  {
   "cell_type": "code",
   "execution_count": 7,
   "metadata": {},
   "outputs": [
    {
     "data": {
      "text/plain": [
       "['3ds Max',\n",
       " None,\n",
       " 'PowerPoint',\n",
       " 'Adobe Photoshop',\n",
       " 'Google Analytics',\n",
       " '中文打字50~75',\n",
       " '英文打字50~75',\n",
       " 'Illustrator',\n",
       " 'Outlook',\n",
       " 'HTML',\n",
       " 'Excel',\n",
       " 'Premiere',\n",
       " 'CoolDraw',\n",
       " 'AutoCAD',\n",
       " 'Windows 2000',\n",
       " 'PhotoImpact',\n",
       " '不拘',\n",
       " '英文打字20~50',\n",
       " 'Word',\n",
       " 'After Effects',\n",
       " '中文打字20~50',\n",
       " 'Flash']"
      ]
     },
     "execution_count": 7,
     "metadata": {},
     "output_type": "execute_result"
    }
   ],
   "source": [
    "list(set(alltools))"
   ]
  },
  {
   "cell_type": "markdown",
   "metadata": {},
   "source": [
    "用for迴圈確認所有技能的alltools裡面，每一個獨特值的資料筆數："
   ]
  },
  {
   "cell_type": "code",
   "execution_count": 8,
   "metadata": {
    "scrolled": true
   },
   "outputs": [
    {
     "name": "stdout",
     "output_type": "stream",
     "text": [
      "outlook:151 Windows_2000:149 Excel:760 Nonex:20129 英文打字2050:149 CoolDraw:116 Premiere:149 不拘:2099 3dsMax:1 AutoCAD:1 Illustrator:266 AdobePhotoshop:418 HTML:70 GoogleAnalytics:79 英文打字5075:149 PowerPoint:877 中文打字5075:149 Flash:116 AfterEffects:116 Word:844 中文打字2050:186 PhotoImpact:116\n"
     ]
    }
   ],
   "source": [
    "outlook = 0\n",
    "Windows_2000 = 0\n",
    "Excel = 0\n",
    "Nonex = 0\n",
    "英文打字2050 = 0\n",
    "CoolDraw = 0\n",
    "Premiere = 0\n",
    "不拘 = 0\n",
    "threedsMax = 0\n",
    "AutoCAD = 0\n",
    "Illustrator = 0\n",
    "AdobePhotoshop = 0\n",
    "HTML = 0\n",
    "GoogleAnalytics = 0\n",
    "英文打字5075 = 0 \n",
    "PowerPoint = 0\n",
    "中文打字5075 = 0\n",
    "Flash = 0\n",
    "AfterEffects = 0\n",
    "Word = 0\n",
    "中文打字2050 = 0\n",
    "PhotoImpact = 0\n",
    "list_to_sort = []\n",
    "for i in alltools:\n",
    "    if i == 'Outlook':\n",
    "        outlook += 1\n",
    "    elif i == 'Windows 2000':\n",
    "        Windows_2000 += 1\n",
    "    elif i == 'Excel':\n",
    "        Excel += 1\n",
    "    elif i == None:\n",
    "        Nonex += 1\n",
    "    elif i == '英文打字20~50':\n",
    "        英文打字2050 += 1\n",
    "    elif i == 'CoolDraw':\n",
    "        CoolDraw += 1\n",
    "    elif i == 'Premiere':\n",
    "        Premiere += 1\n",
    "    elif i == '不拘':\n",
    "        不拘 += 1\n",
    "    elif i == '3ds Max':\n",
    "        threedsMax += 1\n",
    "    elif i == 'AutoCAD':\n",
    "        AutoCAD += 1\n",
    "    elif i == 'Illustrator':\n",
    "        Illustrator += 1\n",
    "    elif i == 'Adobe Photoshop':\n",
    "        AdobePhotoshop += 1\n",
    "    elif i == 'HTML':\n",
    "        HTML += 1\n",
    "    elif i == 'Google Analytics':\n",
    "        GoogleAnalytics += 1\n",
    "    elif i == '英文打字50~75':\n",
    "        英文打字5075 += 1\n",
    "    elif i == 'PowerPoint':\n",
    "        PowerPoint += 1\n",
    "    elif i == '中文打字50~75':\n",
    "        中文打字5075 += 1\n",
    "    elif i == 'Flash':\n",
    "        Flash += 1\n",
    "    elif i == 'After Effects':\n",
    "        AfterEffects += 1\n",
    "    elif i == 'Word':\n",
    "        Word += 1\n",
    "    elif i == '中文打字20~50':\n",
    "        中文打字2050 += 1\n",
    "    elif i == 'PhotoImpact':\n",
    "        PhotoImpact += 1\n",
    "\n",
    "print('outlook:'+str(outlook), \n",
    "'Windows_2000:'+str(Windows_2000),\n",
    "'Excel:'+str(Excel),\n",
    "'Nonex:'+str(Nonex),\n",
    "'英文打字2050:'+str(英文打字2050),\n",
    "'CoolDraw:'+str(CoolDraw),\n",
    "'Premiere:'+str(Premiere),\n",
    "'不拘:'+str(不拘),\n",
    "'3dsMax:'+str(threedsMax),\n",
    "'AutoCAD:'+str(AutoCAD),\n",
    "'Illustrator:'+str(Illustrator),\n",
    "'AdobePhotoshop:'+str(AdobePhotoshop),\n",
    "'HTML:'+str(HTML),\n",
    "'GoogleAnalytics:'+str(GoogleAnalytics),\n",
    "'英文打字5075:'+str(英文打字5075), \n",
    "'PowerPoint:'+str(PowerPoint),\n",
    "'中文打字5075:'+str(中文打字5075),\n",
    "'Flash:'+str(Flash),\n",
    "'AfterEffects:'+str(AfterEffects),\n",
    "'Word:'+str(Word),\n",
    "'中文打字2050:'+str(中文打字2050),\n",
    "'PhotoImpact:'+str(PhotoImpact))"
   ]
  },
  {
   "cell_type": "markdown",
   "metadata": {},
   "source": [
    "我們就得到另一個結論：\n",
    "\n",
    "<h3>行銷企劃人員前6大重要技能</h3>\n",
    "\n",
    "1. PowerPoint: 877筆 <br>\n",
    "2. Word: 844筆 <br>\n",
    "3. Excel: 760筆 <br>\n",
    "4. AdobePhot shop: 418筆 <br>\n",
    "5. Illustrator: 266筆 <br>\n",
    "6. 中文打字2050: 186筆 <br>"
   ]
  },
  {
   "cell_type": "markdown",
   "metadata": {},
   "source": [
    "<h2>接下來找出至少英文要中等以上的資料筆數</h2>"
   ]
  },
  {
   "cell_type": "markdown",
   "metadata": {},
   "source": [
    "用最簡單的方式直接計算："
   ]
  },
  {
   "cell_type": "code",
   "execution_count": 9,
   "metadata": {},
   "outputs": [
    {
     "data": {
      "text/plain": [
       "不拘                                                               1861\n",
       " 英文 -- 聽 /中等、說 /中等、讀 /中等、寫 /中等                                    517\n",
       " 英文 -- 聽 /精通、說 /精通、讀 /精通、寫 /精通                                    226\n",
       " 英文 -- 聽 /略懂、說 /略懂、讀 /略懂、寫 /略懂                                    150\n",
       " 英文 -- 聽 /略懂、說 /略懂、讀 /略懂、寫 /略懂 日文 -- 聽 /略懂、說 /略懂、讀 /略懂、寫 /略懂      117\n",
       " 英文 -- 聽 /精通、說 /精通、讀 /精通、寫 /精通 日文 -- 聽 /略懂、說 /略懂、讀 /略懂、寫 /略懂       70\n",
       " 英文 -- 聽 /精通、說 /精通、讀 /精通、寫 /精通 台語 -- 精通                            33\n",
       " 日文 -- 聽 /略懂、說 /略懂、讀 /略懂、寫 /略懂 英文 -- 聽 /精通、說 /精通、讀 /精通、寫 /精通       33\n",
       " 英文 -- 聽 /中等、說 /中等、讀 /精通、寫 /精通 台語 -- 略懂                             1\n",
       " 英文 -- 聽 /中等、說 /中等、讀 /精通、寫 /精通                                      1\n",
       " 英文 -- 聽 /中等、說 /中等、讀 /中等、寫 /中等 中文 -- 聽 /精通、說 /精通、讀 /精通、寫 /精通        1\n",
       "Name: lan, dtype: int64"
      ]
     },
     "execution_count": 9,
     "metadata": {},
     "output_type": "execute_result"
    }
   ],
   "source": [
    "data['lan'].value_counts()"
   ]
  },
  {
   "cell_type": "markdown",
   "metadata": {},
   "source": [
    "用總筆數扣掉英文中等以下(也扣除不拘)的筆數："
   ]
  },
  {
   "cell_type": "code",
   "execution_count": 10,
   "metadata": {},
   "outputs": [
    {
     "data": {
      "text/plain": [
       "882"
      ]
     },
     "execution_count": 10,
     "metadata": {},
     "output_type": "execute_result"
    }
   ],
   "source": [
    "english_above_ave = 3010-1861-150-117\n",
    "english_above_ave"
   ]
  },
  {
   "cell_type": "code",
   "execution_count": 11,
   "metadata": {},
   "outputs": [
    {
     "data": {
      "text/plain": [
       "2743"
      ]
     },
     "execution_count": 11,
     "metadata": {},
     "output_type": "execute_result"
    }
   ],
   "source": [
    "english_above_ave_v2 = 3010-150-117\n",
    "english_above_ave_v2"
   ]
  },
  {
   "cell_type": "markdown",
   "metadata": {},
   "source": [
    "<h3>所以至少英文中等以上(扣除不拘)有882筆, 至少英文中等以上(保留不拘)有2743筆</h3>"
   ]
  },
  {
   "cell_type": "markdown",
   "metadata": {},
   "source": [
    "<h3>接下來重新整理出一份新的csv檔案</h3>\n",
    "\n",
    "只包含特定欄位，例如職稱、公司名稱等等"
   ]
  },
  {
   "cell_type": "code",
   "execution_count": 12,
   "metadata": {},
   "outputs": [],
   "source": [
    "data.rename(columns={'title':'職稱',\n",
    "                     'cName':'公司名稱',\n",
    "                     'workT':'工作時間',\n",
    "                     'hireNum':'最高需求人數(數字)',\n",
    "                     'workExp':'要求年資（數字）'}, inplace=True)"
   ]
  },
  {
   "cell_type": "code",
   "execution_count": 13,
   "metadata": {},
   "outputs": [
    {
     "data": {
      "text/html": [
       "<div>\n",
       "<style scoped>\n",
       "    .dataframe tbody tr th:only-of-type {\n",
       "        vertical-align: middle;\n",
       "    }\n",
       "\n",
       "    .dataframe tbody tr th {\n",
       "        vertical-align: top;\n",
       "    }\n",
       "\n",
       "    .dataframe thead th {\n",
       "        text-align: right;\n",
       "    }\n",
       "</style>\n",
       "<table border=\"1\" class=\"dataframe\">\n",
       "  <thead>\n",
       "    <tr style=\"text-align: right;\">\n",
       "      <th></th>\n",
       "      <th>職稱</th>\n",
       "      <th>公司名稱</th>\n",
       "      <th>jobLoc</th>\n",
       "      <th>工作時間</th>\n",
       "      <th>最高需求人數(數字)</th>\n",
       "      <th>salary</th>\n",
       "      <th>job_update</th>\n",
       "      <th>要求年資（數字）</th>\n",
       "      <th>edu</th>\n",
       "    </tr>\n",
       "  </thead>\n",
       "  <tbody>\n",
       "    <tr>\n",
       "      <th>0</th>\n",
       "      <td>行銷企劃</td>\n",
       "      <td>華友旅行社有限公司</td>\n",
       "      <td>台北市大安區敦化南路二段76號8樓</td>\n",
       "      <td>日班，09:00~18:00</td>\n",
       "      <td>1 人</td>\n",
       "      <td>月薪 28,000~39,000元</td>\n",
       "      <td>2019-07-10</td>\n",
       "      <td>1年以上</td>\n",
       "      <td>專科、大學、碩士</td>\n",
       "    </tr>\n",
       "    <tr>\n",
       "      <th>1</th>\n",
       "      <td>行銷企劃</td>\n",
       "      <td>羊舍鮮羊乳_健豪農產品商行</td>\n",
       "      <td>彰化縣彰化市河濱路475號</td>\n",
       "      <td>日班</td>\n",
       "      <td>1 人</td>\n",
       "      <td>月薪 35,000~40,000元</td>\n",
       "      <td>2019-07-06</td>\n",
       "      <td>2年以上</td>\n",
       "      <td>大學以上</td>\n",
       "    </tr>\n",
       "    <tr>\n",
       "      <th>2</th>\n",
       "      <td>行銷企劃</td>\n",
       "      <td>吉品養生股份有限公司</td>\n",
       "      <td>台北市大安區忠孝東路4段212號10樓</td>\n",
       "      <td>日班</td>\n",
       "      <td>不限</td>\n",
       "      <td>月薪 30,000~40,000元</td>\n",
       "      <td>2019-06-20</td>\n",
       "      <td>2年以上</td>\n",
       "      <td>專科以上</td>\n",
       "    </tr>\n",
       "  </tbody>\n",
       "</table>\n",
       "</div>"
      ],
      "text/plain": [
       "     職稱           公司名稱               jobLoc            工作時間 最高需求人數(數字)  \\\n",
       "0  行銷企劃      華友旅行社有限公司    台北市大安區敦化南路二段76號8樓  日班，09:00~18:00        1 人   \n",
       "1  行銷企劃  羊舍鮮羊乳_健豪農產品商行        彰化縣彰化市河濱路475號              日班        1 人   \n",
       "2  行銷企劃     吉品養生股份有限公司  台北市大安區忠孝東路4段212號10樓              日班         不限   \n",
       "\n",
       "              salary  job_update 要求年資（數字）       edu  \n",
       "0  月薪 28,000~39,000元  2019-07-10     1年以上  專科、大學、碩士  \n",
       "1  月薪 35,000~40,000元  2019-07-06     2年以上      大學以上  \n",
       "2  月薪 30,000~40,000元  2019-06-20     2年以上      專科以上  "
      ]
     },
     "execution_count": 13,
     "metadata": {},
     "output_type": "execute_result"
    }
   ],
   "source": [
    "cols = ['職稱','公司名稱','jobLoc','工作時間',\n",
    "        '最高需求人數(數字)','salary','job_update','要求年資（數字）','edu']\n",
    "data = data[cols]\n",
    "data.head(3)"
   ]
  },
  {
   "cell_type": "markdown",
   "metadata": {},
   "source": [
    "開始切割公司地址變成縣市、鄉鎮、路名，加上這些新的欄位到主要資料後，再刪除原始欄位："
   ]
  },
  {
   "cell_type": "code",
   "execution_count": 14,
   "metadata": {},
   "outputs": [
    {
     "data": {
      "text/html": [
       "<div>\n",
       "<style scoped>\n",
       "    .dataframe tbody tr th:only-of-type {\n",
       "        vertical-align: middle;\n",
       "    }\n",
       "\n",
       "    .dataframe tbody tr th {\n",
       "        vertical-align: top;\n",
       "    }\n",
       "\n",
       "    .dataframe thead th {\n",
       "        text-align: right;\n",
       "    }\n",
       "</style>\n",
       "<table border=\"1\" class=\"dataframe\">\n",
       "  <thead>\n",
       "    <tr style=\"text-align: right;\">\n",
       "      <th></th>\n",
       "      <th>職稱</th>\n",
       "      <th>公司名稱</th>\n",
       "      <th>工作時間</th>\n",
       "      <th>最高需求人數(數字)</th>\n",
       "      <th>salary</th>\n",
       "      <th>job_update</th>\n",
       "      <th>要求年資（數字）</th>\n",
       "      <th>edu</th>\n",
       "      <th>縣市</th>\n",
       "      <th>鄉鎮</th>\n",
       "      <th>路名</th>\n",
       "    </tr>\n",
       "  </thead>\n",
       "  <tbody>\n",
       "    <tr>\n",
       "      <th>0</th>\n",
       "      <td>行銷企劃</td>\n",
       "      <td>華友旅行社有限公司</td>\n",
       "      <td>日班，09:00~18:00</td>\n",
       "      <td>1 人</td>\n",
       "      <td>月薪 28,000~39,000元</td>\n",
       "      <td>2019-07-10</td>\n",
       "      <td>1年以上</td>\n",
       "      <td>專科、大學、碩士</td>\n",
       "      <td>台北市</td>\n",
       "      <td>大安區</td>\n",
       "      <td>敦化南路二段76號8樓</td>\n",
       "    </tr>\n",
       "    <tr>\n",
       "      <th>1</th>\n",
       "      <td>行銷企劃</td>\n",
       "      <td>羊舍鮮羊乳_健豪農產品商行</td>\n",
       "      <td>日班</td>\n",
       "      <td>1 人</td>\n",
       "      <td>月薪 35,000~40,000元</td>\n",
       "      <td>2019-07-06</td>\n",
       "      <td>2年以上</td>\n",
       "      <td>大學以上</td>\n",
       "      <td>彰化縣</td>\n",
       "      <td>彰化市</td>\n",
       "      <td>河濱路475號</td>\n",
       "    </tr>\n",
       "    <tr>\n",
       "      <th>2</th>\n",
       "      <td>行銷企劃</td>\n",
       "      <td>吉品養生股份有限公司</td>\n",
       "      <td>日班</td>\n",
       "      <td>不限</td>\n",
       "      <td>月薪 30,000~40,000元</td>\n",
       "      <td>2019-06-20</td>\n",
       "      <td>2年以上</td>\n",
       "      <td>專科以上</td>\n",
       "      <td>台北市</td>\n",
       "      <td>大安區</td>\n",
       "      <td>忠孝東路4段212號10樓</td>\n",
       "    </tr>\n",
       "  </tbody>\n",
       "</table>\n",
       "</div>"
      ],
      "text/plain": [
       "     職稱           公司名稱            工作時間 最高需求人數(數字)             salary  \\\n",
       "0  行銷企劃      華友旅行社有限公司  日班，09:00~18:00        1 人  月薪 28,000~39,000元   \n",
       "1  行銷企劃  羊舍鮮羊乳_健豪農產品商行              日班        1 人  月薪 35,000~40,000元   \n",
       "2  行銷企劃     吉品養生股份有限公司              日班         不限  月薪 30,000~40,000元   \n",
       "\n",
       "   job_update 要求年資（數字）       edu   縣市   鄉鎮             路名  \n",
       "0  2019-07-10     1年以上  專科、大學、碩士  台北市  大安區    敦化南路二段76號8樓  \n",
       "1  2019-07-06     2年以上      大學以上  彰化縣  彰化市        河濱路475號  \n",
       "2  2019-06-20     2年以上      專科以上  台北市  大安區  忠孝東路4段212號10樓  "
      ]
     },
     "execution_count": 14,
     "metadata": {},
     "output_type": "execute_result"
    }
   ],
   "source": [
    "old_jobloc = list(data['jobLoc'])\n",
    "city = []\n",
    "town = []\n",
    "road = []\n",
    "for i in old_jobloc:\n",
    "    city.append(i[0:3])\n",
    "    town.append(i[3:6])\n",
    "    road.append(i[6:])\n",
    "data['city'] = city\n",
    "data['town'] = town\n",
    "data['road'] = road\n",
    "\n",
    "data = data.drop(columns=['jobLoc'])\n",
    "data.rename(columns={'city':'縣市',\n",
    "                     'town':'鄉鎮',\n",
    "                     'road':'路名'}, inplace=True)\n",
    "\n",
    "data.head(3)"
   ]
  },
  {
   "cell_type": "markdown",
   "metadata": {},
   "source": [
    "接著整理出最高薪水："
   ]
  },
  {
   "cell_type": "code",
   "execution_count": 15,
   "metadata": {},
   "outputs": [
    {
     "data": {
      "text/html": [
       "<div>\n",
       "<style scoped>\n",
       "    .dataframe tbody tr th:only-of-type {\n",
       "        vertical-align: middle;\n",
       "    }\n",
       "\n",
       "    .dataframe tbody tr th {\n",
       "        vertical-align: top;\n",
       "    }\n",
       "\n",
       "    .dataframe thead th {\n",
       "        text-align: right;\n",
       "    }\n",
       "</style>\n",
       "<table border=\"1\" class=\"dataframe\">\n",
       "  <thead>\n",
       "    <tr style=\"text-align: right;\">\n",
       "      <th></th>\n",
       "      <th>職稱</th>\n",
       "      <th>公司名稱</th>\n",
       "      <th>工作時間</th>\n",
       "      <th>最高需求人數(數字)</th>\n",
       "      <th>job_update</th>\n",
       "      <th>要求年資（數字）</th>\n",
       "      <th>edu</th>\n",
       "      <th>縣市</th>\n",
       "      <th>鄉鎮</th>\n",
       "      <th>路名</th>\n",
       "      <th>最高月薪(數字)</th>\n",
       "    </tr>\n",
       "  </thead>\n",
       "  <tbody>\n",
       "    <tr>\n",
       "      <th>0</th>\n",
       "      <td>行銷企劃</td>\n",
       "      <td>華友旅行社有限公司</td>\n",
       "      <td>日班，09:00~18:00</td>\n",
       "      <td>1 人</td>\n",
       "      <td>2019-07-10</td>\n",
       "      <td>1年以上</td>\n",
       "      <td>專科、大學、碩士</td>\n",
       "      <td>台北市</td>\n",
       "      <td>大安區</td>\n",
       "      <td>敦化南路二段76號8樓</td>\n",
       "      <td>39,000</td>\n",
       "    </tr>\n",
       "    <tr>\n",
       "      <th>1</th>\n",
       "      <td>行銷企劃</td>\n",
       "      <td>羊舍鮮羊乳_健豪農產品商行</td>\n",
       "      <td>日班</td>\n",
       "      <td>1 人</td>\n",
       "      <td>2019-07-06</td>\n",
       "      <td>2年以上</td>\n",
       "      <td>大學以上</td>\n",
       "      <td>彰化縣</td>\n",
       "      <td>彰化市</td>\n",
       "      <td>河濱路475號</td>\n",
       "      <td>40,000</td>\n",
       "    </tr>\n",
       "    <tr>\n",
       "      <th>2</th>\n",
       "      <td>行銷企劃</td>\n",
       "      <td>吉品養生股份有限公司</td>\n",
       "      <td>日班</td>\n",
       "      <td>不限</td>\n",
       "      <td>2019-06-20</td>\n",
       "      <td>2年以上</td>\n",
       "      <td>專科以上</td>\n",
       "      <td>台北市</td>\n",
       "      <td>大安區</td>\n",
       "      <td>忠孝東路4段212號10樓</td>\n",
       "      <td>40,000</td>\n",
       "    </tr>\n",
       "  </tbody>\n",
       "</table>\n",
       "</div>"
      ],
      "text/plain": [
       "     職稱           公司名稱            工作時間 最高需求人數(數字)  job_update 要求年資（數字）  \\\n",
       "0  行銷企劃      華友旅行社有限公司  日班，09:00~18:00        1 人  2019-07-10     1年以上   \n",
       "1  行銷企劃  羊舍鮮羊乳_健豪農產品商行              日班        1 人  2019-07-06     2年以上   \n",
       "2  行銷企劃     吉品養生股份有限公司              日班         不限  2019-06-20     2年以上   \n",
       "\n",
       "        edu   縣市   鄉鎮             路名 最高月薪(數字)  \n",
       "0  專科、大學、碩士  台北市  大安區    敦化南路二段76號8樓   39,000  \n",
       "1      大學以上  彰化縣  彰化市        河濱路475號   40,000  \n",
       "2      專科以上  台北市  大安區  忠孝東路4段212號10樓   40,000  "
      ]
     },
     "execution_count": 15,
     "metadata": {},
     "output_type": "execute_result"
    }
   ],
   "source": [
    "old_salary = list(data['salary'])\n",
    "new_salary = []\n",
    "for i in old_salary:\n",
    "    new_salary.append(i[10:16])\n",
    "data['high_salary'] = new_salary\n",
    "\n",
    "data = data.drop(columns=['salary'])\n",
    "data.rename(columns={'high_salary':'最高月薪(數字)'},\n",
    "                     inplace=True)\n",
    "\n",
    "data.head(3)"
   ]
  },
  {
   "cell_type": "markdown",
   "metadata": {},
   "source": [
    "同樣整理工作職缺更新年、月份、日期："
   ]
  },
  {
   "cell_type": "code",
   "execution_count": 16,
   "metadata": {},
   "outputs": [
    {
     "data": {
      "text/html": [
       "<div>\n",
       "<style scoped>\n",
       "    .dataframe tbody tr th:only-of-type {\n",
       "        vertical-align: middle;\n",
       "    }\n",
       "\n",
       "    .dataframe tbody tr th {\n",
       "        vertical-align: top;\n",
       "    }\n",
       "\n",
       "    .dataframe thead th {\n",
       "        text-align: right;\n",
       "    }\n",
       "</style>\n",
       "<table border=\"1\" class=\"dataframe\">\n",
       "  <thead>\n",
       "    <tr style=\"text-align: right;\">\n",
       "      <th></th>\n",
       "      <th>職稱</th>\n",
       "      <th>公司名稱</th>\n",
       "      <th>工作時間</th>\n",
       "      <th>最高需求人數(數字)</th>\n",
       "      <th>要求年資（數字）</th>\n",
       "      <th>edu</th>\n",
       "      <th>縣市</th>\n",
       "      <th>鄉鎮</th>\n",
       "      <th>路名</th>\n",
       "      <th>最高月薪(數字)</th>\n",
       "      <th>更新年份</th>\n",
       "      <th>更新月份</th>\n",
       "      <th>更新日</th>\n",
       "    </tr>\n",
       "  </thead>\n",
       "  <tbody>\n",
       "    <tr>\n",
       "      <th>0</th>\n",
       "      <td>行銷企劃</td>\n",
       "      <td>華友旅行社有限公司</td>\n",
       "      <td>日班，09:00~18:00</td>\n",
       "      <td>1 人</td>\n",
       "      <td>1年以上</td>\n",
       "      <td>專科、大學、碩士</td>\n",
       "      <td>台北市</td>\n",
       "      <td>大安區</td>\n",
       "      <td>敦化南路二段76號8樓</td>\n",
       "      <td>39,000</td>\n",
       "      <td>2019</td>\n",
       "      <td>07</td>\n",
       "      <td>10</td>\n",
       "    </tr>\n",
       "    <tr>\n",
       "      <th>1</th>\n",
       "      <td>行銷企劃</td>\n",
       "      <td>羊舍鮮羊乳_健豪農產品商行</td>\n",
       "      <td>日班</td>\n",
       "      <td>1 人</td>\n",
       "      <td>2年以上</td>\n",
       "      <td>大學以上</td>\n",
       "      <td>彰化縣</td>\n",
       "      <td>彰化市</td>\n",
       "      <td>河濱路475號</td>\n",
       "      <td>40,000</td>\n",
       "      <td>2019</td>\n",
       "      <td>07</td>\n",
       "      <td>06</td>\n",
       "    </tr>\n",
       "    <tr>\n",
       "      <th>2</th>\n",
       "      <td>行銷企劃</td>\n",
       "      <td>吉品養生股份有限公司</td>\n",
       "      <td>日班</td>\n",
       "      <td>不限</td>\n",
       "      <td>2年以上</td>\n",
       "      <td>專科以上</td>\n",
       "      <td>台北市</td>\n",
       "      <td>大安區</td>\n",
       "      <td>忠孝東路4段212號10樓</td>\n",
       "      <td>40,000</td>\n",
       "      <td>2019</td>\n",
       "      <td>06</td>\n",
       "      <td>20</td>\n",
       "    </tr>\n",
       "  </tbody>\n",
       "</table>\n",
       "</div>"
      ],
      "text/plain": [
       "     職稱           公司名稱            工作時間 最高需求人數(數字) 要求年資（數字）       edu   縣市  \\\n",
       "0  行銷企劃      華友旅行社有限公司  日班，09:00~18:00        1 人     1年以上  專科、大學、碩士  台北市   \n",
       "1  行銷企劃  羊舍鮮羊乳_健豪農產品商行              日班        1 人     2年以上      大學以上  彰化縣   \n",
       "2  行銷企劃     吉品養生股份有限公司              日班         不限     2年以上      專科以上  台北市   \n",
       "\n",
       "    鄉鎮             路名 最高月薪(數字)  更新年份 更新月份 更新日  \n",
       "0  大安區    敦化南路二段76號8樓   39,000  2019   07  10  \n",
       "1  彰化市        河濱路475號   40,000  2019   07  06  \n",
       "2  大安區  忠孝東路4段212號10樓   40,000  2019   06  20  "
      ]
     },
     "execution_count": 16,
     "metadata": {},
     "output_type": "execute_result"
    }
   ],
   "source": [
    "old_job_update = list(data['job_update'])\n",
    "year = []\n",
    "month = []\n",
    "date = []\n",
    "for i in old_job_update:\n",
    "    year.append(i[0:4])\n",
    "    month.append(i[5:7])\n",
    "    date.append(i[8:])\n",
    "data['year'] = year\n",
    "data['month'] = month\n",
    "data['date'] = date\n",
    "\n",
    "data = data.drop(columns=['job_update'])\n",
    "data.rename(columns={'year':'更新年份',\n",
    "                     'month':'更新月份',\n",
    "                     'date':'更新日'},\n",
    "                     inplace=True)\n",
    "\n",
    "data.head(3)"
   ]
  },
  {
   "cell_type": "markdown",
   "metadata": {},
   "source": [
    "接著整理最低學歷，先看看學歷寫法："
   ]
  },
  {
   "cell_type": "code",
   "execution_count": 17,
   "metadata": {},
   "outputs": [
    {
     "data": {
      "text/plain": [
       "0       專科、大學、碩士\n",
       "1           大學以上\n",
       "2           專科以上\n",
       "4             不拘\n",
       "5          專科、大學\n",
       "9             大學\n",
       "11         大學、碩士\n",
       "16      高中、專科、大學\n",
       "41            碩士\n",
       "45          碩士以上\n",
       "2996        高中以上\n",
       "Name: edu, dtype: object"
      ]
     },
     "execution_count": 17,
     "metadata": {},
     "output_type": "execute_result"
    }
   ],
   "source": [
    "data['edu'].drop_duplicates()"
   ]
  },
  {
   "cell_type": "markdown",
   "metadata": {},
   "source": [
    "看來抓前幾個字就是最低學歷要求："
   ]
  },
  {
   "cell_type": "code",
   "execution_count": 18,
   "metadata": {},
   "outputs": [
    {
     "data": {
      "text/html": [
       "<div>\n",
       "<style scoped>\n",
       "    .dataframe tbody tr th:only-of-type {\n",
       "        vertical-align: middle;\n",
       "    }\n",
       "\n",
       "    .dataframe tbody tr th {\n",
       "        vertical-align: top;\n",
       "    }\n",
       "\n",
       "    .dataframe thead th {\n",
       "        text-align: right;\n",
       "    }\n",
       "</style>\n",
       "<table border=\"1\" class=\"dataframe\">\n",
       "  <thead>\n",
       "    <tr style=\"text-align: right;\">\n",
       "      <th></th>\n",
       "      <th>職稱</th>\n",
       "      <th>公司名稱</th>\n",
       "      <th>工作時間</th>\n",
       "      <th>最高需求人數(數字)</th>\n",
       "      <th>要求年資（數字）</th>\n",
       "      <th>縣市</th>\n",
       "      <th>鄉鎮</th>\n",
       "      <th>路名</th>\n",
       "      <th>最高月薪(數字)</th>\n",
       "      <th>更新年份</th>\n",
       "      <th>更新月份</th>\n",
       "      <th>更新日</th>\n",
       "      <th>最低學歷要求</th>\n",
       "    </tr>\n",
       "  </thead>\n",
       "  <tbody>\n",
       "    <tr>\n",
       "      <th>0</th>\n",
       "      <td>行銷企劃</td>\n",
       "      <td>華友旅行社有限公司</td>\n",
       "      <td>日班，09:00~18:00</td>\n",
       "      <td>1 人</td>\n",
       "      <td>1年以上</td>\n",
       "      <td>台北市</td>\n",
       "      <td>大安區</td>\n",
       "      <td>敦化南路二段76號8樓</td>\n",
       "      <td>39,000</td>\n",
       "      <td>2019</td>\n",
       "      <td>07</td>\n",
       "      <td>10</td>\n",
       "      <td>專科</td>\n",
       "    </tr>\n",
       "    <tr>\n",
       "      <th>1</th>\n",
       "      <td>行銷企劃</td>\n",
       "      <td>羊舍鮮羊乳_健豪農產品商行</td>\n",
       "      <td>日班</td>\n",
       "      <td>1 人</td>\n",
       "      <td>2年以上</td>\n",
       "      <td>彰化縣</td>\n",
       "      <td>彰化市</td>\n",
       "      <td>河濱路475號</td>\n",
       "      <td>40,000</td>\n",
       "      <td>2019</td>\n",
       "      <td>07</td>\n",
       "      <td>06</td>\n",
       "      <td>大學</td>\n",
       "    </tr>\n",
       "    <tr>\n",
       "      <th>2</th>\n",
       "      <td>行銷企劃</td>\n",
       "      <td>吉品養生股份有限公司</td>\n",
       "      <td>日班</td>\n",
       "      <td>不限</td>\n",
       "      <td>2年以上</td>\n",
       "      <td>台北市</td>\n",
       "      <td>大安區</td>\n",
       "      <td>忠孝東路4段212號10樓</td>\n",
       "      <td>40,000</td>\n",
       "      <td>2019</td>\n",
       "      <td>06</td>\n",
       "      <td>20</td>\n",
       "      <td>專科</td>\n",
       "    </tr>\n",
       "  </tbody>\n",
       "</table>\n",
       "</div>"
      ],
      "text/plain": [
       "     職稱           公司名稱            工作時間 最高需求人數(數字) 要求年資（數字）   縣市   鄉鎮  \\\n",
       "0  行銷企劃      華友旅行社有限公司  日班，09:00~18:00        1 人     1年以上  台北市  大安區   \n",
       "1  行銷企劃  羊舍鮮羊乳_健豪農產品商行              日班        1 人     2年以上  彰化縣  彰化市   \n",
       "2  行銷企劃     吉品養生股份有限公司              日班         不限     2年以上  台北市  大安區   \n",
       "\n",
       "              路名 最高月薪(數字)  更新年份 更新月份 更新日 最低學歷要求  \n",
       "0    敦化南路二段76號8樓   39,000  2019   07  10     專科  \n",
       "1        河濱路475號   40,000  2019   07  06     大學  \n",
       "2  忠孝東路4段212號10樓   40,000  2019   06  20     專科  "
      ]
     },
     "execution_count": 18,
     "metadata": {},
     "output_type": "execute_result"
    }
   ],
   "source": [
    "old_edu = list(data['edu'])\n",
    "edu = []\n",
    "for i in old_edu:\n",
    "    edu.append(i[0:2])\n",
    "data['low_edu'] = edu\n",
    "\n",
    "data = data.drop(columns=['edu'])\n",
    "data.rename(columns={'low_edu':'最低學歷要求'},\n",
    "                     inplace=True)\n",
    "\n",
    "data.head(3)"
   ]
  },
  {
   "cell_type": "markdown",
   "metadata": {},
   "source": [
    "最後把全部更新過後的欄位按照自己想要的順序排列："
   ]
  },
  {
   "cell_type": "code",
   "execution_count": 19,
   "metadata": {},
   "outputs": [
    {
     "data": {
      "text/html": [
       "<div>\n",
       "<style scoped>\n",
       "    .dataframe tbody tr th:only-of-type {\n",
       "        vertical-align: middle;\n",
       "    }\n",
       "\n",
       "    .dataframe tbody tr th {\n",
       "        vertical-align: top;\n",
       "    }\n",
       "\n",
       "    .dataframe thead th {\n",
       "        text-align: right;\n",
       "    }\n",
       "</style>\n",
       "<table border=\"1\" class=\"dataframe\">\n",
       "  <thead>\n",
       "    <tr style=\"text-align: right;\">\n",
       "      <th></th>\n",
       "      <th>職稱</th>\n",
       "      <th>公司名稱</th>\n",
       "      <th>縣市</th>\n",
       "      <th>鄉鎮</th>\n",
       "      <th>路名</th>\n",
       "      <th>工作時間</th>\n",
       "      <th>最高需求人數(數字)</th>\n",
       "      <th>最高月薪(數字)</th>\n",
       "      <th>更新年份</th>\n",
       "      <th>更新月份</th>\n",
       "      <th>更新日</th>\n",
       "      <th>要求年資（數字）</th>\n",
       "      <th>最低學歷要求</th>\n",
       "    </tr>\n",
       "  </thead>\n",
       "  <tbody>\n",
       "    <tr>\n",
       "      <th>0</th>\n",
       "      <td>行銷企劃</td>\n",
       "      <td>華友旅行社有限公司</td>\n",
       "      <td>台北市</td>\n",
       "      <td>大安區</td>\n",
       "      <td>敦化南路二段76號8樓</td>\n",
       "      <td>日班，09:00~18:00</td>\n",
       "      <td>1 人</td>\n",
       "      <td>39,000</td>\n",
       "      <td>2019</td>\n",
       "      <td>07</td>\n",
       "      <td>10</td>\n",
       "      <td>1年以上</td>\n",
       "      <td>專科</td>\n",
       "    </tr>\n",
       "    <tr>\n",
       "      <th>1</th>\n",
       "      <td>行銷企劃</td>\n",
       "      <td>羊舍鮮羊乳_健豪農產品商行</td>\n",
       "      <td>彰化縣</td>\n",
       "      <td>彰化市</td>\n",
       "      <td>河濱路475號</td>\n",
       "      <td>日班</td>\n",
       "      <td>1 人</td>\n",
       "      <td>40,000</td>\n",
       "      <td>2019</td>\n",
       "      <td>07</td>\n",
       "      <td>06</td>\n",
       "      <td>2年以上</td>\n",
       "      <td>大學</td>\n",
       "    </tr>\n",
       "    <tr>\n",
       "      <th>2</th>\n",
       "      <td>行銷企劃</td>\n",
       "      <td>吉品養生股份有限公司</td>\n",
       "      <td>台北市</td>\n",
       "      <td>大安區</td>\n",
       "      <td>忠孝東路4段212號10樓</td>\n",
       "      <td>日班</td>\n",
       "      <td>不限</td>\n",
       "      <td>40,000</td>\n",
       "      <td>2019</td>\n",
       "      <td>06</td>\n",
       "      <td>20</td>\n",
       "      <td>2年以上</td>\n",
       "      <td>專科</td>\n",
       "    </tr>\n",
       "  </tbody>\n",
       "</table>\n",
       "</div>"
      ],
      "text/plain": [
       "     職稱           公司名稱   縣市   鄉鎮             路名            工作時間 最高需求人數(數字)  \\\n",
       "0  行銷企劃      華友旅行社有限公司  台北市  大安區    敦化南路二段76號8樓  日班，09:00~18:00        1 人   \n",
       "1  行銷企劃  羊舍鮮羊乳_健豪農產品商行  彰化縣  彰化市        河濱路475號              日班        1 人   \n",
       "2  行銷企劃     吉品養生股份有限公司  台北市  大安區  忠孝東路4段212號10樓              日班         不限   \n",
       "\n",
       "  最高月薪(數字)  更新年份 更新月份 更新日 要求年資（數字） 最低學歷要求  \n",
       "0   39,000  2019   07  10     1年以上     專科  \n",
       "1   40,000  2019   07  06     2年以上     大學  \n",
       "2   40,000  2019   06  20     2年以上     專科  "
      ]
     },
     "execution_count": 19,
     "metadata": {},
     "output_type": "execute_result"
    }
   ],
   "source": [
    "cols = ['職稱','公司名稱','縣市','鄉鎮','路名','工作時間',\n",
    "        '最高需求人數(數字)','最高月薪(數字)','更新年份','更新月份','更新日','要求年資（數字）','最低學歷要求']\n",
    "data = data[cols]\n",
    "data.head(3)"
   ]
  },
  {
   "cell_type": "markdown",
   "metadata": {},
   "source": [
    "再看一次自己整理出來的新資料的全貌："
   ]
  },
  {
   "cell_type": "code",
   "execution_count": 20,
   "metadata": {},
   "outputs": [
    {
     "name": "stdout",
     "output_type": "stream",
     "text": [
      "<class 'pandas.core.frame.DataFrame'>\n",
      "RangeIndex: 3010 entries, 0 to 3009\n",
      "Data columns (total 13 columns):\n",
      " #   Column      Non-Null Count  Dtype \n",
      "---  ------      --------------  ----- \n",
      " 0   職稱          3010 non-null   object\n",
      " 1   公司名稱        3010 non-null   object\n",
      " 2   縣市          3010 non-null   object\n",
      " 3   鄉鎮          3010 non-null   object\n",
      " 4   路名          3010 non-null   object\n",
      " 5   工作時間        3010 non-null   object\n",
      " 6   最高需求人數(數字)  3010 non-null   object\n",
      " 7   最高月薪(數字)    3010 non-null   object\n",
      " 8   更新年份        3010 non-null   object\n",
      " 9   更新月份        3010 non-null   object\n",
      " 10  更新日         3010 non-null   object\n",
      " 11  要求年資（數字）    3010 non-null   object\n",
      " 12  最低學歷要求      3010 non-null   object\n",
      "dtypes: object(13)\n",
      "memory usage: 305.8+ KB\n"
     ]
    }
   ],
   "source": [
    "data.info()"
   ]
  },
  {
   "cell_type": "markdown",
   "metadata": {},
   "source": [
    "確認完畢就輸出成csv檔："
   ]
  },
  {
   "cell_type": "code",
   "execution_count": 21,
   "metadata": {},
   "outputs": [],
   "source": [
    "data.to_csv('pn110資料整理作業donev2.csv')"
   ]
  },
  {
   "cell_type": "markdown",
   "metadata": {},
   "source": [
    "<h1>這次的任務就完成了！</h1>"
   ]
  }
 ],
 "metadata": {
  "kernelspec": {
   "display_name": "Python 3",
   "language": "python",
   "name": "python3"
  },
  "language_info": {
   "codemirror_mode": {
    "name": "ipython",
    "version": 3
   },
   "file_extension": ".py",
   "mimetype": "text/x-python",
   "name": "python",
   "nbconvert_exporter": "python",
   "pygments_lexer": "ipython3",
   "version": "3.7.6"
  }
 },
 "nbformat": 4,
 "nbformat_minor": 4
}
